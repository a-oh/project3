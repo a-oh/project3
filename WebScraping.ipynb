{
 "cells": [
  {
   "cell_type": "markdown",
   "metadata": {},
   "source": [
    "# PushShift Reddit Web Scraping"
   ]
  },
  {
   "cell_type": "code",
   "execution_count": 179,
   "metadata": {
    "ExecuteTime": {
     "end_time": "2021-01-01T21:41:27.565395Z",
     "start_time": "2021-01-01T21:41:27.387971Z"
    }
   },
   "outputs": [],
   "source": [
    "import numpy as np\n",
    "import requests\n",
    "import pandas as pd\n",
    "import time\n",
    "from bs4 import BeautifulSoup\n",
    "import matplotlib.pyplot as plt\n",
    "import seaborn as sns\n",
    "sns.set_style('darkgrid')\n",
    "pd.set_option('display.max_columns', None)\n",
    "\n",
    "pd.options.display.max_colwidth = 400\n",
    "%config InlineBackend.figure_format = 'retina'"
   ]
  },
  {
   "cell_type": "markdown",
   "metadata": {},
   "source": [
    "## Fetch 50000 posts from Uplifting News with score >= 10 and comments >= 10"
   ]
  },
  {
   "cell_type": "code",
   "execution_count": 52,
   "metadata": {
    "ExecuteTime": {
     "end_time": "2020-12-29T23:56:26.796608Z",
     "start_time": "2020-12-29T23:37:54.660481Z"
    },
    "scrolled": true
   },
   "outputs": [
    {
     "name": "stdout",
     "output_type": "stream",
     "text": [
      "res 1 code:  200\n",
      "res 2 code:  200\n",
      "res 3 code:  200\n",
      "res 4 code:  200\n",
      "res 5 code:  200\n",
      "res 6 code:  200\n",
      "res 7 code:  200\n",
      "res 8 code:  200\n",
      "res 9 code:  200\n",
      "res 10 code:  502\n",
      "res 11 code:  200\n",
      "res 12 code:  200\n",
      "res 13 code:  200\n",
      "res 14 code:  200\n",
      "res 15 code:  200\n",
      "res 16 code:  200\n",
      "res 17 code:  200\n",
      "res 18 code:  200\n",
      "res 19 code:  502\n",
      "res 20 code:  502\n",
      "res 21 code:  200\n",
      "res 22 code:  200\n",
      "res 23 code:  200\n",
      "res 24 code:  200\n",
      "res 25 code:  200\n",
      "res 26 code:  200\n",
      "res 27 code:  200\n",
      "res 28 code:  200\n",
      "res 29 code:  200\n",
      "res 30 code:  200\n",
      "res 31 code:  200\n",
      "res 32 code:  200\n",
      "res 33 code:  200\n",
      "res 34 code:  200\n",
      "res 35 code:  200\n",
      "res 36 code:  200\n",
      "res 37 code:  200\n",
      "res 38 code:  200\n",
      "res 39 code:  200\n",
      "res 40 code:  200\n",
      "res 41 code:  200\n",
      "res 42 code:  200\n",
      "res 43 code:  200\n",
      "res 44 code:  200\n",
      "res 45 code:  200\n",
      "res 46 code:  200\n",
      "res 47 code:  502\n",
      "res 48 code:  200\n",
      "res 49 code:  200\n",
      "res 50 code:  200\n",
      "res 51 code:  200\n",
      "res 52 code:  200\n",
      "res 53 code:  200\n",
      "res 54 code:  200\n",
      "res 55 code:  200\n",
      "res 56 code:  200\n",
      "res 57 code:  200\n",
      "res 58 code:  200\n",
      "res 59 code:  200\n",
      "res 60 code:  200\n",
      "res 61 code:  200\n",
      "res 62 code:  200\n",
      "res 63 code:  200\n",
      "res 64 code:  200\n",
      "res 65 code:  200\n",
      "res 66 code:  200\n",
      "res 67 code:  502\n",
      "res 68 code:  200\n",
      "res 69 code:  200\n",
      "res 70 code:  200\n",
      "res 71 code:  200\n",
      "res 72 code:  200\n",
      "res 73 code:  200\n",
      "res 74 code:  200\n",
      "res 75 code:  200\n",
      "res 76 code:  200\n",
      "res 77 code:  200\n",
      "res 78 code:  200\n",
      "res 79 code:  200\n",
      "res 80 code:  200\n",
      "res 81 code:  200\n",
      "res 82 code:  200\n",
      "res 83 code:  200\n",
      "res 84 code:  200\n",
      "res 85 code:  200\n",
      "res 86 code:  200\n",
      "res 87 code:  200\n",
      "res 88 code:  200\n",
      "res 89 code:  200\n",
      "res 90 code:  200\n",
      "res 91 code:  200\n",
      "res 92 code:  200\n",
      "res 93 code:  200\n",
      "res 94 code:  200\n",
      "res 95 code:  200\n",
      "res 96 code:  200\n",
      "res 97 code:  200\n",
      "res 98 code:  200\n",
      "res 99 code:  200\n",
      "res 100 code:  200\n",
      "res 101 code:  200\n",
      "res 102 code:  200\n",
      "res 103 code:  200\n",
      "res 104 code:  200\n",
      "res 105 code:  502\n",
      "res 106 code:  200\n",
      "res 107 code:  200\n",
      "res 108 code:  200\n",
      "res 109 code:  200\n",
      "res 110 code:  200\n",
      "res 111 code:  200\n",
      "res 112 code:  200\n",
      "res 113 code:  200\n",
      "res 114 code:  200\n",
      "res 115 code:  200\n",
      "res 116 code:  200\n"
     ]
    },
    {
     "ename": "KeyError",
     "evalue": "'created_utc'",
     "output_type": "error",
     "traceback": [
      "\u001b[0;31m---------------------------------------------------------------------------\u001b[0m",
      "\u001b[0;31mKeyError\u001b[0m                                  Traceback (most recent call last)",
      "\u001b[0;32m~/opt/anaconda3/lib/python3.8/site-packages/pandas/core/indexes/base.py\u001b[0m in \u001b[0;36mget_loc\u001b[0;34m(self, key, method, tolerance)\u001b[0m\n\u001b[1;32m   2894\u001b[0m             \u001b[0;32mtry\u001b[0m\u001b[0;34m:\u001b[0m\u001b[0;34m\u001b[0m\u001b[0;34m\u001b[0m\u001b[0m\n\u001b[0;32m-> 2895\u001b[0;31m                 \u001b[0;32mreturn\u001b[0m \u001b[0mself\u001b[0m\u001b[0;34m.\u001b[0m\u001b[0m_engine\u001b[0m\u001b[0;34m.\u001b[0m\u001b[0mget_loc\u001b[0m\u001b[0;34m(\u001b[0m\u001b[0mcasted_key\u001b[0m\u001b[0;34m)\u001b[0m\u001b[0;34m\u001b[0m\u001b[0;34m\u001b[0m\u001b[0m\n\u001b[0m\u001b[1;32m   2896\u001b[0m             \u001b[0;32mexcept\u001b[0m \u001b[0mKeyError\u001b[0m \u001b[0;32mas\u001b[0m \u001b[0merr\u001b[0m\u001b[0;34m:\u001b[0m\u001b[0;34m\u001b[0m\u001b[0;34m\u001b[0m\u001b[0m\n",
      "\u001b[0;32mpandas/_libs/index.pyx\u001b[0m in \u001b[0;36mpandas._libs.index.IndexEngine.get_loc\u001b[0;34m()\u001b[0m\n",
      "\u001b[0;32mpandas/_libs/index.pyx\u001b[0m in \u001b[0;36mpandas._libs.index.IndexEngine.get_loc\u001b[0;34m()\u001b[0m\n",
      "\u001b[0;32mpandas/_libs/hashtable_class_helper.pxi\u001b[0m in \u001b[0;36mpandas._libs.hashtable.PyObjectHashTable.get_item\u001b[0;34m()\u001b[0m\n",
      "\u001b[0;32mpandas/_libs/hashtable_class_helper.pxi\u001b[0m in \u001b[0;36mpandas._libs.hashtable.PyObjectHashTable.get_item\u001b[0;34m()\u001b[0m\n",
      "\u001b[0;31mKeyError\u001b[0m: 'created_utc'",
      "\nThe above exception was the direct cause of the following exception:\n",
      "\u001b[0;31mKeyError\u001b[0m                                  Traceback (most recent call last)",
      "\u001b[0;32m<ipython-input-52-2ec30d8d2698>\u001b[0m in \u001b[0;36m<module>\u001b[0;34m\u001b[0m\n\u001b[1;32m     28\u001b[0m         \u001b[0mdfs\u001b[0m\u001b[0;34m.\u001b[0m\u001b[0mappend\u001b[0m\u001b[0;34m(\u001b[0m\u001b[0mpost_df\u001b[0m\u001b[0;34m)\u001b[0m\u001b[0;34m\u001b[0m\u001b[0;34m\u001b[0m\u001b[0m\n\u001b[1;32m     29\u001b[0m         \u001b[0;31m#get oldest post time and use as before parameter in next request\u001b[0m\u001b[0;34m\u001b[0m\u001b[0;34m\u001b[0m\u001b[0;34m\u001b[0m\u001b[0m\n\u001b[0;32m---> 30\u001b[0;31m         \u001b[0moldest\u001b[0m \u001b[0;34m=\u001b[0m \u001b[0mpost_df\u001b[0m\u001b[0;34m[\u001b[0m\u001b[0;34m'created_utc'\u001b[0m\u001b[0;34m]\u001b[0m\u001b[0;34m.\u001b[0m\u001b[0mmin\u001b[0m\u001b[0;34m(\u001b[0m\u001b[0;34m)\u001b[0m\u001b[0;34m\u001b[0m\u001b[0;34m\u001b[0m\u001b[0m\n\u001b[0m\u001b[1;32m     31\u001b[0m         \u001b[0mparams\u001b[0m\u001b[0;34m[\u001b[0m\u001b[0;34m'before'\u001b[0m\u001b[0;34m]\u001b[0m \u001b[0;34m=\u001b[0m \u001b[0moldest\u001b[0m\u001b[0;34m\u001b[0m\u001b[0;34m\u001b[0m\u001b[0m\n\u001b[1;32m     32\u001b[0m \u001b[0;34m\u001b[0m\u001b[0m\n",
      "\u001b[0;32m~/opt/anaconda3/lib/python3.8/site-packages/pandas/core/frame.py\u001b[0m in \u001b[0;36m__getitem__\u001b[0;34m(self, key)\u001b[0m\n\u001b[1;32m   2900\u001b[0m             \u001b[0;32mif\u001b[0m \u001b[0mself\u001b[0m\u001b[0;34m.\u001b[0m\u001b[0mcolumns\u001b[0m\u001b[0;34m.\u001b[0m\u001b[0mnlevels\u001b[0m \u001b[0;34m>\u001b[0m \u001b[0;36m1\u001b[0m\u001b[0;34m:\u001b[0m\u001b[0;34m\u001b[0m\u001b[0;34m\u001b[0m\u001b[0m\n\u001b[1;32m   2901\u001b[0m                 \u001b[0;32mreturn\u001b[0m \u001b[0mself\u001b[0m\u001b[0;34m.\u001b[0m\u001b[0m_getitem_multilevel\u001b[0m\u001b[0;34m(\u001b[0m\u001b[0mkey\u001b[0m\u001b[0;34m)\u001b[0m\u001b[0;34m\u001b[0m\u001b[0;34m\u001b[0m\u001b[0m\n\u001b[0;32m-> 2902\u001b[0;31m             \u001b[0mindexer\u001b[0m \u001b[0;34m=\u001b[0m \u001b[0mself\u001b[0m\u001b[0;34m.\u001b[0m\u001b[0mcolumns\u001b[0m\u001b[0;34m.\u001b[0m\u001b[0mget_loc\u001b[0m\u001b[0;34m(\u001b[0m\u001b[0mkey\u001b[0m\u001b[0;34m)\u001b[0m\u001b[0;34m\u001b[0m\u001b[0;34m\u001b[0m\u001b[0m\n\u001b[0m\u001b[1;32m   2903\u001b[0m             \u001b[0;32mif\u001b[0m \u001b[0mis_integer\u001b[0m\u001b[0;34m(\u001b[0m\u001b[0mindexer\u001b[0m\u001b[0;34m)\u001b[0m\u001b[0;34m:\u001b[0m\u001b[0;34m\u001b[0m\u001b[0;34m\u001b[0m\u001b[0m\n\u001b[1;32m   2904\u001b[0m                 \u001b[0mindexer\u001b[0m \u001b[0;34m=\u001b[0m \u001b[0;34m[\u001b[0m\u001b[0mindexer\u001b[0m\u001b[0;34m]\u001b[0m\u001b[0;34m\u001b[0m\u001b[0;34m\u001b[0m\u001b[0m\n",
      "\u001b[0;32m~/opt/anaconda3/lib/python3.8/site-packages/pandas/core/indexes/base.py\u001b[0m in \u001b[0;36mget_loc\u001b[0;34m(self, key, method, tolerance)\u001b[0m\n\u001b[1;32m   2895\u001b[0m                 \u001b[0;32mreturn\u001b[0m \u001b[0mself\u001b[0m\u001b[0;34m.\u001b[0m\u001b[0m_engine\u001b[0m\u001b[0;34m.\u001b[0m\u001b[0mget_loc\u001b[0m\u001b[0;34m(\u001b[0m\u001b[0mcasted_key\u001b[0m\u001b[0;34m)\u001b[0m\u001b[0;34m\u001b[0m\u001b[0;34m\u001b[0m\u001b[0m\n\u001b[1;32m   2896\u001b[0m             \u001b[0;32mexcept\u001b[0m \u001b[0mKeyError\u001b[0m \u001b[0;32mas\u001b[0m \u001b[0merr\u001b[0m\u001b[0;34m:\u001b[0m\u001b[0;34m\u001b[0m\u001b[0;34m\u001b[0m\u001b[0m\n\u001b[0;32m-> 2897\u001b[0;31m                 \u001b[0;32mraise\u001b[0m \u001b[0mKeyError\u001b[0m\u001b[0;34m(\u001b[0m\u001b[0mkey\u001b[0m\u001b[0;34m)\u001b[0m \u001b[0;32mfrom\u001b[0m \u001b[0merr\u001b[0m\u001b[0;34m\u001b[0m\u001b[0;34m\u001b[0m\u001b[0m\n\u001b[0m\u001b[1;32m   2898\u001b[0m \u001b[0;34m\u001b[0m\u001b[0m\n\u001b[1;32m   2899\u001b[0m         \u001b[0;32mif\u001b[0m \u001b[0mtolerance\u001b[0m \u001b[0;32mis\u001b[0m \u001b[0;32mnot\u001b[0m \u001b[0;32mNone\u001b[0m\u001b[0;34m:\u001b[0m\u001b[0;34m\u001b[0m\u001b[0;34m\u001b[0m\u001b[0m\n",
      "\u001b[0;31mKeyError\u001b[0m: 'created_utc'"
     ]
    }
   ],
   "source": [
    "\n",
    "url = 'https://api.pushshift.io/reddit/submission/search'\n",
    "dfs = []\n",
    "loops = 500\n",
    "subreddit = 'UpliftingNews'\n",
    "start_time = time.time()\n",
    "\n",
    "params = {\n",
    "    'subreddit': subreddit,\n",
    "    'size': 100,\n",
    "    'score': '>9',\n",
    "    'num_comments' : '>9',\n",
    "    'before': round(start_time)\n",
    "    }\n",
    "\n",
    "for i in range(loops):\n",
    "    current_time = time.time()\n",
    "    \n",
    "    #requesting data\n",
    "    res = requests.get(url, params)\n",
    "    print(f'res {i+1} code: ', res.status_code)\n",
    "    \n",
    "    if res.status_code != 200:\n",
    "        pass\n",
    "    else:\n",
    "        data = res.json()\n",
    "        posts = data['data']\n",
    "        post_df = pd.DataFrame(posts)\n",
    "        dfs.append(post_df)\n",
    "        #get oldest post time and use as before parameter in next request\n",
    "        oldest = post_df['created_utc'].min()\n",
    "        params['before'] = oldest\n",
    "\n",
    "    time.sleep(1)\n",
    "    \n",
    "upliftingnews = pd.concat(dfs)"
   ]
  },
  {
   "cell_type": "markdown",
   "metadata": {},
   "source": [
    "**Convert epoch to datetime**"
   ]
  },
  {
   "cell_type": "code",
   "execution_count": 54,
   "metadata": {
    "ExecuteTime": {
     "end_time": "2020-12-30T00:00:03.191435Z",
     "start_time": "2020-12-30T00:00:02.804672Z"
    }
   },
   "outputs": [
    {
     "data": {
      "text/plain": [
       "1337736782"
      ]
     },
     "execution_count": 54,
     "metadata": {},
     "output_type": "execute_result"
    }
   ],
   "source": [
    "upliftingnews = pd.concat(dfs)\n",
    "upliftingnews['created_utc'].min()"
   ]
  },
  {
   "cell_type": "markdown",
   "metadata": {},
   "source": [
    "**send the raw file to CSV** "
   ]
  },
  {
   "cell_type": "code",
   "execution_count": 56,
   "metadata": {
    "ExecuteTime": {
     "end_time": "2020-12-30T00:02:01.651961Z",
     "start_time": "2020-12-30T00:02:01.145174Z"
    },
    "scrolled": true
   },
   "outputs": [],
   "source": [
    "upliftingnews.to_csv('upliftingnews.csv', index=False)"
   ]
  },
  {
   "cell_type": "code",
   "execution_count": 57,
   "metadata": {
    "ExecuteTime": {
     "end_time": "2020-12-30T00:12:31.410440Z",
     "start_time": "2020-12-30T00:12:31.405976Z"
    }
   },
   "outputs": [
    {
     "data": {
      "text/plain": [
       "(10841, 94)"
      ]
     },
     "execution_count": 57,
     "metadata": {},
     "output_type": "execute_result"
    }
   ],
   "source": [
    "upliftingnews.shape"
   ]
  },
  {
   "cell_type": "markdown",
   "metadata": {},
   "source": [
    "## Fetch 50000 posts from NottheOnion with score >= 10 and comments >= 10"
   ]
  },
  {
   "cell_type": "code",
   "execution_count": 37,
   "metadata": {
    "ExecuteTime": {
     "end_time": "2020-12-29T23:23:01.294027Z",
     "start_time": "2020-12-29T22:31:44.124895Z"
    },
    "scrolled": true
   },
   "outputs": [
    {
     "name": "stdout",
     "output_type": "stream",
     "text": [
      "res 1 code:  200\n",
      "res 2 code:  200\n",
      "res 3 code:  200\n",
      "res 4 code:  200\n",
      "res 5 code:  200\n",
      "res 6 code:  200\n",
      "res 7 code:  200\n",
      "res 8 code:  200\n",
      "res 9 code:  502\n",
      "res 10 code:  200\n",
      "res 11 code:  200\n",
      "res 12 code:  200\n",
      "res 13 code:  200\n",
      "res 14 code:  200\n",
      "res 15 code:  200\n",
      "res 16 code:  200\n",
      "res 17 code:  200\n",
      "res 18 code:  200\n",
      "res 19 code:  200\n",
      "res 20 code:  200\n",
      "res 21 code:  200\n",
      "res 22 code:  200\n",
      "res 23 code:  200\n",
      "res 24 code:  200\n",
      "res 25 code:  200\n",
      "res 26 code:  200\n",
      "res 27 code:  200\n",
      "res 28 code:  200\n",
      "res 29 code:  200\n",
      "res 30 code:  200\n",
      "res 31 code:  200\n",
      "res 32 code:  200\n",
      "res 33 code:  200\n",
      "res 34 code:  200\n",
      "res 35 code:  200\n",
      "res 36 code:  200\n",
      "res 37 code:  200\n",
      "res 38 code:  200\n",
      "res 39 code:  200\n",
      "res 40 code:  200\n",
      "res 41 code:  200\n",
      "res 42 code:  200\n",
      "res 43 code:  200\n",
      "res 44 code:  200\n",
      "res 45 code:  200\n",
      "res 46 code:  200\n",
      "res 47 code:  200\n",
      "res 48 code:  200\n",
      "res 49 code:  200\n",
      "res 50 code:  200\n",
      "res 51 code:  200\n",
      "res 52 code:  200\n",
      "res 53 code:  200\n",
      "res 54 code:  200\n",
      "res 55 code:  200\n",
      "res 56 code:  200\n",
      "res 57 code:  200\n",
      "res 58 code:  200\n",
      "res 59 code:  200\n",
      "res 60 code:  200\n",
      "res 61 code:  200\n",
      "res 62 code:  200\n",
      "res 63 code:  502\n",
      "res 64 code:  200\n",
      "res 65 code:  200\n",
      "res 66 code:  200\n",
      "res 67 code:  200\n",
      "res 68 code:  200\n",
      "res 69 code:  200\n",
      "res 70 code:  200\n",
      "res 71 code:  200\n",
      "res 72 code:  200\n",
      "res 73 code:  200\n",
      "res 74 code:  200\n",
      "res 75 code:  200\n",
      "res 76 code:  200\n",
      "res 77 code:  200\n",
      "res 78 code:  200\n",
      "res 79 code:  200\n",
      "res 80 code:  200\n",
      "res 81 code:  200\n",
      "res 82 code:  200\n",
      "res 83 code:  200\n",
      "res 84 code:  200\n",
      "res 85 code:  200\n",
      "res 86 code:  200\n",
      "res 87 code:  200\n",
      "res 88 code:  200\n",
      "res 89 code:  200\n",
      "res 90 code:  200\n",
      "res 91 code:  502\n",
      "res 92 code:  200\n",
      "res 93 code:  200\n",
      "res 94 code:  200\n",
      "res 95 code:  200\n",
      "res 96 code:  200\n",
      "res 97 code:  200\n",
      "res 98 code:  200\n",
      "res 99 code:  200\n",
      "res 100 code:  200\n",
      "res 101 code:  200\n",
      "res 102 code:  200\n",
      "res 103 code:  200\n",
      "res 104 code:  200\n",
      "res 105 code:  200\n",
      "res 106 code:  200\n",
      "res 107 code:  200\n",
      "res 108 code:  200\n",
      "res 109 code:  200\n",
      "res 110 code:  200\n",
      "res 111 code:  200\n",
      "res 112 code:  200\n",
      "res 113 code:  200\n",
      "res 114 code:  200\n",
      "res 115 code:  200\n",
      "res 116 code:  200\n",
      "res 117 code:  200\n",
      "res 118 code:  200\n",
      "res 119 code:  200\n",
      "res 120 code:  200\n",
      "res 121 code:  200\n",
      "res 122 code:  200\n",
      "res 123 code:  502\n",
      "res 124 code:  200\n",
      "res 125 code:  200\n",
      "res 126 code:  200\n",
      "res 127 code:  200\n",
      "res 128 code:  200\n",
      "res 129 code:  200\n",
      "res 130 code:  200\n",
      "res 131 code:  200\n",
      "res 132 code:  200\n",
      "res 133 code:  200\n",
      "res 134 code:  200\n",
      "res 135 code:  200\n",
      "res 136 code:  200\n",
      "res 137 code:  200\n",
      "res 138 code:  200\n",
      "res 139 code:  200\n",
      "res 140 code:  200\n",
      "res 141 code:  200\n",
      "res 142 code:  200\n",
      "res 143 code:  200\n",
      "res 144 code:  200\n",
      "res 145 code:  200\n",
      "res 146 code:  200\n",
      "res 147 code:  200\n",
      "res 148 code:  200\n",
      "res 149 code:  200\n",
      "res 150 code:  200\n",
      "res 151 code:  200\n",
      "res 152 code:  200\n",
      "res 153 code:  200\n",
      "res 154 code:  200\n",
      "res 155 code:  200\n",
      "res 156 code:  200\n",
      "res 157 code:  200\n",
      "res 158 code:  200\n",
      "res 159 code:  200\n",
      "res 160 code:  200\n",
      "res 161 code:  200\n",
      "res 162 code:  200\n",
      "res 163 code:  200\n",
      "res 164 code:  200\n",
      "res 165 code:  200\n",
      "res 166 code:  200\n",
      "res 167 code:  200\n",
      "res 168 code:  200\n",
      "res 169 code:  200\n",
      "res 170 code:  200\n",
      "res 171 code:  200\n",
      "res 172 code:  200\n",
      "res 173 code:  200\n",
      "res 174 code:  200\n",
      "res 175 code:  200\n",
      "res 176 code:  200\n",
      "res 177 code:  200\n",
      "res 178 code:  200\n",
      "res 179 code:  200\n",
      "res 180 code:  200\n",
      "res 181 code:  200\n",
      "res 182 code:  200\n",
      "res 183 code:  200\n",
      "res 184 code:  200\n",
      "res 185 code:  200\n",
      "res 186 code:  502\n",
      "res 187 code:  200\n",
      "res 188 code:  200\n",
      "res 189 code:  200\n",
      "res 190 code:  200\n",
      "res 191 code:  200\n",
      "res 192 code:  502\n",
      "res 193 code:  200\n",
      "res 194 code:  200\n",
      "res 195 code:  200\n",
      "res 196 code:  200\n",
      "res 197 code:  200\n",
      "res 198 code:  200\n",
      "res 199 code:  200\n",
      "res 200 code:  200\n",
      "res 201 code:  200\n",
      "res 202 code:  200\n",
      "res 203 code:  200\n",
      "res 204 code:  200\n",
      "res 205 code:  200\n",
      "res 206 code:  200\n",
      "res 207 code:  200\n",
      "res 208 code:  200\n",
      "res 209 code:  200\n",
      "res 210 code:  200\n",
      "res 211 code:  200\n",
      "res 212 code:  200\n",
      "res 213 code:  200\n",
      "res 214 code:  200\n",
      "res 215 code:  200\n",
      "res 216 code:  200\n",
      "res 217 code:  200\n",
      "res 218 code:  200\n",
      "res 219 code:  200\n",
      "res 220 code:  200\n",
      "res 221 code:  200\n",
      "res 222 code:  200\n",
      "res 223 code:  200\n",
      "res 224 code:  200\n",
      "res 225 code:  200\n",
      "res 226 code:  200\n",
      "res 227 code:  200\n",
      "res 228 code:  200\n",
      "res 229 code:  200\n",
      "res 230 code:  200\n",
      "res 231 code:  200\n",
      "res 232 code:  200\n",
      "res 233 code:  200\n",
      "res 234 code:  502\n",
      "res 235 code:  200\n",
      "res 236 code:  200\n",
      "res 237 code:  200\n",
      "res 238 code:  200\n",
      "res 239 code:  200\n",
      "res 240 code:  200\n",
      "res 241 code:  200\n",
      "res 242 code:  200\n",
      "res 243 code:  200\n",
      "res 244 code:  200\n",
      "res 245 code:  200\n",
      "res 246 code:  200\n",
      "res 247 code:  200\n",
      "res 248 code:  200\n",
      "res 249 code:  200\n",
      "res 250 code:  200\n",
      "res 251 code:  200\n",
      "res 252 code:  200\n",
      "res 253 code:  200\n",
      "res 254 code:  200\n",
      "res 255 code:  200\n",
      "res 256 code:  200\n",
      "res 257 code:  200\n",
      "res 258 code:  200\n",
      "res 259 code:  502\n",
      "res 260 code:  200\n",
      "res 261 code:  200\n",
      "res 262 code:  200\n",
      "res 263 code:  200\n",
      "res 264 code:  200\n",
      "res 265 code:  200\n",
      "res 266 code:  200\n",
      "res 267 code:  200\n",
      "res 268 code:  200\n",
      "res 269 code:  200\n",
      "res 270 code:  200\n",
      "res 271 code:  200\n",
      "res 272 code:  200\n",
      "res 273 code:  200\n",
      "res 274 code:  200\n",
      "res 275 code:  200\n",
      "res 276 code:  200\n",
      "res 277 code:  200\n",
      "res 278 code:  200\n",
      "res 279 code:  200\n",
      "res 280 code:  200\n",
      "res 281 code:  200\n",
      "res 282 code:  200\n",
      "res 283 code:  200\n",
      "res 284 code:  200\n",
      "res 285 code:  200\n",
      "res 286 code:  200\n",
      "res 287 code:  200\n",
      "res 288 code:  200\n",
      "res 289 code:  200\n",
      "res 290 code:  200\n",
      "res 291 code:  200\n",
      "res 292 code:  200\n",
      "res 293 code:  200\n",
      "res 294 code:  200\n",
      "res 295 code:  200\n",
      "res 296 code:  200\n",
      "res 297 code:  200\n",
      "res 298 code:  200\n",
      "res 299 code:  200\n",
      "res 300 code:  200\n",
      "res 301 code:  200\n",
      "res 302 code:  200\n",
      "res 303 code:  200\n",
      "res 304 code:  200\n",
      "res 305 code:  200\n",
      "res 306 code:  200\n",
      "res 307 code:  200\n",
      "res 308 code:  200\n",
      "res 309 code:  200\n",
      "res 310 code:  200\n",
      "res 311 code:  200\n",
      "res 312 code:  200\n",
      "res 313 code:  200\n",
      "res 314 code:  200\n",
      "res 315 code:  200\n",
      "res 316 code:  200\n",
      "res 317 code:  200\n",
      "res 318 code:  200\n",
      "res 319 code:  200\n",
      "res 320 code:  200\n",
      "res 321 code:  200\n",
      "res 322 code:  200\n",
      "res 323 code:  200\n",
      "res 324 code:  200\n",
      "res 325 code:  200\n",
      "res 326 code:  502\n",
      "res 327 code:  200\n",
      "res 328 code:  200\n",
      "res 329 code:  200\n",
      "res 330 code:  200\n",
      "res 331 code:  200\n",
      "res 332 code:  200\n",
      "res 333 code:  200\n",
      "res 334 code:  200\n",
      "res 335 code:  200\n",
      "res 336 code:  200\n",
      "res 337 code:  200\n",
      "res 338 code:  200\n",
      "res 339 code:  200\n",
      "res 340 code:  200\n",
      "res 341 code:  200\n",
      "res 342 code:  200\n",
      "res 343 code:  200\n",
      "res 344 code:  502\n",
      "res 345 code:  200\n"
     ]
    },
    {
     "ename": "KeyError",
     "evalue": "'created_utc'",
     "output_type": "error",
     "traceback": [
      "\u001b[0;31m---------------------------------------------------------------------------\u001b[0m",
      "\u001b[0;31mKeyError\u001b[0m                                  Traceback (most recent call last)",
      "\u001b[0;32m~/opt/anaconda3/lib/python3.8/site-packages/pandas/core/indexes/base.py\u001b[0m in \u001b[0;36mget_loc\u001b[0;34m(self, key, method, tolerance)\u001b[0m\n\u001b[1;32m   2894\u001b[0m             \u001b[0;32mtry\u001b[0m\u001b[0;34m:\u001b[0m\u001b[0;34m\u001b[0m\u001b[0;34m\u001b[0m\u001b[0m\n\u001b[0;32m-> 2895\u001b[0;31m                 \u001b[0;32mreturn\u001b[0m \u001b[0mself\u001b[0m\u001b[0;34m.\u001b[0m\u001b[0m_engine\u001b[0m\u001b[0;34m.\u001b[0m\u001b[0mget_loc\u001b[0m\u001b[0;34m(\u001b[0m\u001b[0mcasted_key\u001b[0m\u001b[0;34m)\u001b[0m\u001b[0;34m\u001b[0m\u001b[0;34m\u001b[0m\u001b[0m\n\u001b[0m\u001b[1;32m   2896\u001b[0m             \u001b[0;32mexcept\u001b[0m \u001b[0mKeyError\u001b[0m \u001b[0;32mas\u001b[0m \u001b[0merr\u001b[0m\u001b[0;34m:\u001b[0m\u001b[0;34m\u001b[0m\u001b[0;34m\u001b[0m\u001b[0m\n",
      "\u001b[0;32mpandas/_libs/index.pyx\u001b[0m in \u001b[0;36mpandas._libs.index.IndexEngine.get_loc\u001b[0;34m()\u001b[0m\n",
      "\u001b[0;32mpandas/_libs/index.pyx\u001b[0m in \u001b[0;36mpandas._libs.index.IndexEngine.get_loc\u001b[0;34m()\u001b[0m\n",
      "\u001b[0;32mpandas/_libs/hashtable_class_helper.pxi\u001b[0m in \u001b[0;36mpandas._libs.hashtable.PyObjectHashTable.get_item\u001b[0;34m()\u001b[0m\n",
      "\u001b[0;32mpandas/_libs/hashtable_class_helper.pxi\u001b[0m in \u001b[0;36mpandas._libs.hashtable.PyObjectHashTable.get_item\u001b[0;34m()\u001b[0m\n",
      "\u001b[0;31mKeyError\u001b[0m: 'created_utc'",
      "\nThe above exception was the direct cause of the following exception:\n",
      "\u001b[0;31mKeyError\u001b[0m                                  Traceback (most recent call last)",
      "\u001b[0;32m<ipython-input-37-a4d8257b694d>\u001b[0m in \u001b[0;36m<module>\u001b[0;34m\u001b[0m\n\u001b[1;32m     28\u001b[0m         \u001b[0mdfs\u001b[0m\u001b[0;34m.\u001b[0m\u001b[0mappend\u001b[0m\u001b[0;34m(\u001b[0m\u001b[0mpost_df\u001b[0m\u001b[0;34m)\u001b[0m\u001b[0;34m\u001b[0m\u001b[0;34m\u001b[0m\u001b[0m\n\u001b[1;32m     29\u001b[0m         \u001b[0;31m#get oldest post time and use as before parameter in next request\u001b[0m\u001b[0;34m\u001b[0m\u001b[0;34m\u001b[0m\u001b[0;34m\u001b[0m\u001b[0m\n\u001b[0;32m---> 30\u001b[0;31m         \u001b[0moldest\u001b[0m \u001b[0;34m=\u001b[0m \u001b[0mpost_df\u001b[0m\u001b[0;34m[\u001b[0m\u001b[0;34m'created_utc'\u001b[0m\u001b[0;34m]\u001b[0m\u001b[0;34m.\u001b[0m\u001b[0mmin\u001b[0m\u001b[0;34m(\u001b[0m\u001b[0;34m)\u001b[0m\u001b[0;34m\u001b[0m\u001b[0;34m\u001b[0m\u001b[0m\n\u001b[0m\u001b[1;32m     31\u001b[0m         \u001b[0mparams\u001b[0m\u001b[0;34m[\u001b[0m\u001b[0;34m'before'\u001b[0m\u001b[0;34m]\u001b[0m \u001b[0;34m=\u001b[0m \u001b[0moldest\u001b[0m\u001b[0;34m\u001b[0m\u001b[0;34m\u001b[0m\u001b[0m\n\u001b[1;32m     32\u001b[0m \u001b[0;34m\u001b[0m\u001b[0m\n",
      "\u001b[0;32m~/opt/anaconda3/lib/python3.8/site-packages/pandas/core/frame.py\u001b[0m in \u001b[0;36m__getitem__\u001b[0;34m(self, key)\u001b[0m\n\u001b[1;32m   2900\u001b[0m             \u001b[0;32mif\u001b[0m \u001b[0mself\u001b[0m\u001b[0;34m.\u001b[0m\u001b[0mcolumns\u001b[0m\u001b[0;34m.\u001b[0m\u001b[0mnlevels\u001b[0m \u001b[0;34m>\u001b[0m \u001b[0;36m1\u001b[0m\u001b[0;34m:\u001b[0m\u001b[0;34m\u001b[0m\u001b[0;34m\u001b[0m\u001b[0m\n\u001b[1;32m   2901\u001b[0m                 \u001b[0;32mreturn\u001b[0m \u001b[0mself\u001b[0m\u001b[0;34m.\u001b[0m\u001b[0m_getitem_multilevel\u001b[0m\u001b[0;34m(\u001b[0m\u001b[0mkey\u001b[0m\u001b[0;34m)\u001b[0m\u001b[0;34m\u001b[0m\u001b[0;34m\u001b[0m\u001b[0m\n\u001b[0;32m-> 2902\u001b[0;31m             \u001b[0mindexer\u001b[0m \u001b[0;34m=\u001b[0m \u001b[0mself\u001b[0m\u001b[0;34m.\u001b[0m\u001b[0mcolumns\u001b[0m\u001b[0;34m.\u001b[0m\u001b[0mget_loc\u001b[0m\u001b[0;34m(\u001b[0m\u001b[0mkey\u001b[0m\u001b[0;34m)\u001b[0m\u001b[0;34m\u001b[0m\u001b[0;34m\u001b[0m\u001b[0m\n\u001b[0m\u001b[1;32m   2903\u001b[0m             \u001b[0;32mif\u001b[0m \u001b[0mis_integer\u001b[0m\u001b[0;34m(\u001b[0m\u001b[0mindexer\u001b[0m\u001b[0;34m)\u001b[0m\u001b[0;34m:\u001b[0m\u001b[0;34m\u001b[0m\u001b[0;34m\u001b[0m\u001b[0m\n\u001b[1;32m   2904\u001b[0m                 \u001b[0mindexer\u001b[0m \u001b[0;34m=\u001b[0m \u001b[0;34m[\u001b[0m\u001b[0mindexer\u001b[0m\u001b[0;34m]\u001b[0m\u001b[0;34m\u001b[0m\u001b[0;34m\u001b[0m\u001b[0m\n",
      "\u001b[0;32m~/opt/anaconda3/lib/python3.8/site-packages/pandas/core/indexes/base.py\u001b[0m in \u001b[0;36mget_loc\u001b[0;34m(self, key, method, tolerance)\u001b[0m\n\u001b[1;32m   2895\u001b[0m                 \u001b[0;32mreturn\u001b[0m \u001b[0mself\u001b[0m\u001b[0;34m.\u001b[0m\u001b[0m_engine\u001b[0m\u001b[0;34m.\u001b[0m\u001b[0mget_loc\u001b[0m\u001b[0;34m(\u001b[0m\u001b[0mcasted_key\u001b[0m\u001b[0;34m)\u001b[0m\u001b[0;34m\u001b[0m\u001b[0;34m\u001b[0m\u001b[0m\n\u001b[1;32m   2896\u001b[0m             \u001b[0;32mexcept\u001b[0m \u001b[0mKeyError\u001b[0m \u001b[0;32mas\u001b[0m \u001b[0merr\u001b[0m\u001b[0;34m:\u001b[0m\u001b[0;34m\u001b[0m\u001b[0;34m\u001b[0m\u001b[0m\n\u001b[0;32m-> 2897\u001b[0;31m                 \u001b[0;32mraise\u001b[0m \u001b[0mKeyError\u001b[0m\u001b[0;34m(\u001b[0m\u001b[0mkey\u001b[0m\u001b[0;34m)\u001b[0m \u001b[0;32mfrom\u001b[0m \u001b[0merr\u001b[0m\u001b[0;34m\u001b[0m\u001b[0;34m\u001b[0m\u001b[0m\n\u001b[0m\u001b[1;32m   2898\u001b[0m \u001b[0;34m\u001b[0m\u001b[0m\n\u001b[1;32m   2899\u001b[0m         \u001b[0;32mif\u001b[0m \u001b[0mtolerance\u001b[0m \u001b[0;32mis\u001b[0m \u001b[0;32mnot\u001b[0m \u001b[0;32mNone\u001b[0m\u001b[0;34m:\u001b[0m\u001b[0;34m\u001b[0m\u001b[0;34m\u001b[0m\u001b[0m\n",
      "\u001b[0;31mKeyError\u001b[0m: 'created_utc'"
     ]
    }
   ],
   "source": [
    "url = 'https://api.pushshift.io/reddit/submission/search'\n",
    "dfs = []\n",
    "loops = 500\n",
    "subreddit = 'nottheonion'\n",
    "start_time = time.time()\n",
    "\n",
    "params = {\n",
    "    'subreddit': subreddit,\n",
    "    'size': 100,\n",
    "    'score': '>9',\n",
    "    'num_comments': '>9',\n",
    "    'before': round(start_time)\n",
    "}\n",
    "\n",
    "for i in range(loops):\n",
    "    current_time = time.time()\n",
    "\n",
    "    #requesting data\n",
    "    res = requests.get(url, params)\n",
    "    print(f'res {i+1} code: ', res.status_code)\n",
    "\n",
    "    if res.status_code != 200:\n",
    "        pass\n",
    "    else:\n",
    "        data = res.json()\n",
    "        posts = data['data']\n",
    "        post_df = pd.DataFrame(posts)\n",
    "        dfs.append(post_df)\n",
    "        #get oldest post time and use as before parameter in next request\n",
    "        oldest = post_df['created_utc'].min()\n",
    "        params['before'] = oldest\n",
    "\n",
    "    time.sleep(1)\n",
    "\n",
    "nottheonion1 = pd.concat(dfs)"
   ]
  },
  {
   "cell_type": "markdown",
   "metadata": {},
   "source": [
    "**Convert epoch to datetime**"
   ]
  },
  {
   "cell_type": "code",
   "execution_count": 46,
   "metadata": {
    "ExecuteTime": {
     "end_time": "2020-12-29T23:28:45.622666Z",
     "start_time": "2020-12-29T23:28:44.641669Z"
    }
   },
   "outputs": [
    {
     "data": {
      "text/plain": [
       "1331490414"
      ]
     },
     "execution_count": 46,
     "metadata": {},
     "output_type": "execute_result"
    }
   ],
   "source": [
    "\n",
    "nottheonion1['created_utc'].min()"
   ]
  },
  {
   "cell_type": "markdown",
   "metadata": {},
   "source": [
    "**send the raw file to CSV** "
   ]
  },
  {
   "cell_type": "code",
   "execution_count": 55,
   "metadata": {
    "ExecuteTime": {
     "end_time": "2020-12-30T00:01:29.540233Z",
     "start_time": "2020-12-30T00:01:27.987075Z"
    },
    "scrolled": true
   },
   "outputs": [],
   "source": [
    "nottheonion1.to_csv('nottheonion.csv', index=False)"
   ]
  },
  {
   "cell_type": "markdown",
   "metadata": {},
   "source": [
    "# EDA"
   ]
  },
  {
   "cell_type": "code",
   "execution_count": 180,
   "metadata": {
    "ExecuteTime": {
     "end_time": "2021-01-01T21:42:05.067367Z",
     "start_time": "2021-01-01T21:42:04.105182Z"
    }
   },
   "outputs": [
    {
     "name": "stderr",
     "output_type": "stream",
     "text": [
      "/Users/alyssiaoh/opt/anaconda3/lib/python3.8/site-packages/IPython/core/interactiveshell.py:3146: DtypeWarning: Columns (0,1,3,4,5,6,8,9,10,11,12,14,15,18,20,21,22,23,24,26,27,28,29,30,31,32,33,37,39,40,41,46,47,48,52,58,61,62,65,66,68,70,71,74,76,78,79,80,81,82,85,88,89,90,92,93,94,95,100,101) have mixed types.Specify dtype option on import or set low_memory=False.\n",
      "  has_raised = await self.run_ast_nodes(code_ast.body, cell_name,\n"
     ]
    }
   ],
   "source": [
    "nottheonion = pd.read_csv('nottheonion.csv')"
   ]
  },
  {
   "cell_type": "code",
   "execution_count": 181,
   "metadata": {
    "ExecuteTime": {
     "end_time": "2021-01-01T21:42:19.688019Z",
     "start_time": "2021-01-01T21:42:19.684605Z"
    }
   },
   "outputs": [
    {
     "data": {
      "text/plain": [
       "(33323, 102)"
      ]
     },
     "execution_count": 181,
     "metadata": {},
     "output_type": "execute_result"
    }
   ],
   "source": [
    "nottheonion1.shape"
   ]
  },
  {
   "cell_type": "code",
   "execution_count": 182,
   "metadata": {
    "ExecuteTime": {
     "end_time": "2021-01-01T21:42:34.161673Z",
     "start_time": "2021-01-01T21:42:34.151501Z"
    },
    "scrolled": true
   },
   "outputs": [
    {
     "data": {
      "text/plain": [
       "Index(['all_awardings', 'allow_live_comments', 'author',\n",
       "       'author_flair_css_class', 'author_flair_richtext', 'author_flair_text',\n",
       "       'author_flair_type', 'author_fullname', 'author_patreon_flair',\n",
       "       'author_premium',\n",
       "       ...\n",
       "       'subreddit_name_prefixed', 'suggested_sort', 'brand_safe',\n",
       "       'previous_visits', 'edited', 'approved_at_utc', 'banned_at_utc',\n",
       "       'view_count', 'mod_reports', 'user_reports'],\n",
       "      dtype='object', length=102)"
      ]
     },
     "execution_count": 182,
     "metadata": {},
     "output_type": "execute_result"
    }
   ],
   "source": [
    "nottheonion.columns"
   ]
  },
  {
   "cell_type": "code",
   "execution_count": 183,
   "metadata": {
    "ExecuteTime": {
     "end_time": "2021-01-01T21:42:48.992107Z",
     "start_time": "2021-01-01T21:42:48.977594Z"
    }
   },
   "outputs": [],
   "source": [
    "nottheonion['datetime'] = pd.to_datetime(nottheonion['created_utc'], unit='s')"
   ]
  },
  {
   "cell_type": "code",
   "execution_count": 186,
   "metadata": {
    "ExecuteTime": {
     "end_time": "2021-01-01T21:43:43.924605Z",
     "start_time": "2021-01-01T21:43:43.736584Z"
    }
   },
   "outputs": [],
   "source": [
    "\n",
    "nottheonion.drop_duplicates(keep=False, inplace=True)"
   ]
  },
  {
   "cell_type": "code",
   "execution_count": 187,
   "metadata": {
    "ExecuteTime": {
     "end_time": "2021-01-01T21:43:58.430665Z",
     "start_time": "2021-01-01T21:43:58.428775Z"
    }
   },
   "outputs": [
    {
     "data": {
      "text/plain": [
       "(33323, 103)"
      ]
     },
     "execution_count": 187,
     "metadata": {},
     "output_type": "execute_result"
    }
   ],
   "source": [
    "nottheonion.shape"
   ]
  },
  {
   "cell_type": "code",
   "execution_count": 172,
   "metadata": {
    "ExecuteTime": {
     "end_time": "2020-12-31T01:30:29.003920Z",
     "start_time": "2020-12-31T01:30:29.001320Z"
    }
   },
   "outputs": [],
   "source": [
    "nottheonion_df = nottheonion[['datetime', 'title', 'score', 'num_comments']]"
   ]
  },
  {
   "cell_type": "code",
   "execution_count": 58,
   "metadata": {
    "ExecuteTime": {
     "end_time": "2020-12-30T00:14:10.713653Z",
     "start_time": "2020-12-30T00:14:10.419975Z"
    }
   },
   "outputs": [
    {
     "name": "stderr",
     "output_type": "stream",
     "text": [
      "/Users/alyssiaoh/opt/anaconda3/lib/python3.8/site-packages/IPython/core/interactiveshell.py:3146: DtypeWarning: Columns (0,1,4,6,8,9,10,11,12,16,18,19,20,21,22,24,26,27,28,29,30,31,35,37,44,45,46,50,56,59,60,62,63,64,66,68,69,72,73,75,76,79,80,81,82,85,92,93) have mixed types.Specify dtype option on import or set low_memory=False.\n",
      "  has_raised = await self.run_ast_nodes(code_ast.body, cell_name,\n"
     ]
    }
   ],
   "source": [
    "uplifting = pd.read_csv('upliftingnews.csv')"
   ]
  },
  {
   "cell_type": "code",
   "execution_count": 126,
   "metadata": {
    "ExecuteTime": {
     "end_time": "2020-12-30T02:04:23.795786Z",
     "start_time": "2020-12-30T02:04:23.775799Z"
    }
   },
   "outputs": [],
   "source": [
    "uplifting_df = uplifting[['datetime', 'title', 'score', 'num_comments']]"
   ]
  },
  {
   "cell_type": "code",
   "execution_count": 127,
   "metadata": {
    "ExecuteTime": {
     "end_time": "2020-12-30T02:04:27.081216Z",
     "start_time": "2020-12-30T02:04:27.075712Z"
    }
   },
   "outputs": [
    {
     "data": {
      "text/html": [
       "<div>\n",
       "<style scoped>\n",
       "    .dataframe tbody tr th:only-of-type {\n",
       "        vertical-align: middle;\n",
       "    }\n",
       "\n",
       "    .dataframe tbody tr th {\n",
       "        vertical-align: top;\n",
       "    }\n",
       "\n",
       "    .dataframe thead th {\n",
       "        text-align: right;\n",
       "    }\n",
       "</style>\n",
       "<table border=\"1\" class=\"dataframe\">\n",
       "  <thead>\n",
       "    <tr style=\"text-align: right;\">\n",
       "      <th></th>\n",
       "      <th>datetime</th>\n",
       "      <th>title</th>\n",
       "      <th>score</th>\n",
       "      <th>num_comments</th>\n",
       "    </tr>\n",
       "  </thead>\n",
       "  <tbody>\n",
       "    <tr>\n",
       "      <th>0</th>\n",
       "      <td>2020-12-19 18:01:37</td>\n",
       "      <td>Anthony Fauci reassures small children with claim to have vaccinated Santa</td>\n",
       "      <td>10</td>\n",
       "      <td>11</td>\n",
       "    </tr>\n",
       "    <tr>\n",
       "      <th>1</th>\n",
       "      <td>2020-12-19 17:16:47</td>\n",
       "      <td>Anthony Fauci reassures small children with claim to have vaccinated Santa | US news</td>\n",
       "      <td>13</td>\n",
       "      <td>28</td>\n",
       "    </tr>\n",
       "    <tr>\n",
       "      <th>2</th>\n",
       "      <td>2020-12-19 09:33:05</td>\n",
       "      <td>Mongolia will pay for electricity, water, heat and garbage collection for all Of Its citizens For Seven Months To Help With COVID-19 Recovery</td>\n",
       "      <td>109</td>\n",
       "      <td>1194</td>\n",
       "    </tr>\n",
       "    <tr>\n",
       "      <th>3</th>\n",
       "      <td>2020-12-19 07:29:26</td>\n",
       "      <td>Small-business advocate releases free browser plugin that provides local alternatives to products on Amazon &amp;amp; other corporate sites</td>\n",
       "      <td>63</td>\n",
       "      <td>13</td>\n",
       "    </tr>\n",
       "    <tr>\n",
       "      <th>4</th>\n",
       "      <td>2020-12-19 03:07:28</td>\n",
       "      <td>The Moderna Covid-19 vaccine has been given authorisation for use in the US by the country’s Food and Drug Administration (FDA).</td>\n",
       "      <td>55</td>\n",
       "      <td>13</td>\n",
       "    </tr>\n",
       "  </tbody>\n",
       "</table>\n",
       "</div>"
      ],
      "text/plain": [
       "             datetime  \\\n",
       "0 2020-12-19 18:01:37   \n",
       "1 2020-12-19 17:16:47   \n",
       "2 2020-12-19 09:33:05   \n",
       "3 2020-12-19 07:29:26   \n",
       "4 2020-12-19 03:07:28   \n",
       "\n",
       "                                                                                                                                           title  \\\n",
       "0                                                                     Anthony Fauci reassures small children with claim to have vaccinated Santa   \n",
       "1                                                           Anthony Fauci reassures small children with claim to have vaccinated Santa | US news   \n",
       "2  Mongolia will pay for electricity, water, heat and garbage collection for all Of Its citizens For Seven Months To Help With COVID-19 Recovery   \n",
       "3        Small-business advocate releases free browser plugin that provides local alternatives to products on Amazon &amp; other corporate sites   \n",
       "4               The Moderna Covid-19 vaccine has been given authorisation for use in the US by the country’s Food and Drug Administration (FDA).   \n",
       "\n",
       "   score  num_comments  \n",
       "0     10            11  \n",
       "1     13            28  \n",
       "2    109          1194  \n",
       "3     63            13  \n",
       "4     55            13  "
      ]
     },
     "execution_count": 127,
     "metadata": {},
     "output_type": "execute_result"
    }
   ],
   "source": [
    "uplifting_df.head()"
   ]
  },
  {
   "cell_type": "code",
   "execution_count": 141,
   "metadata": {
    "ExecuteTime": {
     "end_time": "2020-12-31T00:43:19.696322Z",
     "start_time": "2020-12-31T00:43:19.356563Z"
    }
   },
   "outputs": [],
   "source": [
    "uplifting.drop_duplicates(keep=False, inplace=True)"
   ]
  },
  {
   "cell_type": "code",
   "execution_count": 153,
   "metadata": {
    "ExecuteTime": {
     "end_time": "2020-12-31T01:19:45.064085Z",
     "start_time": "2020-12-31T01:19:45.044301Z"
    }
   },
   "outputs": [],
   "source": [
    "uplifting['datetime'] = pd.to_datetime(uplifting['created_utc'], unit='s')"
   ]
  },
  {
   "cell_type": "code",
   "execution_count": 128,
   "metadata": {
    "ExecuteTime": {
     "end_time": "2020-12-30T02:04:34.475614Z",
     "start_time": "2020-12-30T02:04:34.441611Z"
    }
   },
   "outputs": [
    {
     "data": {
      "text/html": [
       "<div>\n",
       "<style scoped>\n",
       "    .dataframe tbody tr th:only-of-type {\n",
       "        vertical-align: middle;\n",
       "    }\n",
       "\n",
       "    .dataframe tbody tr th {\n",
       "        vertical-align: top;\n",
       "    }\n",
       "\n",
       "    .dataframe thead th {\n",
       "        text-align: right;\n",
       "    }\n",
       "</style>\n",
       "<table border=\"1\" class=\"dataframe\">\n",
       "  <thead>\n",
       "    <tr style=\"text-align: right;\">\n",
       "      <th></th>\n",
       "      <th>score</th>\n",
       "      <th>num_comments</th>\n",
       "    </tr>\n",
       "  </thead>\n",
       "  <tbody>\n",
       "    <tr>\n",
       "      <th>count</th>\n",
       "      <td>33323.000000</td>\n",
       "      <td>33323.000000</td>\n",
       "    </tr>\n",
       "    <tr>\n",
       "      <th>mean</th>\n",
       "      <td>1605.733847</td>\n",
       "      <td>174.987636</td>\n",
       "    </tr>\n",
       "    <tr>\n",
       "      <th>std</th>\n",
       "      <td>5965.549152</td>\n",
       "      <td>524.113909</td>\n",
       "    </tr>\n",
       "    <tr>\n",
       "      <th>min</th>\n",
       "      <td>10.000000</td>\n",
       "      <td>10.000000</td>\n",
       "    </tr>\n",
       "    <tr>\n",
       "      <th>25%</th>\n",
       "      <td>50.000000</td>\n",
       "      <td>15.000000</td>\n",
       "    </tr>\n",
       "    <tr>\n",
       "      <th>50%</th>\n",
       "      <td>130.000000</td>\n",
       "      <td>27.000000</td>\n",
       "    </tr>\n",
       "    <tr>\n",
       "      <th>75%</th>\n",
       "      <td>498.000000</td>\n",
       "      <td>81.000000</td>\n",
       "    </tr>\n",
       "    <tr>\n",
       "      <th>max</th>\n",
       "      <td>118958.000000</td>\n",
       "      <td>11664.000000</td>\n",
       "    </tr>\n",
       "  </tbody>\n",
       "</table>\n",
       "</div>"
      ],
      "text/plain": [
       "               score  num_comments\n",
       "count   33323.000000  33323.000000\n",
       "mean     1605.733847    174.987636\n",
       "std      5965.549152    524.113909\n",
       "min        10.000000     10.000000\n",
       "25%        50.000000     15.000000\n",
       "50%       130.000000     27.000000\n",
       "75%       498.000000     81.000000\n",
       "max    118958.000000  11664.000000"
      ]
     },
     "execution_count": 128,
     "metadata": {},
     "output_type": "execute_result"
    }
   ],
   "source": [
    "nottheonion_df.describe()"
   ]
  },
  {
   "cell_type": "code",
   "execution_count": 129,
   "metadata": {
    "ExecuteTime": {
     "end_time": "2021-01-01T21:39:27.365212Z",
     "start_time": "2021-01-01T21:39:27.282600Z"
    }
   },
   "outputs": [
    {
     "data": {
      "text/html": [
       "<div>\n",
       "<style scoped>\n",
       "    .dataframe tbody tr th:only-of-type {\n",
       "        vertical-align: middle;\n",
       "    }\n",
       "\n",
       "    .dataframe tbody tr th {\n",
       "        vertical-align: top;\n",
       "    }\n",
       "\n",
       "    .dataframe thead th {\n",
       "        text-align: right;\n",
       "    }\n",
       "</style>\n",
       "<table border=\"1\" class=\"dataframe\">\n",
       "  <thead>\n",
       "    <tr style=\"text-align: right;\">\n",
       "      <th></th>\n",
       "      <th>score</th>\n",
       "      <th>num_comments</th>\n",
       "    </tr>\n",
       "  </thead>\n",
       "  <tbody>\n",
       "    <tr>\n",
       "      <th>count</th>\n",
       "      <td>10841.000000</td>\n",
       "      <td>10841.000000</td>\n",
       "    </tr>\n",
       "    <tr>\n",
       "      <th>mean</th>\n",
       "      <td>4255.518679</td>\n",
       "      <td>212.943363</td>\n",
       "    </tr>\n",
       "    <tr>\n",
       "      <th>std</th>\n",
       "      <td>9500.215832</td>\n",
       "      <td>423.031163</td>\n",
       "    </tr>\n",
       "    <tr>\n",
       "      <th>min</th>\n",
       "      <td>10.000000</td>\n",
       "      <td>10.000000</td>\n",
       "    </tr>\n",
       "    <tr>\n",
       "      <th>25%</th>\n",
       "      <td>130.000000</td>\n",
       "      <td>17.000000</td>\n",
       "    </tr>\n",
       "    <tr>\n",
       "      <th>50%</th>\n",
       "      <td>507.000000</td>\n",
       "      <td>40.000000</td>\n",
       "    </tr>\n",
       "    <tr>\n",
       "      <th>75%</th>\n",
       "      <td>3121.000000</td>\n",
       "      <td>210.000000</td>\n",
       "    </tr>\n",
       "    <tr>\n",
       "      <th>max</th>\n",
       "      <td>124278.000000</td>\n",
       "      <td>6022.000000</td>\n",
       "    </tr>\n",
       "  </tbody>\n",
       "</table>\n",
       "</div>"
      ],
      "text/plain": [
       "               score  num_comments\n",
       "count   10841.000000  10841.000000\n",
       "mean     4255.518679    212.943363\n",
       "std      9500.215832    423.031163\n",
       "min        10.000000     10.000000\n",
       "25%       130.000000     17.000000\n",
       "50%       507.000000     40.000000\n",
       "75%      3121.000000    210.000000\n",
       "max    124278.000000   6022.000000"
      ]
     },
     "execution_count": 129,
     "metadata": {},
     "output_type": "execute_result"
    }
   ],
   "source": [
    "uplifting_df.describe()"
   ]
  },
  {
   "cell_type": "code",
   "execution_count": 131,
   "metadata": {
    "ExecuteTime": {
     "end_time": "2020-12-30T02:05:42.246055Z",
     "start_time": "2020-12-30T02:05:42.239153Z"
    }
   },
   "outputs": [
    {
     "data": {
      "text/html": [
       "<div>\n",
       "<style scoped>\n",
       "    .dataframe tbody tr th:only-of-type {\n",
       "        vertical-align: middle;\n",
       "    }\n",
       "\n",
       "    .dataframe tbody tr th {\n",
       "        vertical-align: top;\n",
       "    }\n",
       "\n",
       "    .dataframe thead th {\n",
       "        text-align: right;\n",
       "    }\n",
       "</style>\n",
       "<table border=\"1\" class=\"dataframe\">\n",
       "  <thead>\n",
       "    <tr style=\"text-align: right;\">\n",
       "      <th></th>\n",
       "      <th>score</th>\n",
       "      <th>num_comments</th>\n",
       "    </tr>\n",
       "  </thead>\n",
       "  <tbody>\n",
       "    <tr>\n",
       "      <th>count</th>\n",
       "      <td>10841.000000</td>\n",
       "      <td>10841.000000</td>\n",
       "    </tr>\n",
       "    <tr>\n",
       "      <th>mean</th>\n",
       "      <td>4255.518679</td>\n",
       "      <td>212.943363</td>\n",
       "    </tr>\n",
       "    <tr>\n",
       "      <th>std</th>\n",
       "      <td>9500.215832</td>\n",
       "      <td>423.031163</td>\n",
       "    </tr>\n",
       "    <tr>\n",
       "      <th>min</th>\n",
       "      <td>10.000000</td>\n",
       "      <td>10.000000</td>\n",
       "    </tr>\n",
       "    <tr>\n",
       "      <th>25%</th>\n",
       "      <td>130.000000</td>\n",
       "      <td>17.000000</td>\n",
       "    </tr>\n",
       "    <tr>\n",
       "      <th>50%</th>\n",
       "      <td>507.000000</td>\n",
       "      <td>40.000000</td>\n",
       "    </tr>\n",
       "    <tr>\n",
       "      <th>75%</th>\n",
       "      <td>3121.000000</td>\n",
       "      <td>210.000000</td>\n",
       "    </tr>\n",
       "    <tr>\n",
       "      <th>max</th>\n",
       "      <td>124278.000000</td>\n",
       "      <td>6022.000000</td>\n",
       "    </tr>\n",
       "  </tbody>\n",
       "</table>\n",
       "</div>"
      ],
      "text/plain": [
       "               score  num_comments\n",
       "count   10841.000000  10841.000000\n",
       "mean     4255.518679    212.943363\n",
       "std      9500.215832    423.031163\n",
       "min        10.000000     10.000000\n",
       "25%       130.000000     17.000000\n",
       "50%       507.000000     40.000000\n",
       "75%      3121.000000    210.000000\n",
       "max    124278.000000   6022.000000"
      ]
     },
     "execution_count": 131,
     "metadata": {},
     "output_type": "execute_result"
    }
   ],
   "source": [
    "uplifting_df.describe()"
   ]
  },
  {
   "cell_type": "code",
   "execution_count": 132,
   "metadata": {
    "ExecuteTime": {
     "end_time": "2020-12-30T02:06:24.317233Z",
     "start_time": "2020-12-30T02:06:20.389192Z"
    },
    "scrolled": true
   },
   "outputs": [
    {
     "data": {
      "text/plain": [
       "(0.0, 1000.0)"
      ]
     },
     "execution_count": 132,
     "metadata": {},
     "output_type": "execute_result"
    },
    {
     "data": {
      "image/png": "[encoded data removed]",
      "text/plain": [
       "<Figure size 432x288 with 1 Axes>"
      ]
     },
     "metadata": {
      "image/png": {
       "height": 261,
       "width": 397
      }
     },
     "output_type": "display_data"
    }
   ],
   "source": [
    "sns.histplot(uplifting_df['score'], bins=5000)\n",
    "plt.xlim(0, 1000)"
   ]
  },
  {
   "cell_type": "code",
   "execution_count": 135,
   "metadata": {
    "ExecuteTime": {
     "end_time": "2020-12-30T02:07:19.354763Z",
     "start_time": "2020-12-30T02:07:15.191293Z"
    }
   },
   "outputs": [
    {
     "data": {
      "text/plain": [
       "(0.0, 1000.0)"
      ]
     },
     "execution_count": 135,
     "metadata": {},
     "output_type": "execute_result"
    },
    {
     "data": {
      "image/png": "[encoded data removed]",
      "text/plain": [
       "<Figure size 432x288 with 1 Axes>"
      ]
     },
     "metadata": {
      "image/png": {
       "height": 261,
       "width": 403
      }
     },
     "output_type": "display_data"
    }
   ],
   "source": [
    "sns.histplot(nottheonion_df['score'], bins=5000)\n",
    "plt.xlim(0, 1000)"
   ]
  },
  {
   "cell_type": "code",
   "execution_count": 176,
   "metadata": {
    "ExecuteTime": {
     "end_time": "2020-12-31T01:31:28.856014Z",
     "start_time": "2020-12-31T01:31:28.850295Z"
    }
   },
   "outputs": [
    {
     "data": {
      "text/plain": [
       "10084"
      ]
     },
     "execution_count": 176,
     "metadata": {},
     "output_type": "execute_result"
    }
   ],
   "source": [
    "nottheonion_df['title'].nunique()"
   ]
  },
  {
   "cell_type": "code",
   "execution_count": 175,
   "metadata": {
    "ExecuteTime": {
     "end_time": "2020-12-31T01:31:17.386707Z",
     "start_time": "2020-12-31T01:31:17.383212Z"
    }
   },
   "outputs": [],
   "source": [
    "nottheonion_df = nottheonion_df.loc[0:10736]"
   ]
  },
  {
   "cell_type": "code",
   "execution_count": 142,
   "metadata": {
    "ExecuteTime": {
     "end_time": "2020-12-31T00:44:42.685996Z",
     "start_time": "2020-12-31T00:44:42.659875Z"
    }
   },
   "outputs": [
    {
     "data": {
      "text/plain": [
       "10736"
      ]
     },
     "execution_count": 142,
     "metadata": {},
     "output_type": "execute_result"
    }
   ],
   "source": [
    "uplifting_df['title'].nunique()"
   ]
  },
  {
   "cell_type": "code",
   "execution_count": 140,
   "metadata": {
    "ExecuteTime": {
     "end_time": "2020-12-31T00:41:25.503562Z",
     "start_time": "2020-12-31T00:41:25.466818Z"
    }
   },
   "outputs": [
    {
     "name": "stderr",
     "output_type": "stream",
     "text": [
      "<ipython-input-140-573d9b82c87c>:1: SettingWithCopyWarning: \n",
      "A value is trying to be set on a copy of a slice from a DataFrame\n",
      "\n",
      "See the caveats in the documentation: https://pandas.pydata.org/pandas-docs/stable/user_guide/indexing.html#returning-a-view-versus-a-copy\n",
      "  uplifting_df.drop_duplicates(keep=False, inplace=True)\n"
     ]
    }
   ],
   "source": [
    "uplifting_df.drop_duplicates(keep=False, inplace=True)"
   ]
  },
  {
   "cell_type": "code",
   "execution_count": 74,
   "metadata": {
    "ExecuteTime": {
     "end_time": "2020-12-27T00:08:46.809751Z",
     "start_time": "2020-12-27T00:08:46.800986Z"
    }
   },
   "outputs": [
    {
     "data": {
      "text/plain": [
       "93    147\n",
       "26    146\n",
       "71    124\n",
       "43    123\n",
       "68     49\n",
       "Name: selftext, dtype: int64"
      ]
     },
     "execution_count": 74,
     "metadata": {},
     "output_type": "execute_result"
    }
   ],
   "source": [
    "# 5 longest posts\n",
    "datasets_df['selftext'].map(lambda x: len(x)).nlargest()"
   ]
  },
  {
   "cell_type": "code",
   "execution_count": 75,
   "metadata": {
    "ExecuteTime": {
     "end_time": "2020-12-27T00:08:58.660229Z",
     "start_time": "2020-12-27T00:08:58.649671Z"
    }
   },
   "outputs": [
    {
     "data": {
      "text/plain": [
       "10.66"
      ]
     },
     "execution_count": 75,
     "metadata": {},
     "output_type": "execute_result"
    }
   ],
   "source": [
    "datasets_df['selftext'].map(lambda x: len(x)).mean()"
   ]
  },
  {
   "cell_type": "code",
   "execution_count": 76,
   "metadata": {
    "ExecuteTime": {
     "end_time": "2020-12-27T00:09:00.175305Z",
     "start_time": "2020-12-27T00:09:00.059725Z"
    }
   },
   "outputs": [
    {
     "data": {
      "image/png": "[encoded data removed]",
      "text/plain": [
       "<Figure size 432x288 with 1 Axes>"
      ]
     },
     "metadata": {
      "needs_background": "light"
     },
     "output_type": "display_data"
    }
   ],
   "source": [
    "# distribution of post length\n",
    "datasets_df['selftext'].map(lambda x: len(x)).plot(kind='hist');"
   ]
  },
  {
   "cell_type": "code",
   "execution_count": null,
   "metadata": {},
   "outputs": [],
   "source": []
  },
  {
   "cell_type": "code",
   "execution_count": 111,
   "metadata": {
    "ExecuteTime": {
     "end_time": "2020-12-30T01:40:49.985609Z",
     "start_time": "2020-12-30T01:40:49.940271Z"
    }
   },
   "outputs": [
    {
     "data": {
      "text/html": [
       "<div>\n",
       "<style scoped>\n",
       "    .dataframe tbody tr th:only-of-type {\n",
       "        vertical-align: middle;\n",
       "    }\n",
       "\n",
       "    .dataframe tbody tr th {\n",
       "        vertical-align: top;\n",
       "    }\n",
       "\n",
       "    .dataframe thead th {\n",
       "        text-align: right;\n",
       "    }\n",
       "</style>\n",
       "<table border=\"1\" class=\"dataframe\">\n",
       "  <thead>\n",
       "    <tr style=\"text-align: right;\">\n",
       "      <th></th>\n",
       "      <th>created_utc</th>\n",
       "      <th>title</th>\n",
       "      <th>score</th>\n",
       "      <th>num_comments</th>\n",
       "      <th>datetime</th>\n",
       "    </tr>\n",
       "  </thead>\n",
       "  <tbody>\n",
       "    <tr>\n",
       "      <th>0</th>\n",
       "      <td>1608400897</td>\n",
       "      <td>Anthony Fauci reassures small children with claim to have vaccinated Santa</td>\n",
       "      <td>10</td>\n",
       "      <td>11</td>\n",
       "      <td>2020-12-19 18:01:37</td>\n",
       "    </tr>\n",
       "    <tr>\n",
       "      <th>1</th>\n",
       "      <td>1608398207</td>\n",
       "      <td>Anthony Fauci reassures small children with claim to have vaccinated Santa | US news</td>\n",
       "      <td>13</td>\n",
       "      <td>28</td>\n",
       "      <td>2020-12-19 17:16:47</td>\n",
       "    </tr>\n",
       "    <tr>\n",
       "      <th>2</th>\n",
       "      <td>1608370385</td>\n",
       "      <td>Mongolia will pay for electricity, water, heat and garbage collection for all Of Its citizens For Seven Months To Help With COVID-19 Recovery</td>\n",
       "      <td>109</td>\n",
       "      <td>1194</td>\n",
       "      <td>2020-12-19 09:33:05</td>\n",
       "    </tr>\n",
       "    <tr>\n",
       "      <th>3</th>\n",
       "      <td>1608362966</td>\n",
       "      <td>Small-business advocate releases free browser plugin that provides local alternatives to products on Amazon &amp;amp; other corporate sites</td>\n",
       "      <td>63</td>\n",
       "      <td>13</td>\n",
       "      <td>2020-12-19 07:29:26</td>\n",
       "    </tr>\n",
       "    <tr>\n",
       "      <th>4</th>\n",
       "      <td>1608347248</td>\n",
       "      <td>The Moderna Covid-19 vaccine has been given authorisation for use in the US by the country’s Food and Drug Administration (FDA).</td>\n",
       "      <td>55</td>\n",
       "      <td>13</td>\n",
       "      <td>2020-12-19 03:07:28</td>\n",
       "    </tr>\n",
       "    <tr>\n",
       "      <th>...</th>\n",
       "      <td>...</td>\n",
       "      <td>...</td>\n",
       "      <td>...</td>\n",
       "      <td>...</td>\n",
       "      <td>...</td>\n",
       "    </tr>\n",
       "    <tr>\n",
       "      <th>10836</th>\n",
       "      <td>1338851558</td>\n",
       "      <td>STATE OF THE SUBREDDIT ADDRESS:</td>\n",
       "      <td>527</td>\n",
       "      <td>41</td>\n",
       "      <td>2012-06-04 23:12:38</td>\n",
       "    </tr>\n",
       "    <tr>\n",
       "      <th>10837</th>\n",
       "      <td>1338649596</td>\n",
       "      <td>After 13 years of determination, Dusty, born with Down Syndrome, earns a black belt in Kung Fu.</td>\n",
       "      <td>124</td>\n",
       "      <td>13</td>\n",
       "      <td>2012-06-02 15:06:36</td>\n",
       "    </tr>\n",
       "    <tr>\n",
       "      <th>10838</th>\n",
       "      <td>1338037021</td>\n",
       "      <td>Special Education Student Becomes Prom King</td>\n",
       "      <td>44</td>\n",
       "      <td>10</td>\n",
       "      <td>2012-05-26 12:57:01</td>\n",
       "    </tr>\n",
       "    <tr>\n",
       "      <th>10839</th>\n",
       "      <td>1337871598</td>\n",
       "      <td>Uplifting indeed.  Many thanks to this awesome little sub</td>\n",
       "      <td>59</td>\n",
       "      <td>14</td>\n",
       "      <td>2012-05-24 14:59:58</td>\n",
       "    </tr>\n",
       "    <tr>\n",
       "      <th>10840</th>\n",
       "      <td>1337736782</td>\n",
       "      <td>Girlfriend marries husband after he gets in an accident sustains a serious brain injury (I don't even care if this is religious propaganda, it's beautiful)</td>\n",
       "      <td>29</td>\n",
       "      <td>13</td>\n",
       "      <td>2012-05-23 01:33:02</td>\n",
       "    </tr>\n",
       "  </tbody>\n",
       "</table>\n",
       "<p>10646 rows × 5 columns</p>\n",
       "</div>"
      ],
      "text/plain": [
       "       created_utc  \\\n",
       "0       1608400897   \n",
       "1       1608398207   \n",
       "2       1608370385   \n",
       "3       1608362966   \n",
       "4       1608347248   \n",
       "...            ...   \n",
       "10836   1338851558   \n",
       "10837   1338649596   \n",
       "10838   1338037021   \n",
       "10839   1337871598   \n",
       "10840   1337736782   \n",
       "\n",
       "                                                                                                                                                             title  \\\n",
       "0                                                                                       Anthony Fauci reassures small children with claim to have vaccinated Santa   \n",
       "1                                                                             Anthony Fauci reassures small children with claim to have vaccinated Santa | US news   \n",
       "2                    Mongolia will pay for electricity, water, heat and garbage collection for all Of Its citizens For Seven Months To Help With COVID-19 Recovery   \n",
       "3                          Small-business advocate releases free browser plugin that provides local alternatives to products on Amazon &amp; other corporate sites   \n",
       "4                                 The Moderna Covid-19 vaccine has been given authorisation for use in the US by the country’s Food and Drug Administration (FDA).   \n",
       "...                                                                                                                                                            ...   \n",
       "10836                                                                                                                              STATE OF THE SUBREDDIT ADDRESS:   \n",
       "10837                                                              After 13 years of determination, Dusty, born with Down Syndrome, earns a black belt in Kung Fu.   \n",
       "10838                                                                                                                  Special Education Student Becomes Prom King   \n",
       "10839                                                                                                    Uplifting indeed.  Many thanks to this awesome little sub   \n",
       "10840  Girlfriend marries husband after he gets in an accident sustains a serious brain injury (I don't even care if this is religious propaganda, it's beautiful)   \n",
       "\n",
       "       score  num_comments            datetime  \n",
       "0         10            11 2020-12-19 18:01:37  \n",
       "1         13            28 2020-12-19 17:16:47  \n",
       "2        109          1194 2020-12-19 09:33:05  \n",
       "3         63            13 2020-12-19 07:29:26  \n",
       "4         55            13 2020-12-19 03:07:28  \n",
       "...      ...           ...                 ...  \n",
       "10836    527            41 2012-06-04 23:12:38  \n",
       "10837    124            13 2012-06-02 15:06:36  \n",
       "10838     44            10 2012-05-26 12:57:01  \n",
       "10839     59            14 2012-05-24 14:59:58  \n",
       "10840     29            13 2012-05-23 01:33:02  \n",
       "\n",
       "[10646 rows x 5 columns]"
      ]
     },
     "execution_count": 111,
     "metadata": {},
     "output_type": "execute_result"
    }
   ],
   "source": [
    "uplifting_df.drop_duplicates(subset=['title'], keep=False)"
   ]
  },
  {
   "cell_type": "code",
   "execution_count": 177,
   "metadata": {
    "ExecuteTime": {
     "end_time": "2021-01-01T21:39:27.365212Z",
     "start_time": "2021-01-01T21:39:27.282600Z"
    }
   },
   "outputs": [
    {
     "data": {
      "text/plain": [
       "10736"
      ]
     },
     "execution_count": 177,
     "metadata": {},
     "output_type": "execute_result"
    }
   ],
   "source": [
    "uplifting_df['title'].nunique()"
   ]
  },
  {
   "cell_type": "code",
   "execution_count": 178,
   "metadata": {
    "ExecuteTime": {
     "end_time": "2021-01-01T21:39:42.889617Z",
     "start_time": "2021-01-01T21:39:42.842224Z"
    }
   },
   "outputs": [
    {
     "data": {
      "text/html": [
       "<div>\n",
       "<style scoped>\n",
       "    .dataframe tbody tr th:only-of-type {\n",
       "        vertical-align: middle;\n",
       "    }\n",
       "\n",
       "    .dataframe tbody tr th {\n",
       "        vertical-align: top;\n",
       "    }\n",
       "\n",
       "    .dataframe thead th {\n",
       "        text-align: right;\n",
       "    }\n",
       "</style>\n",
       "<table border=\"1\" class=\"dataframe\">\n",
       "  <thead>\n",
       "    <tr style=\"text-align: right;\">\n",
       "      <th></th>\n",
       "      <th>datetime</th>\n",
       "      <th>title</th>\n",
       "      <th>score</th>\n",
       "      <th>num_comments</th>\n",
       "    </tr>\n",
       "  </thead>\n",
       "  <tbody>\n",
       "    <tr>\n",
       "      <th>0</th>\n",
       "      <td>2020-12-19 16:35:09</td>\n",
       "      <td>Russia trying to send an actress into space before Tom Cruise</td>\n",
       "      <td>10</td>\n",
       "      <td>10</td>\n",
       "    </tr>\n",
       "    <tr>\n",
       "      <th>1</th>\n",
       "      <td>2020-12-19 15:29:24</td>\n",
       "      <td>Canadian man fined for loudly singing Everybody Dance Now</td>\n",
       "      <td>11</td>\n",
       "      <td>23</td>\n",
       "    </tr>\n",
       "    <tr>\n",
       "      <th>2</th>\n",
       "      <td>2020-12-19 14:35:00</td>\n",
       "      <td>Michigan parents must pay after destroying son's $25K porn stash</td>\n",
       "      <td>10</td>\n",
       "      <td>19</td>\n",
       "    </tr>\n",
       "    <tr>\n",
       "      <th>3</th>\n",
       "      <td>2020-12-19 14:05:02</td>\n",
       "      <td>Brazilian President Jair Bolsonaro: COVID-19 Vaccine Can Turn People Into Crocodiles</td>\n",
       "      <td>10</td>\n",
       "      <td>46</td>\n",
       "    </tr>\n",
       "    <tr>\n",
       "      <th>4</th>\n",
       "      <td>2020-12-19 13:32:02</td>\n",
       "      <td>Rubber ducks become a symbol of pro democracy protests in Thailand after being used as protection from teargas and water canons</td>\n",
       "      <td>48</td>\n",
       "      <td>71</td>\n",
       "    </tr>\n",
       "    <tr>\n",
       "      <th>...</th>\n",
       "      <td>...</td>\n",
       "      <td>...</td>\n",
       "      <td>...</td>\n",
       "      <td>...</td>\n",
       "    </tr>\n",
       "    <tr>\n",
       "      <th>10732</th>\n",
       "      <td>2018-01-10 21:43:03</td>\n",
       "      <td>Diet Coke’s new cans and flavors are Millennial-friendly</td>\n",
       "      <td>23</td>\n",
       "      <td>13</td>\n",
       "    </tr>\n",
       "    <tr>\n",
       "      <th>10733</th>\n",
       "      <td>2018-01-10 16:50:54</td>\n",
       "      <td>Scathing 'ruling' issued against Miami reporter with too many items in the express checkout</td>\n",
       "      <td>65</td>\n",
       "      <td>14</td>\n",
       "    </tr>\n",
       "    <tr>\n",
       "      <th>10734</th>\n",
       "      <td>2018-01-10 15:16:42</td>\n",
       "      <td>Over half of Heathrow's near 79,000 noise complaints last year came from 10 people</td>\n",
       "      <td>373</td>\n",
       "      <td>45</td>\n",
       "    </tr>\n",
       "    <tr>\n",
       "      <th>10735</th>\n",
       "      <td>2018-01-10 15:00:24</td>\n",
       "      <td>Charlie Daniels warns Taco Bell: 'The illuminati is not a frivolous subject'</td>\n",
       "      <td>28666</td>\n",
       "      <td>1487</td>\n",
       "    </tr>\n",
       "    <tr>\n",
       "      <th>10736</th>\n",
       "      <td>2018-01-10 15:00:04</td>\n",
       "      <td>Canadian doctors slam Gwyneth Paltrow-endorsed coffee enema</td>\n",
       "      <td>41</td>\n",
       "      <td>22</td>\n",
       "    </tr>\n",
       "  </tbody>\n",
       "</table>\n",
       "<p>9562 rows × 4 columns</p>\n",
       "</div>"
      ],
      "text/plain": [
       "                 datetime  \\\n",
       "0     2020-12-19 16:35:09   \n",
       "1     2020-12-19 15:29:24   \n",
       "2     2020-12-19 14:35:00   \n",
       "3     2020-12-19 14:05:02   \n",
       "4     2020-12-19 13:32:02   \n",
       "...                   ...   \n",
       "10732 2018-01-10 21:43:03   \n",
       "10733 2018-01-10 16:50:54   \n",
       "10734 2018-01-10 15:16:42   \n",
       "10735 2018-01-10 15:00:24   \n",
       "10736 2018-01-10 15:00:04   \n",
       "\n",
       "                                                                                                                                 title  \\\n",
       "0                                                                        Russia trying to send an actress into space before Tom Cruise   \n",
       "1                                                                            Canadian man fined for loudly singing Everybody Dance Now   \n",
       "2                                                                     Michigan parents must pay after destroying son's $25K porn stash   \n",
       "3                                                 Brazilian President Jair Bolsonaro: COVID-19 Vaccine Can Turn People Into Crocodiles   \n",
       "4      Rubber ducks become a symbol of pro democracy protests in Thailand after being used as protection from teargas and water canons   \n",
       "...                                                                                                                                ...   \n",
       "10732                                                                         Diet Coke’s new cans and flavors are Millennial-friendly   \n",
       "10733                                      Scathing 'ruling' issued against Miami reporter with too many items in the express checkout   \n",
       "10734                                               Over half of Heathrow's near 79,000 noise complaints last year came from 10 people   \n",
       "10735                                                     Charlie Daniels warns Taco Bell: 'The illuminati is not a frivolous subject'   \n",
       "10736                                                                      Canadian doctors slam Gwyneth Paltrow-endorsed coffee enema   \n",
       "\n",
       "       score  num_comments  \n",
       "0         10            10  \n",
       "1         11            23  \n",
       "2         10            19  \n",
       "3         10            46  \n",
       "4         48            71  \n",
       "...      ...           ...  \n",
       "10732     23            13  \n",
       "10733     65            14  \n",
       "10734    373            45  \n",
       "10735  28666          1487  \n",
       "10736     41            22  \n",
       "\n",
       "[9562 rows x 4 columns]"
      ]
     },
     "execution_count": 178,
     "metadata": {},
     "output_type": "execute_result"
    }
   ],
   "source": [
    "nottheonion_df.drop_duplicates(subset=['title'], keep=False)"
   ]
  },
  {
   "cell_type": "code",
   "execution_count": 89,
   "metadata": {
    "ExecuteTime": {
     "end_time": "2020-12-30T01:25:57.785938Z",
     "start_time": "2020-12-30T01:25:57.737065Z"
    }
   },
   "outputs": [
    {
     "data": {
      "text/plain": [
       "32204"
      ]
     },
     "execution_count": 89,
     "metadata": {},
     "output_type": "execute_result"
    }
   ],
   "source": [
    "nottheonion_df['title'].nunique()"
   ]
  }
 ],
 "metadata": {
  "kernelspec": {
   "display_name": "Python 3",
   "language": "python",
   "name": "python3"
  },
  "language_info": {
   "codemirror_mode": {
    "name": "ipython",
    "version": 3
   },
   "file_extension": ".py",
   "mimetype": "text/x-python",
   "name": "python",
   "nbconvert_exporter": "python",
   "pygments_lexer": "ipython3",
   "version": "3.8.5"
  },
  "toc": {
   "base_numbering": 1,
   "nav_menu": {},
   "number_sections": true,
   "sideBar": true,
   "skip_h1_title": false,
   "title_cell": "Table of Contents",
   "title_sidebar": "Contents",
   "toc_cell": false,
   "toc_position": {},
   "toc_section_display": true,
   "toc_window_display": true
  },
  "varInspector": {
   "cols": {
    "lenName": 16,
    "lenType": 16,
    "lenVar": 40
   },
   "kernels_config": {
    "python": {
     "delete_cmd_postfix": "",
     "delete_cmd_prefix": "del ",
     "library": "var_list.py",
     "varRefreshCmd": "print(var_dic_list())"
    },
    "r": {
     "delete_cmd_postfix": ") ",
     "delete_cmd_prefix": "rm(",
     "library": "var_list.r",
     "varRefreshCmd": "cat(var_dic_list()) "
    }
   },
   "types_to_exclude": [
    "module",
    "function",
    "builtin_function_or_method",
    "instance",
    "_Feature"
   ],
   "window_display": false
  }
 },
 "nbformat": 4,
 "nbformat_minor": 4
}

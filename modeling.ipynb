{
 "cells": [
  {
   "cell_type": "markdown",
   "metadata": {},
   "source": [
    "# PushShift Reddit Web Scraping"
   ]
  },
  {
   "cell_type": "code",
   "execution_count": 102,
   "metadata": {
    "ExecuteTime": {
     "end_time": "2021-01-08T05:23:13.899404Z",
     "start_time": "2021-01-08T05:23:13.763014Z"
    }
   },
   "outputs": [],
   "source": [
    "import numpy as np\n",
    "import pandas as pd\n",
    "import time\n",
    "import matplotlib.pyplot as plt\n",
    "import seaborn as sns\n",
    "\n",
    "\n",
    "import requests\n",
    "from bs4 import BeautifulSoup    \n",
    "from nltk.tokenize import sent_tokenize, word_tokenize, RegexpTokenizer\n",
    "from nltk.stem import WordNetLemmatizer\n",
    "from nltk.stem.porter import PorterStemmer\n",
    "from nltk.corpus import stopwords\n",
    "from nltk.sentiment.vader import SentimentIntensityAnalyzer\n",
    "from nltk import FreqDist, pos_tag\n",
    "from collections import Counter\n",
    "import re\n",
    "\n",
    "\n",
    "from sklearn.svm import SVC\n",
    "from sklearn.model_selection import train_test_split, GridSearchCV\n",
    "from sklearn.pipeline import Pipeline, FeatureUnion\n",
    "from sklearn.naive_bayes import MultinomialNB, GaussianNB\n",
    "from sklearn.linear_model import LogisticRegression\n",
    "from sklearn.metrics import confusion_matrix, plot_confusion_matrix\n",
    "from sklearn.preprocessing import StandardScaler, FunctionTransformer\n",
    "from sklearn.ensemble import RandomForestClassifier, ExtraTreesClassifier\n",
    "# Import CountVectorizer and TFIDFVectorizer from feature_extraction.text.\n",
    "from sklearn.feature_extraction.text import CountVectorizer, TfidfVectorizer\n",
    "sns.set_style('darkgrid')\n",
    "pd.set_option('display.max_columns', None)\n",
    "\n",
    "\n",
    "pd.options.display.max_colwidth = 400\n",
    "%config InlineBackend.figure_format = 'retina'"
   ]
  },
  {
   "cell_type": "markdown",
   "metadata": {},
   "source": [
    "# Modeling"
   ]
  },
  {
   "cell_type": "code",
   "execution_count": 5,
   "metadata": {
    "ExecuteTime": {
     "end_time": "2021-01-07T22:51:23.996476Z",
     "start_time": "2021-01-07T22:51:23.934001Z"
    },
    "run_control": {
     "marked": false
    }
   },
   "outputs": [],
   "source": [
    "df = pd.read_csv('big_df.csv')"
   ]
  },
  {
   "cell_type": "code",
   "execution_count": 6,
   "metadata": {
    "ExecuteTime": {
     "end_time": "2021-01-07T22:51:24.989688Z",
     "start_time": "2021-01-07T22:51:24.981591Z"
    }
   },
   "outputs": [
    {
     "data": {
      "text/plain": [
       "(21472, 7)"
      ]
     },
     "execution_count": 6,
     "metadata": {},
     "output_type": "execute_result"
    }
   ],
   "source": [
    "df.shape"
   ]
  },
  {
   "cell_type": "code",
   "execution_count": 7,
   "metadata": {
    "ExecuteTime": {
     "end_time": "2021-01-07T22:51:25.977812Z",
     "start_time": "2021-01-07T22:51:25.954293Z"
    }
   },
   "outputs": [],
   "source": [
    "df['subreddit'] = df['subreddit'].apply(lambda x: 1 if x == 'UpliftingNews' else 0)"
   ]
  },
  {
   "cell_type": "code",
   "execution_count": 8,
   "metadata": {
    "ExecuteTime": {
     "end_time": "2021-01-07T22:51:26.822341Z",
     "start_time": "2021-01-07T22:51:26.801663Z"
    }
   },
   "outputs": [
    {
     "data": {
      "text/html": [
       "<div>\n",
       "<style scoped>\n",
       "    .dataframe tbody tr th:only-of-type {\n",
       "        vertical-align: middle;\n",
       "    }\n",
       "\n",
       "    .dataframe tbody tr th {\n",
       "        vertical-align: top;\n",
       "    }\n",
       "\n",
       "    .dataframe thead th {\n",
       "        text-align: right;\n",
       "    }\n",
       "</style>\n",
       "<table border=\"1\" class=\"dataframe\">\n",
       "  <thead>\n",
       "    <tr style=\"text-align: right;\">\n",
       "      <th></th>\n",
       "      <th>datetime</th>\n",
       "      <th>title</th>\n",
       "      <th>score</th>\n",
       "      <th>num_comments</th>\n",
       "      <th>subreddit</th>\n",
       "      <th>title_len</th>\n",
       "      <th>title_word_count</th>\n",
       "    </tr>\n",
       "  </thead>\n",
       "  <tbody>\n",
       "    <tr>\n",
       "      <th>21467</th>\n",
       "      <td>2012-06-04 23:12:38</td>\n",
       "      <td>state of the subreddit address</td>\n",
       "      <td>527</td>\n",
       "      <td>41</td>\n",
       "      <td>1</td>\n",
       "      <td>31</td>\n",
       "      <td>5</td>\n",
       "    </tr>\n",
       "    <tr>\n",
       "      <th>21468</th>\n",
       "      <td>2012-06-02 15:06:36</td>\n",
       "      <td>after 13 year of determination dusty born with down syndrome earns a black belt in kung fu</td>\n",
       "      <td>124</td>\n",
       "      <td>13</td>\n",
       "      <td>1</td>\n",
       "      <td>95</td>\n",
       "      <td>17</td>\n",
       "    </tr>\n",
       "    <tr>\n",
       "      <th>21469</th>\n",
       "      <td>2012-05-26 12:57:01</td>\n",
       "      <td>special education student becomes prom king</td>\n",
       "      <td>44</td>\n",
       "      <td>10</td>\n",
       "      <td>1</td>\n",
       "      <td>43</td>\n",
       "      <td>6</td>\n",
       "    </tr>\n",
       "    <tr>\n",
       "      <th>21470</th>\n",
       "      <td>2012-05-24 14:59:58</td>\n",
       "      <td>uplifting indeed many thanks to this awesome little sub</td>\n",
       "      <td>59</td>\n",
       "      <td>14</td>\n",
       "      <td>1</td>\n",
       "      <td>57</td>\n",
       "      <td>10</td>\n",
       "    </tr>\n",
       "    <tr>\n",
       "      <th>21471</th>\n",
       "      <td>2012-05-23 01:33:02</td>\n",
       "      <td>girlfriend marries husband after he get in an accident sustains a serious brain injury i don t even care if this is religious propaganda it s beautiful</td>\n",
       "      <td>29</td>\n",
       "      <td>13</td>\n",
       "      <td>1</td>\n",
       "      <td>155</td>\n",
       "      <td>25</td>\n",
       "    </tr>\n",
       "  </tbody>\n",
       "</table>\n",
       "</div>"
      ],
      "text/plain": [
       "                  datetime  \\\n",
       "21467  2012-06-04 23:12:38   \n",
       "21468  2012-06-02 15:06:36   \n",
       "21469  2012-05-26 12:57:01   \n",
       "21470  2012-05-24 14:59:58   \n",
       "21471  2012-05-23 01:33:02   \n",
       "\n",
       "                                                                                                                                                         title  \\\n",
       "21467                                                                                                                           state of the subreddit address   \n",
       "21468                                                               after 13 year of determination dusty born with down syndrome earns a black belt in kung fu   \n",
       "21469                                                                                                              special education student becomes prom king   \n",
       "21470                                                                                                  uplifting indeed many thanks to this awesome little sub   \n",
       "21471  girlfriend marries husband after he get in an accident sustains a serious brain injury i don t even care if this is religious propaganda it s beautiful   \n",
       "\n",
       "       score  num_comments  subreddit  title_len  title_word_count  \n",
       "21467    527            41          1         31                 5  \n",
       "21468    124            13          1         95                17  \n",
       "21469     44            10          1         43                 6  \n",
       "21470     59            14          1         57                10  \n",
       "21471     29            13          1        155                25  "
      ]
     },
     "execution_count": 8,
     "metadata": {},
     "output_type": "execute_result"
    }
   ],
   "source": [
    "df.tail()"
   ]
  },
  {
   "cell_type": "code",
   "execution_count": 131,
   "metadata": {
    "ExecuteTime": {
     "end_time": "2021-01-08T06:32:58.220384Z",
     "start_time": "2021-01-08T06:32:58.193952Z"
    }
   },
   "outputs": [
    {
     "data": {
      "text/plain": [
       "2107180"
      ]
     },
     "execution_count": 131,
     "metadata": {},
     "output_type": "execute_result"
    }
   ],
   "source": [
    "X = df['title']\n",
    "y = df['subreddit']\n",
    "X_train, X_test, y_train, y_test = train_test_split(X, y, test_size=0.33, random_state=42)\n",
    "import sys\n",
    "sys.getsizeof(X_train)"
   ]
  },
  {
   "cell_type": "code",
   "execution_count": 118,
   "metadata": {
    "ExecuteTime": {
     "end_time": "2021-01-04T06:37:11.254875Z",
     "start_time": "2021-01-04T06:33:55.754280Z"
    }
   },
   "outputs": [
    {
     "name": "stdout",
     "output_type": "stream",
     "text": [
      "Fitting 10 folds for each of 192 candidates, totalling 1920 fits\n"
     ]
    },
    {
     "name": "stderr",
     "output_type": "stream",
     "text": [
      "[Parallel(n_jobs=8)]: Using backend LokyBackend with 8 concurrent workers.\n",
      "[Parallel(n_jobs=8)]: Done  34 tasks      | elapsed:    3.5s\n",
      "/Users/alyssiaoh/opt/anaconda3/lib/python3.8/site-packages/joblib/externals/loky/process_executor.py:688: UserWarning: A worker stopped while some jobs were given to the executor. This can be caused by a too short worker timeout or by a memory leak.\n",
      "  warnings.warn(\n",
      "[Parallel(n_jobs=8)]: Done 184 tasks      | elapsed:   18.5s\n",
      "[Parallel(n_jobs=8)]: Done 434 tasks      | elapsed:   43.8s\n",
      "[Parallel(n_jobs=8)]: Done 784 tasks      | elapsed:  1.3min\n",
      "[Parallel(n_jobs=8)]: Done 1234 tasks      | elapsed:  2.1min\n",
      "[Parallel(n_jobs=8)]: Done 1784 tasks      | elapsed:  3.0min\n",
      "[Parallel(n_jobs=8)]: Done 1920 out of 1920 | elapsed:  3.2min finished\n"
     ]
    },
    {
     "data": {
      "text/plain": [
       "GridSearchCV(cv=10,\n",
       "             estimator=Pipeline(steps=[('cvec', CountVectorizer()),\n",
       "                                       ('nb', MultinomialNB())]),\n",
       "             n_jobs=8,\n",
       "             param_grid={'cvec__max_df': [0.99, 0.95],\n",
       "                         'cvec__max_features': [2000, 4000, 8000, 16000],\n",
       "                         'cvec__min_df': [2, 3],\n",
       "                         'cvec__ngram_range': [(1, 1), (1, 2)],\n",
       "                         'cvec__stop_words': [None, 'english'],\n",
       "                         'nb__alpha': [1, 0.1, 0.01]},\n",
       "             return_train_score=True, verbose=1)"
      ]
     },
     "execution_count": 118,
     "metadata": {},
     "output_type": "execute_result"
    }
   ],
   "source": [
    "# Let's set a pipeline up with two stages:\n",
    "# 1. CountVectorizer (transformer)\n",
    "# 2. Multinomial Naive Bayes (estimator)\n",
    "pipe = Pipeline([\n",
    "    ('cvec', CountVectorizer()), \n",
    "    ('nb', MultinomialNB())\n",
    "])\n",
    "pipe_params = {\n",
    "    'cvec__max_features' : [2000, 4000, 8000, 16000],\n",
    "    'cvec__min_df': [2, 3,],\n",
    "    'cvec__max_df': [.99, .95],\n",
    "    'cvec__stop_words' : [None, 'english'],\n",
    "    'cvec__ngram_range' : [(1,1), (1,2)],\n",
    "    'nb__alpha': [1, 1e-1, 1e-2]\n",
    "}\n",
    "\n",
    "gs = GridSearchCV(pipe, pipe_params, cv=10, verbose=1, n_jobs=8, return_train_score=True )\n",
    "# Fit GridSearch to training data.\n",
    "gs.fit(X_train, y_train)"
   ]
  },
  {
   "cell_type": "code",
   "execution_count": 119,
   "metadata": {
    "ExecuteTime": {
     "end_time": "2021-01-04T06:37:53.734662Z",
     "start_time": "2021-01-04T06:37:53.732430Z"
    }
   },
   "outputs": [
    {
     "data": {
      "text/plain": [
       "{'cvec__max_df': 0.99,\n",
       " 'cvec__max_features': 16000,\n",
       " 'cvec__min_df': 2,\n",
       " 'cvec__ngram_range': (1, 2),\n",
       " 'cvec__stop_words': None,\n",
       " 'nb__alpha': 1}"
      ]
     },
     "execution_count": 119,
     "metadata": {},
     "output_type": "execute_result"
    }
   ],
   "source": [
    "gs.best_params_"
   ]
  },
  {
   "cell_type": "code",
   "execution_count": 120,
   "metadata": {
    "ExecuteTime": {
     "end_time": "2021-01-04T06:38:35.805668Z",
     "start_time": "2021-01-04T06:38:35.803660Z"
    }
   },
   "outputs": [
    {
     "data": {
      "text/plain": [
       "0.8312949129214868"
      ]
     },
     "execution_count": 120,
     "metadata": {},
     "output_type": "execute_result"
    }
   ],
   "source": [
    "gs.best_score_"
   ]
  },
  {
   "cell_type": "code",
   "execution_count": 121,
   "metadata": {
    "ExecuteTime": {
     "end_time": "2021-01-04T06:39:18.003879Z",
     "start_time": "2021-01-04T06:39:17.868374Z"
    }
   },
   "outputs": [
    {
     "data": {
      "text/plain": [
       "0.8211967259384703"
      ]
     },
     "execution_count": 121,
     "metadata": {},
     "output_type": "execute_result"
    }
   ],
   "source": [
    "gs.score(X_test, y_test)"
   ]
  },
  {
   "cell_type": "code",
   "execution_count": 144,
   "metadata": {
    "ExecuteTime": {
     "end_time": "2021-01-04T07:25:46.217231Z",
     "start_time": "2021-01-04T07:25:46.049090Z"
    }
   },
   "outputs": [
    {
     "name": "stdout",
     "output_type": "stream",
     "text": [
      "2869 699 568 2950\n"
     ]
    }
   ],
   "source": [
    "# Get predictions\n",
    "pred = gs.predict(X_test)\n",
    "# Save confusion matrix values\n",
    "tn, fp, fn, tp = confusion_matrix(y_test, pred).ravel()\n",
    "print(tn, fp, fn, tp)"
   ]
  },
  {
   "cell_type": "code",
   "execution_count": 143,
   "metadata": {
    "ExecuteTime": {
     "end_time": "2021-01-04T07:25:38.811481Z",
     "start_time": "2021-01-04T07:25:38.527933Z"
    }
   },
   "outputs": [
    {
     "data": {
      "image/png": "[encoded data removed]",
      "text/plain": [
       "<Figure size 600x400 with 2 Axes>"
      ]
     },
     "metadata": {
      "image/png": {
       "height": 370,
       "width": 450
      }
     },
     "output_type": "display_data"
    }
   ],
   "source": [
    "# View confusion matrix\n",
    "sns.set_style(\"white\")\n",
    "plot_confusion_matrix(gs, X_test, y_test, cmap=\"Greens\", values_format='d')\n",
    "%config InlineBackend.figure_format = 'retina'"
   ]
  },
  {
   "cell_type": "code",
   "execution_count": 145,
   "metadata": {
    "ExecuteTime": {
     "end_time": "2021-01-04T07:25:56.297474Z",
     "start_time": "2021-01-04T07:25:56.282936Z"
    }
   },
   "outputs": [
    {
     "name": "stdout",
     "output_type": "stream",
     "text": [
      "Accuracy:  82.1 %\n",
      "Precision:  80.8 %\n",
      "\n",
      "\n",
      "Sensitivity:  83.9 %\n",
      "Specificity:  80.4 %\n"
     ]
    }
   ],
   "source": [
    "print('Accuracy: ',(round((tp+tn)*100/(tp+fp+tn+fn),1)), '%')\n",
    "print('Precision: ',(round((tp)*100/(tp+fp),1)), '%')\n",
    "\n",
    "print()\n",
    "print()\n",
    "print('Sensitivity: ',(round((tp)*100/(tp+fn),1)), '%')  \n",
    "print('Specificity: ',(round((tn)*100/(tn+fp),1)), '%')  "
   ]
  },
  {
   "cell_type": "code",
   "execution_count": 114,
   "metadata": {
    "ExecuteTime": {
     "end_time": "2021-01-04T06:27:29.163056Z",
     "start_time": "2021-01-04T06:25:06.610235Z"
    }
   },
   "outputs": [
    {
     "name": "stdout",
     "output_type": "stream",
     "text": [
      "Fitting 10 folds for each of 192 candidates, totalling 1920 fits\n"
     ]
    },
    {
     "name": "stderr",
     "output_type": "stream",
     "text": [
      "[Parallel(n_jobs=8)]: Using backend LokyBackend with 8 concurrent workers.\n",
      "[Parallel(n_jobs=8)]: Done  34 tasks      | elapsed:    3.5s\n",
      "/Users/alyssiaoh/opt/anaconda3/lib/python3.8/site-packages/joblib/externals/loky/process_executor.py:688: UserWarning: A worker stopped while some jobs were given to the executor. This can be caused by a too short worker timeout or by a memory leak.\n",
      "  warnings.warn(\n",
      "[Parallel(n_jobs=8)]: Done 184 tasks      | elapsed:   15.4s\n",
      "[Parallel(n_jobs=8)]: Done 434 tasks      | elapsed:   33.3s\n",
      "[Parallel(n_jobs=8)]: Done 784 tasks      | elapsed:   59.9s\n",
      "[Parallel(n_jobs=8)]: Done 1234 tasks      | elapsed:  1.5min\n",
      "[Parallel(n_jobs=8)]: Done 1784 tasks      | elapsed:  2.2min\n",
      "[Parallel(n_jobs=8)]: Done 1920 out of 1920 | elapsed:  2.4min finished\n"
     ]
    },
    {
     "data": {
      "text/plain": [
       "{'nb__alpha': 0.1,\n",
       " 'tvec__max_features': 16000,\n",
       " 'tvec__ngram_range': (1, 1),\n",
       " 'tvec__norm': 'l2',\n",
       " 'tvec__stop_words': None,\n",
       " 'tvec__use_idf': False}"
      ]
     },
     "execution_count": 114,
     "metadata": {},
     "output_type": "execute_result"
    }
   ],
   "source": [
    "# Instantiate the transformer.\n",
    "tvec = TfidfVectorizer()\n",
    "\n",
    "\n",
    "\n",
    "# Let's set a pipeline up with two stages:\n",
    "# 1. tf-idf vectorizer (transformer)\n",
    "# 2. Multinomial Naive Bayes (estimator)\n",
    "\n",
    "tvec_pipe = Pipeline([\n",
    "    ('tvec' , TfidfVectorizer()),\n",
    "    ('nb', MultinomialNB())\n",
    "])\n",
    "\n",
    "\n",
    "pipe_params_tvec = {\n",
    "    'tvec__max_features' : [2000, 4000, 8000, 16000],\n",
    "    'tvec__stop_words' : [None, 'english'],\n",
    "    'tvec__use_idf': (True, False),\n",
    "    'tvec__norm': ('l1', 'l2'),\n",
    "    'tvec__ngram_range' : [(1,1), (1,2)],\n",
    "    'nb__alpha': [1, 1e-1, 1e-2]\n",
    "}\n",
    "\n",
    "# Instantiate GridSearchCV.\n",
    "# Instantiate GridSearchCV.\n",
    "gs_tvec = GridSearchCV(tvec_pipe,\n",
    "                      pipe_params_tvec,\n",
    "                      cv = 10,\n",
    "                      verbose=1,\n",
    "                      n_jobs=8)\n",
    "\n",
    "# Fit GridSearch to training data.\n",
    "gs_tvec.fit(X_train, y_train)\n",
    "\n",
    "gs_tvec.best_params_"
   ]
  },
  {
   "cell_type": "code",
   "execution_count": 128,
   "metadata": {
    "ExecuteTime": {
     "end_time": "2021-01-04T07:13:20.005174Z",
     "start_time": "2021-01-04T07:13:19.986125Z"
    }
   },
   "outputs": [
    {
     "data": {
      "text/plain": [
       "0.8334502015675002"
      ]
     },
     "execution_count": 128,
     "metadata": {},
     "output_type": "execute_result"
    }
   ],
   "source": [
    "gs_tvec.best_score_"
   ]
  },
  {
   "cell_type": "code",
   "execution_count": 129,
   "metadata": {
    "ExecuteTime": {
     "end_time": "2021-01-04T07:14:01.693144Z",
     "start_time": "2021-01-04T07:14:01.612542Z"
    }
   },
   "outputs": [
    {
     "data": {
      "text/plain": [
       "0.8183742591024555"
      ]
     },
     "execution_count": 129,
     "metadata": {},
     "output_type": "execute_result"
    }
   ],
   "source": [
    "gs_tvec.score(X_test, y_test)"
   ]
  },
  {
   "cell_type": "code",
   "execution_count": 140,
   "metadata": {
    "ExecuteTime": {
     "end_time": "2021-01-04T07:24:26.392152Z",
     "start_time": "2021-01-04T07:24:26.304787Z"
    }
   },
   "outputs": [
    {
     "name": "stdout",
     "output_type": "stream",
     "text": [
      "2821 747 540 2978\n"
     ]
    }
   ],
   "source": [
    "# Get predictions\n",
    "pred = gs_tvec.predict(X_test)\n",
    "# Save confusion matrix values\n",
    "tn, fp, fn, tp = confusion_matrix(y_test, pred).ravel()\n",
    "print(tn, fp, fn, tp)"
   ]
  },
  {
   "cell_type": "code",
   "execution_count": 141,
   "metadata": {
    "ExecuteTime": {
     "end_time": "2021-01-04T07:24:50.077499Z",
     "start_time": "2021-01-04T07:24:49.840289Z"
    }
   },
   "outputs": [
    {
     "data": {
      "image/png": "[encoded data removed]",
      "text/plain": [
       "<Figure size 600x400 with 2 Axes>"
      ]
     },
     "metadata": {
      "image/png": {
       "height": 370,
       "width": 450
      }
     },
     "output_type": "display_data"
    }
   ],
   "source": [
    "# View confusion matrix\n",
    "sns.set_style(\"white\")\n",
    "plot_confusion_matrix(gs_tvec, X_test, y_test, cmap=\"Greens\", values_format='d')\n",
    "%config InlineBackend.figure_format = 'retina'"
   ]
  },
  {
   "cell_type": "code",
   "execution_count": 142,
   "metadata": {
    "ExecuteTime": {
     "end_time": "2021-01-04T07:24:57.913338Z",
     "start_time": "2021-01-04T07:24:57.902017Z"
    }
   },
   "outputs": [
    {
     "name": "stdout",
     "output_type": "stream",
     "text": [
      "Accuracy:  81.8 %\n",
      "Precision:  79.9 %\n",
      "\n",
      "\n",
      "Sensitivity:  84.7 %\n",
      "Specificity:  79.1 %\n"
     ]
    }
   ],
   "source": [
    "print('Accuracy: ',(round((tp+tn)*100/(tp+fp+tn+fn),1)), '%')\n",
    "print('Precision: ',(round((tp)*100/(tp+fp),1)), '%')\n",
    "\n",
    "print()\n",
    "print()\n",
    "print('Sensitivity: ',(round((tp)*100/(tp+fn),1)), '%')  \n",
    "print('Specificity: ',(round((tn)*100/(tn+fp),1)), '%')  "
   ]
  },
  {
   "cell_type": "code",
   "execution_count": 116,
   "metadata": {
    "ExecuteTime": {
     "end_time": "2021-01-08T06:18:09.909241Z",
     "start_time": "2021-01-08T06:18:07.302140Z"
    }
   },
   "outputs": [],
   "source": [
    "# Write a function to get the compound sentiment scores for a post\n",
    "\n",
    "sia = SentimentIntensityAnalyzer()\n",
    "\n",
    "def get_compound_sentiment(post):\n",
    "    return sia.polarity_scores(post)['compound']\n",
    "df['sentiment'] = df['title'].apply(get_compound_sentiment)\n",
    "\n",
    "get_text_data = FunctionTransformer(lambda x: x['title'], validate = False)\n",
    "get_numeric_data = FunctionTransformer(lambda x: x[['title_word_count', 'sentiment', 'score', 'num_comments']], validate = False)"
   ]
  },
  {
   "cell_type": "code",
   "execution_count": 159,
   "metadata": {
    "ExecuteTime": {
     "end_time": "2021-01-08T12:11:47.276676Z",
     "start_time": "2021-01-08T12:11:47.250586Z"
    }
   },
   "outputs": [],
   "source": [
    "X = df[['title', 'title_word_count','sentiment', 'score', 'num_comments']]\n",
    "y = df['subreddit']\n",
    "\n",
    "np.random.seed(824)\n",
    "\n",
    "X_train, X_test, y_train, y_test = train_test_split(X,y)"
   ]
  },
  {
   "cell_type": "code",
   "execution_count": 118,
   "metadata": {
    "ExecuteTime": {
     "end_time": "2021-01-08T06:18:15.937913Z",
     "start_time": "2021-01-08T06:18:15.935084Z"
    }
   },
   "outputs": [],
   "source": [
    "pipe = Pipeline([\n",
    "    ('features', FeatureUnion([\n",
    "            ('numeric_features', Pipeline([\n",
    "                ('selector', get_numeric_data),\n",
    "                ('ss', StandardScaler())\n",
    "            ])),\n",
    "            ('text_features', Pipeline([\n",
    "                ('selector', get_text_data),\n",
    "                ('cvec', CountVectorizer())\n",
    "            ]))\n",
    "    ])),\n",
    "    ('logreg', LogisticRegression())\n",
    "])\n",
    "params = {\n",
    "\n",
    "    'features__text_features__cvec__max_df':[.99, .98] , \n",
    "    'features__text_features__cvec__max_features':[10000, 50000, 150000], \n",
    "    'features__text_features__cvec__min_df': [2, 3], \n",
    "    'features__text_features__cvec__ngram_range': [(1,1), (1,2)],\n",
    "    'features__text_features__cvec__stop_words' : [None, 'english'],\n",
    "    'logreg__penalty' : ['l2'],\n",
    "    'logreg__max_iter': [1000, 5000]\n",
    "}"
   ]
  },
  {
   "cell_type": "code",
   "execution_count": 120,
   "metadata": {
    "ExecuteTime": {
     "end_time": "2021-01-08T06:24:45.007508Z",
     "start_time": "2021-01-08T06:23:22.247837Z"
    }
   },
   "outputs": [
    {
     "name": "stdout",
     "output_type": "stream",
     "text": [
      "Fitting 5 folds for each of 96 candidates, totalling 480 fits\n"
     ]
    },
    {
     "name": "stderr",
     "output_type": "stream",
     "text": [
      "[Parallel(n_jobs=8)]: Using backend LokyBackend with 8 concurrent workers.\n",
      "/Users/alyssiaoh/opt/anaconda3/lib/python3.8/site-packages/joblib/externals/loky/process_executor.py:688: UserWarning: A worker stopped while some jobs were given to the executor. This can be caused by a too short worker timeout or by a memory leak.\n",
      "  warnings.warn(\n",
      "[Parallel(n_jobs=8)]: Done  34 tasks      | elapsed:    7.5s\n",
      "[Parallel(n_jobs=8)]: Done 184 tasks      | elapsed:   32.4s\n",
      "[Parallel(n_jobs=8)]: Done 434 tasks      | elapsed:  1.2min\n",
      "[Parallel(n_jobs=8)]: Done 480 out of 480 | elapsed:  1.4min finished\n"
     ]
    },
    {
     "data": {
      "text/plain": [
       "GridSearchCV(cv=5,\n",
       "             estimator=Pipeline(steps=[('features',\n",
       "                                        FeatureUnion(transformer_list=[('numeric_features',\n",
       "                                                                        Pipeline(steps=[('selector',\n",
       "                                                                                         FunctionTransformer(func=<function <lambda> at 0x7fec15a82e50>)),\n",
       "                                                                                        ('ss',\n",
       "                                                                                         StandardScaler())])),\n",
       "                                                                       ('text_features',\n",
       "                                                                        Pipeline(steps=[('selector',\n",
       "                                                                                         FunctionTransformer(func=<function <lambda> at 0x7fec15a41940>)),\n",
       "                                                                                        ('cvec',\n",
       "                                                                                         CountVector...\n",
       "             param_grid={'features__text_features__cvec__max_df': [0.99, 0.98],\n",
       "                         'features__text_features__cvec__max_features': [10000,\n",
       "                                                                         50000,\n",
       "                                                                         150000],\n",
       "                         'features__text_features__cvec__min_df': [2, 3],\n",
       "                         'features__text_features__cvec__ngram_range': [(1, 1),\n",
       "                                                                        (1, 2)],\n",
       "                         'features__text_features__cvec__stop_words': [None,\n",
       "                                                                       'english'],\n",
       "                         'logreg__max_iter': [1000, 5000],\n",
       "                         'logreg__penalty': ['l2']},\n",
       "             verbose=1)"
      ]
     },
     "execution_count": 120,
     "metadata": {},
     "output_type": "execute_result"
    }
   ],
   "source": [
    "gs_textnum = GridSearchCV(pipe, params, cv=5, verbose=1, n_jobs=8)\n",
    "\n",
    "gs_textnum.fit(X_train, y_train)"
   ]
  },
  {
   "cell_type": "code",
   "execution_count": 121,
   "metadata": {
    "ExecuteTime": {
     "end_time": "2021-01-08T06:24:51.283375Z",
     "start_time": "2021-01-08T06:24:50.924768Z"
    }
   },
   "outputs": [
    {
     "name": "stdout",
     "output_type": "stream",
     "text": [
      "0.9884500745156483\n"
     ]
    }
   ],
   "source": [
    "print(gs_textnum.score(X_train, y_train))"
   ]
  },
  {
   "cell_type": "code",
   "execution_count": 92,
   "metadata": {
    "ExecuteTime": {
     "end_time": "2021-01-08T05:01:40.052489Z",
     "start_time": "2021-01-08T05:01:39.943704Z"
    }
   },
   "outputs": [
    {
     "name": "stdout",
     "output_type": "stream",
     "text": [
      "0.8396050670640834\n"
     ]
    }
   ],
   "source": [
    "print(gs_textnum.score(X_test, y_test))"
   ]
  },
  {
   "cell_type": "code",
   "execution_count": 122,
   "metadata": {
    "ExecuteTime": {
     "end_time": "2021-01-08T06:24:55.893705Z",
     "start_time": "2021-01-08T06:24:55.887140Z"
    },
    "run_control": {
     "marked": false
    }
   },
   "outputs": [
    {
     "data": {
      "text/plain": [
       "{'features__text_features__cvec__max_df': 0.99,\n",
       " 'features__text_features__cvec__max_features': 50000,\n",
       " 'features__text_features__cvec__min_df': 2,\n",
       " 'features__text_features__cvec__ngram_range': (1, 2),\n",
       " 'features__text_features__cvec__stop_words': None,\n",
       " 'logreg__max_iter': 1000,\n",
       " 'logreg__penalty': 'l2'}"
      ]
     },
     "execution_count": 122,
     "metadata": {},
     "output_type": "execute_result"
    }
   ],
   "source": [
    "gs_textnum.best_params_"
   ]
  },
  {
   "cell_type": "code",
   "execution_count": 165,
   "metadata": {
    "ExecuteTime": {
     "end_time": "2021-01-08T12:38:58.333351Z",
     "start_time": "2021-01-08T12:38:58.209315Z"
    }
   },
   "outputs": [
    {
     "data": {
      "text/html": [
       "<div>\n",
       "<style scoped>\n",
       "    .dataframe tbody tr th:only-of-type {\n",
       "        vertical-align: middle;\n",
       "    }\n",
       "\n",
       "    .dataframe tbody tr th {\n",
       "        vertical-align: top;\n",
       "    }\n",
       "\n",
       "    .dataframe thead th {\n",
       "        text-align: right;\n",
       "    }\n",
       "</style>\n",
       "<table border=\"1\" class=\"dataframe\">\n",
       "  <thead>\n",
       "    <tr style=\"text-align: right;\">\n",
       "      <th></th>\n",
       "      <th>features</th>\n",
       "      <th>coef</th>\n",
       "      <th>exp_coef</th>\n",
       "    </tr>\n",
       "  </thead>\n",
       "  <tbody>\n",
       "    <tr>\n",
       "      <th>25421</th>\n",
       "      <td>say</td>\n",
       "      <td>-1.910448</td>\n",
       "      <td>0.148014</td>\n",
       "    </tr>\n",
       "    <tr>\n",
       "      <th>28362</th>\n",
       "      <td>tell</td>\n",
       "      <td>-1.745447</td>\n",
       "      <td>0.174567</td>\n",
       "    </tr>\n",
       "    <tr>\n",
       "      <th>23084</th>\n",
       "      <td>porn</td>\n",
       "      <td>-1.683083</td>\n",
       "      <td>0.185800</td>\n",
       "    </tr>\n",
       "    <tr>\n",
       "      <th>23033</th>\n",
       "      <td>poop</td>\n",
       "      <td>-1.624445</td>\n",
       "      <td>0.197021</td>\n",
       "    </tr>\n",
       "    <tr>\n",
       "      <th>19617</th>\n",
       "      <td>naked</td>\n",
       "      <td>-1.571741</td>\n",
       "      <td>0.207683</td>\n",
       "    </tr>\n",
       "    <tr>\n",
       "      <th>1059</th>\n",
       "      <td>admits</td>\n",
       "      <td>-1.548580</td>\n",
       "      <td>0.212550</td>\n",
       "    </tr>\n",
       "    <tr>\n",
       "      <th>6395</th>\n",
       "      <td>claim</td>\n",
       "      <td>-1.528386</td>\n",
       "      <td>0.216885</td>\n",
       "    </tr>\n",
       "    <tr>\n",
       "      <th>16421</th>\n",
       "      <td>jesus</td>\n",
       "      <td>-1.524352</td>\n",
       "      <td>0.217762</td>\n",
       "    </tr>\n",
       "    <tr>\n",
       "      <th>32295</th>\n",
       "      <td>warns</td>\n",
       "      <td>-1.489287</td>\n",
       "      <td>0.225533</td>\n",
       "    </tr>\n",
       "    <tr>\n",
       "      <th>25129</th>\n",
       "      <td>russia</td>\n",
       "      <td>-1.443755</td>\n",
       "      <td>0.236040</td>\n",
       "    </tr>\n",
       "    <tr>\n",
       "      <th>27730</th>\n",
       "      <td>sue</td>\n",
       "      <td>-1.434772</td>\n",
       "      <td>0.238170</td>\n",
       "    </tr>\n",
       "    <tr>\n",
       "      <th>1681</th>\n",
       "      <td>allegedly</td>\n",
       "      <td>-1.421019</td>\n",
       "      <td>0.241468</td>\n",
       "    </tr>\n",
       "    <tr>\n",
       "      <th>25868</th>\n",
       "      <td>semen</td>\n",
       "      <td>-1.417499</td>\n",
       "      <td>0.242319</td>\n",
       "    </tr>\n",
       "    <tr>\n",
       "      <th>8577</th>\n",
       "      <td>doesn</td>\n",
       "      <td>-1.384835</td>\n",
       "      <td>0.250365</td>\n",
       "    </tr>\n",
       "    <tr>\n",
       "      <th>3773</th>\n",
       "      <td>because</td>\n",
       "      <td>-1.359445</td>\n",
       "      <td>0.256803</td>\n",
       "    </tr>\n",
       "    <tr>\n",
       "      <th>25138</th>\n",
       "      <td>russian</td>\n",
       "      <td>-1.350197</td>\n",
       "      <td>0.259189</td>\n",
       "    </tr>\n",
       "    <tr>\n",
       "      <th>2870</th>\n",
       "      <td>asks</td>\n",
       "      <td>-1.337023</td>\n",
       "      <td>0.262626</td>\n",
       "    </tr>\n",
       "    <tr>\n",
       "      <th>4717</th>\n",
       "      <td>brexit</td>\n",
       "      <td>-1.313051</td>\n",
       "      <td>0.268998</td>\n",
       "    </tr>\n",
       "    <tr>\n",
       "      <th>26030</th>\n",
       "      <td>sex</td>\n",
       "      <td>-1.310775</td>\n",
       "      <td>0.269611</td>\n",
       "    </tr>\n",
       "    <tr>\n",
       "      <th>12559</th>\n",
       "      <td>god</td>\n",
       "      <td>-1.310221</td>\n",
       "      <td>0.269761</td>\n",
       "    </tr>\n",
       "    <tr>\n",
       "      <th>6597</th>\n",
       "      <td>cocaine</td>\n",
       "      <td>-1.308383</td>\n",
       "      <td>0.270257</td>\n",
       "    </tr>\n",
       "    <tr>\n",
       "      <th>4300</th>\n",
       "      <td>blame</td>\n",
       "      <td>-1.303779</td>\n",
       "      <td>0.271504</td>\n",
       "    </tr>\n",
       "    <tr>\n",
       "      <th>11444</th>\n",
       "      <td>fortnite</td>\n",
       "      <td>-1.303431</td>\n",
       "      <td>0.271598</td>\n",
       "    </tr>\n",
       "    <tr>\n",
       "      <th>32240</th>\n",
       "      <td>want</td>\n",
       "      <td>-1.296935</td>\n",
       "      <td>0.273368</td>\n",
       "    </tr>\n",
       "    <tr>\n",
       "      <th>24041</th>\n",
       "      <td>rat</td>\n",
       "      <td>-1.275266</td>\n",
       "      <td>0.279357</td>\n",
       "    </tr>\n",
       "    <tr>\n",
       "      <th>24187</th>\n",
       "      <td>recommends</td>\n",
       "      <td>-1.273287</td>\n",
       "      <td>0.279910</td>\n",
       "    </tr>\n",
       "    <tr>\n",
       "      <th>930</th>\n",
       "      <td>accidentally</td>\n",
       "      <td>-1.272649</td>\n",
       "      <td>0.280089</td>\n",
       "    </tr>\n",
       "    <tr>\n",
       "      <th>17190</th>\n",
       "      <td>lawmaker</td>\n",
       "      <td>-1.270729</td>\n",
       "      <td>0.280627</td>\n",
       "    </tr>\n",
       "    <tr>\n",
       "      <th>14198</th>\n",
       "      <td>hitler</td>\n",
       "      <td>-1.244217</td>\n",
       "      <td>0.288167</td>\n",
       "    </tr>\n",
       "    <tr>\n",
       "      <th>17243</th>\n",
       "      <td>lead</td>\n",
       "      <td>-1.232919</td>\n",
       "      <td>0.291441</td>\n",
       "    </tr>\n",
       "  </tbody>\n",
       "</table>\n",
       "</div>"
      ],
      "text/plain": [
       "           features      coef  exp_coef\n",
       "25421           say -1.910448  0.148014\n",
       "28362          tell -1.745447  0.174567\n",
       "23084          porn -1.683083  0.185800\n",
       "23033          poop -1.624445  0.197021\n",
       "19617         naked -1.571741  0.207683\n",
       "1059         admits -1.548580  0.212550\n",
       "6395          claim -1.528386  0.216885\n",
       "16421         jesus -1.524352  0.217762\n",
       "32295         warns -1.489287  0.225533\n",
       "25129        russia -1.443755  0.236040\n",
       "27730           sue -1.434772  0.238170\n",
       "1681      allegedly -1.421019  0.241468\n",
       "25868         semen -1.417499  0.242319\n",
       "8577          doesn -1.384835  0.250365\n",
       "3773        because -1.359445  0.256803\n",
       "25138       russian -1.350197  0.259189\n",
       "2870           asks -1.337023  0.262626\n",
       "4717         brexit -1.313051  0.268998\n",
       "26030           sex -1.310775  0.269611\n",
       "12559           god -1.310221  0.269761\n",
       "6597        cocaine -1.308383  0.270257\n",
       "4300          blame -1.303779  0.271504\n",
       "11444      fortnite -1.303431  0.271598\n",
       "32240          want -1.296935  0.273368\n",
       "24041           rat -1.275266  0.279357\n",
       "24187    recommends -1.273287  0.279910\n",
       "930    accidentally -1.272649  0.280089\n",
       "17190      lawmaker -1.270729  0.280627\n",
       "14198        hitler -1.244217  0.288167\n",
       "17243          lead -1.232919  0.291441"
      ]
     },
     "execution_count": 165,
     "metadata": {},
     "output_type": "execute_result"
    }
   ],
   "source": [
    "features = gs_textnum.best_estimator_.named_steps['features'].transformer_list[1][1].named_steps['cvec'].get_feature_names()\n",
    "coefficients = gs_textnum.best_estimator_.named_steps['logreg'].coef_[0]\n",
    "\n",
    "gs_textnum_coef = pd.DataFrame({'features': ['title_word_count', 'sentiment', 'score', 'num_comments']+ features, \n",
    "              'coef' : coefficients,\n",
    "              'exp_coef': [np.exp(coef) for coef in coefficients]\n",
    "             })\n",
    "gs_textnum_coef.sort_values(by='exp_coef').head(30)"
   ]
  },
  {
   "cell_type": "code",
   "execution_count": 155,
   "metadata": {
    "ExecuteTime": {
     "end_time": "2021-01-08T12:01:53.548529Z",
     "start_time": "2021-01-08T12:01:53.339057Z"
    }
   },
   "outputs": [
    {
     "data": {
      "text/html": [
       "<div>\n",
       "<style scoped>\n",
       "    .dataframe tbody tr th:only-of-type {\n",
       "        vertical-align: middle;\n",
       "    }\n",
       "\n",
       "    .dataframe tbody tr th {\n",
       "        vertical-align: top;\n",
       "    }\n",
       "\n",
       "    .dataframe thead th {\n",
       "        text-align: right;\n",
       "    }\n",
       "</style>\n",
       "<table border=\"1\" class=\"dataframe\">\n",
       "  <thead>\n",
       "    <tr style=\"text-align: right;\">\n",
       "      <th></th>\n",
       "      <th>Features</th>\n",
       "      <th>Coefficient</th>\n",
       "    </tr>\n",
       "  </thead>\n",
       "  <tbody>\n",
       "    <tr>\n",
       "      <th>25421</th>\n",
       "      <td>say</td>\n",
       "      <td>0.148</td>\n",
       "    </tr>\n",
       "    <tr>\n",
       "      <th>28362</th>\n",
       "      <td>tell</td>\n",
       "      <td>0.175</td>\n",
       "    </tr>\n",
       "    <tr>\n",
       "      <th>23084</th>\n",
       "      <td>porn</td>\n",
       "      <td>0.186</td>\n",
       "    </tr>\n",
       "    <tr>\n",
       "      <th>23033</th>\n",
       "      <td>poop</td>\n",
       "      <td>0.197</td>\n",
       "    </tr>\n",
       "    <tr>\n",
       "      <th>19617</th>\n",
       "      <td>naked</td>\n",
       "      <td>0.208</td>\n",
       "    </tr>\n",
       "    <tr>\n",
       "      <th>1059</th>\n",
       "      <td>admits</td>\n",
       "      <td>0.213</td>\n",
       "    </tr>\n",
       "    <tr>\n",
       "      <th>6395</th>\n",
       "      <td>claim</td>\n",
       "      <td>0.217</td>\n",
       "    </tr>\n",
       "    <tr>\n",
       "      <th>16421</th>\n",
       "      <td>jesus</td>\n",
       "      <td>0.218</td>\n",
       "    </tr>\n",
       "    <tr>\n",
       "      <th>32295</th>\n",
       "      <td>warns</td>\n",
       "      <td>0.226</td>\n",
       "    </tr>\n",
       "    <tr>\n",
       "      <th>25129</th>\n",
       "      <td>russia</td>\n",
       "      <td>0.236</td>\n",
       "    </tr>\n",
       "    <tr>\n",
       "      <th>27730</th>\n",
       "      <td>sue</td>\n",
       "      <td>0.238</td>\n",
       "    </tr>\n",
       "    <tr>\n",
       "      <th>1681</th>\n",
       "      <td>allegedly</td>\n",
       "      <td>0.241</td>\n",
       "    </tr>\n",
       "    <tr>\n",
       "      <th>25868</th>\n",
       "      <td>semen</td>\n",
       "      <td>0.242</td>\n",
       "    </tr>\n",
       "    <tr>\n",
       "      <th>8577</th>\n",
       "      <td>doesn</td>\n",
       "      <td>0.250</td>\n",
       "    </tr>\n",
       "    <tr>\n",
       "      <th>3773</th>\n",
       "      <td>because</td>\n",
       "      <td>0.257</td>\n",
       "    </tr>\n",
       "    <tr>\n",
       "      <th>25138</th>\n",
       "      <td>russian</td>\n",
       "      <td>0.259</td>\n",
       "    </tr>\n",
       "    <tr>\n",
       "      <th>2870</th>\n",
       "      <td>asks</td>\n",
       "      <td>0.263</td>\n",
       "    </tr>\n",
       "    <tr>\n",
       "      <th>4717</th>\n",
       "      <td>brexit</td>\n",
       "      <td>0.269</td>\n",
       "    </tr>\n",
       "    <tr>\n",
       "      <th>6597</th>\n",
       "      <td>cocaine</td>\n",
       "      <td>0.270</td>\n",
       "    </tr>\n",
       "    <tr>\n",
       "      <th>26030</th>\n",
       "      <td>sex</td>\n",
       "      <td>0.270</td>\n",
       "    </tr>\n",
       "    <tr>\n",
       "      <th>12559</th>\n",
       "      <td>god</td>\n",
       "      <td>0.270</td>\n",
       "    </tr>\n",
       "    <tr>\n",
       "      <th>11444</th>\n",
       "      <td>fortnite</td>\n",
       "      <td>0.272</td>\n",
       "    </tr>\n",
       "    <tr>\n",
       "      <th>4300</th>\n",
       "      <td>blame</td>\n",
       "      <td>0.272</td>\n",
       "    </tr>\n",
       "    <tr>\n",
       "      <th>32240</th>\n",
       "      <td>want</td>\n",
       "      <td>0.273</td>\n",
       "    </tr>\n",
       "    <tr>\n",
       "      <th>24041</th>\n",
       "      <td>rat</td>\n",
       "      <td>0.279</td>\n",
       "    </tr>\n",
       "    <tr>\n",
       "      <th>24187</th>\n",
       "      <td>recommends</td>\n",
       "      <td>0.280</td>\n",
       "    </tr>\n",
       "    <tr>\n",
       "      <th>930</th>\n",
       "      <td>accidentally</td>\n",
       "      <td>0.280</td>\n",
       "    </tr>\n",
       "    <tr>\n",
       "      <th>17190</th>\n",
       "      <td>lawmaker</td>\n",
       "      <td>0.281</td>\n",
       "    </tr>\n",
       "    <tr>\n",
       "      <th>14198</th>\n",
       "      <td>hitler</td>\n",
       "      <td>0.288</td>\n",
       "    </tr>\n",
       "    <tr>\n",
       "      <th>17243</th>\n",
       "      <td>lead</td>\n",
       "      <td>0.291</td>\n",
       "    </tr>\n",
       "  </tbody>\n",
       "</table>\n",
       "</div>"
      ],
      "text/plain": [
       "           Features  Coefficient\n",
       "25421           say        0.148\n",
       "28362          tell        0.175\n",
       "23084          porn        0.186\n",
       "23033          poop        0.197\n",
       "19617         naked        0.208\n",
       "1059         admits        0.213\n",
       "6395          claim        0.217\n",
       "16421         jesus        0.218\n",
       "32295         warns        0.226\n",
       "25129        russia        0.236\n",
       "27730           sue        0.238\n",
       "1681      allegedly        0.241\n",
       "25868         semen        0.242\n",
       "8577          doesn        0.250\n",
       "3773        because        0.257\n",
       "25138       russian        0.259\n",
       "2870           asks        0.263\n",
       "4717         brexit        0.269\n",
       "6597        cocaine        0.270\n",
       "26030           sex        0.270\n",
       "12559           god        0.270\n",
       "11444      fortnite        0.272\n",
       "4300          blame        0.272\n",
       "32240          want        0.273\n",
       "24041           rat        0.279\n",
       "24187    recommends        0.280\n",
       "930    accidentally        0.280\n",
       "17190      lawmaker        0.281\n",
       "14198        hitler        0.288\n",
       "17243          lead        0.291"
      ]
     },
     "execution_count": 155,
     "metadata": {},
     "output_type": "execute_result"
    }
   ],
   "source": [
    "features = gs_textnum.best_estimator_.named_steps['features'].transformer_list[1][1].named_steps['cvec'].get_feature_names()\n",
    "coefficients = gs_textnum.best_estimator_.named_steps['logreg'].coef_[0]\n",
    "\n",
    "gs_textnum_coef = pd.DataFrame({'Features': ['title_word_count', 'sentiment', 'score', 'num_comments']+ features, \n",
    "              \n",
    "              'Coefficient': [round(np.exp(coef), 3) for coef in coefficients]\n",
    "             })\n",
    "gs_textnum_coef.sort_values(by='Coefficient').head(30)"
   ]
  },
  {
   "cell_type": "code",
   "execution_count": 150,
   "metadata": {
    "ExecuteTime": {
     "end_time": "2021-01-08T09:40:24.180918Z",
     "start_time": "2021-01-08T09:40:24.149006Z"
    }
   },
   "outputs": [
    {
     "data": {
      "text/html": [
       "<div>\n",
       "<style scoped>\n",
       "    .dataframe tbody tr th:only-of-type {\n",
       "        vertical-align: middle;\n",
       "    }\n",
       "\n",
       "    .dataframe tbody tr th {\n",
       "        vertical-align: top;\n",
       "    }\n",
       "\n",
       "    .dataframe thead th {\n",
       "        text-align: right;\n",
       "    }\n",
       "</style>\n",
       "<table border=\"1\" class=\"dataframe\">\n",
       "  <thead>\n",
       "    <tr style=\"text-align: right;\">\n",
       "      <th></th>\n",
       "      <th>features</th>\n",
       "      <th>coef</th>\n",
       "      <th>exp_coef</th>\n",
       "    </tr>\n",
       "  </thead>\n",
       "  <tbody>\n",
       "    <tr>\n",
       "      <th>25421</th>\n",
       "      <td>say</td>\n",
       "      <td>-1.910448</td>\n",
       "      <td>0.148014</td>\n",
       "    </tr>\n",
       "    <tr>\n",
       "      <th>28362</th>\n",
       "      <td>tell</td>\n",
       "      <td>-1.745447</td>\n",
       "      <td>0.174567</td>\n",
       "    </tr>\n",
       "    <tr>\n",
       "      <th>23084</th>\n",
       "      <td>porn</td>\n",
       "      <td>-1.683083</td>\n",
       "      <td>0.185800</td>\n",
       "    </tr>\n",
       "    <tr>\n",
       "      <th>23033</th>\n",
       "      <td>poop</td>\n",
       "      <td>-1.624445</td>\n",
       "      <td>0.197021</td>\n",
       "    </tr>\n",
       "    <tr>\n",
       "      <th>19617</th>\n",
       "      <td>naked</td>\n",
       "      <td>-1.571741</td>\n",
       "      <td>0.207683</td>\n",
       "    </tr>\n",
       "    <tr>\n",
       "      <th>1059</th>\n",
       "      <td>admits</td>\n",
       "      <td>-1.548580</td>\n",
       "      <td>0.212550</td>\n",
       "    </tr>\n",
       "    <tr>\n",
       "      <th>6395</th>\n",
       "      <td>claim</td>\n",
       "      <td>-1.528386</td>\n",
       "      <td>0.216885</td>\n",
       "    </tr>\n",
       "    <tr>\n",
       "      <th>16421</th>\n",
       "      <td>jesus</td>\n",
       "      <td>-1.524352</td>\n",
       "      <td>0.217762</td>\n",
       "    </tr>\n",
       "    <tr>\n",
       "      <th>32295</th>\n",
       "      <td>warns</td>\n",
       "      <td>-1.489287</td>\n",
       "      <td>0.225533</td>\n",
       "    </tr>\n",
       "    <tr>\n",
       "      <th>25129</th>\n",
       "      <td>russia</td>\n",
       "      <td>-1.443755</td>\n",
       "      <td>0.236040</td>\n",
       "    </tr>\n",
       "    <tr>\n",
       "      <th>27730</th>\n",
       "      <td>sue</td>\n",
       "      <td>-1.434772</td>\n",
       "      <td>0.238170</td>\n",
       "    </tr>\n",
       "    <tr>\n",
       "      <th>1681</th>\n",
       "      <td>allegedly</td>\n",
       "      <td>-1.421019</td>\n",
       "      <td>0.241468</td>\n",
       "    </tr>\n",
       "    <tr>\n",
       "      <th>25868</th>\n",
       "      <td>semen</td>\n",
       "      <td>-1.417499</td>\n",
       "      <td>0.242319</td>\n",
       "    </tr>\n",
       "    <tr>\n",
       "      <th>8577</th>\n",
       "      <td>doesn</td>\n",
       "      <td>-1.384835</td>\n",
       "      <td>0.250365</td>\n",
       "    </tr>\n",
       "    <tr>\n",
       "      <th>3773</th>\n",
       "      <td>because</td>\n",
       "      <td>-1.359445</td>\n",
       "      <td>0.256803</td>\n",
       "    </tr>\n",
       "    <tr>\n",
       "      <th>25138</th>\n",
       "      <td>russian</td>\n",
       "      <td>-1.350197</td>\n",
       "      <td>0.259189</td>\n",
       "    </tr>\n",
       "    <tr>\n",
       "      <th>2870</th>\n",
       "      <td>asks</td>\n",
       "      <td>-1.337023</td>\n",
       "      <td>0.262626</td>\n",
       "    </tr>\n",
       "    <tr>\n",
       "      <th>4717</th>\n",
       "      <td>brexit</td>\n",
       "      <td>-1.313051</td>\n",
       "      <td>0.268998</td>\n",
       "    </tr>\n",
       "    <tr>\n",
       "      <th>26030</th>\n",
       "      <td>sex</td>\n",
       "      <td>-1.310775</td>\n",
       "      <td>0.269611</td>\n",
       "    </tr>\n",
       "    <tr>\n",
       "      <th>12559</th>\n",
       "      <td>god</td>\n",
       "      <td>-1.310221</td>\n",
       "      <td>0.269761</td>\n",
       "    </tr>\n",
       "    <tr>\n",
       "      <th>6597</th>\n",
       "      <td>cocaine</td>\n",
       "      <td>-1.308383</td>\n",
       "      <td>0.270257</td>\n",
       "    </tr>\n",
       "    <tr>\n",
       "      <th>4300</th>\n",
       "      <td>blame</td>\n",
       "      <td>-1.303779</td>\n",
       "      <td>0.271504</td>\n",
       "    </tr>\n",
       "    <tr>\n",
       "      <th>11444</th>\n",
       "      <td>fortnite</td>\n",
       "      <td>-1.303431</td>\n",
       "      <td>0.271598</td>\n",
       "    </tr>\n",
       "    <tr>\n",
       "      <th>32240</th>\n",
       "      <td>want</td>\n",
       "      <td>-1.296935</td>\n",
       "      <td>0.273368</td>\n",
       "    </tr>\n",
       "    <tr>\n",
       "      <th>24041</th>\n",
       "      <td>rat</td>\n",
       "      <td>-1.275266</td>\n",
       "      <td>0.279357</td>\n",
       "    </tr>\n",
       "    <tr>\n",
       "      <th>24187</th>\n",
       "      <td>recommends</td>\n",
       "      <td>-1.273287</td>\n",
       "      <td>0.279910</td>\n",
       "    </tr>\n",
       "    <tr>\n",
       "      <th>930</th>\n",
       "      <td>accidentally</td>\n",
       "      <td>-1.272649</td>\n",
       "      <td>0.280089</td>\n",
       "    </tr>\n",
       "    <tr>\n",
       "      <th>17190</th>\n",
       "      <td>lawmaker</td>\n",
       "      <td>-1.270729</td>\n",
       "      <td>0.280627</td>\n",
       "    </tr>\n",
       "    <tr>\n",
       "      <th>14198</th>\n",
       "      <td>hitler</td>\n",
       "      <td>-1.244217</td>\n",
       "      <td>0.288167</td>\n",
       "    </tr>\n",
       "    <tr>\n",
       "      <th>17243</th>\n",
       "      <td>lead</td>\n",
       "      <td>-1.232919</td>\n",
       "      <td>0.291441</td>\n",
       "    </tr>\n",
       "  </tbody>\n",
       "</table>\n",
       "</div>"
      ],
      "text/plain": [
       "           features      coef  exp_coef\n",
       "25421           say -1.910448  0.148014\n",
       "28362          tell -1.745447  0.174567\n",
       "23084          porn -1.683083  0.185800\n",
       "23033          poop -1.624445  0.197021\n",
       "19617         naked -1.571741  0.207683\n",
       "1059         admits -1.548580  0.212550\n",
       "6395          claim -1.528386  0.216885\n",
       "16421         jesus -1.524352  0.217762\n",
       "32295         warns -1.489287  0.225533\n",
       "25129        russia -1.443755  0.236040\n",
       "27730           sue -1.434772  0.238170\n",
       "1681      allegedly -1.421019  0.241468\n",
       "25868         semen -1.417499  0.242319\n",
       "8577          doesn -1.384835  0.250365\n",
       "3773        because -1.359445  0.256803\n",
       "25138       russian -1.350197  0.259189\n",
       "2870           asks -1.337023  0.262626\n",
       "4717         brexit -1.313051  0.268998\n",
       "26030           sex -1.310775  0.269611\n",
       "12559           god -1.310221  0.269761\n",
       "6597        cocaine -1.308383  0.270257\n",
       "4300          blame -1.303779  0.271504\n",
       "11444      fortnite -1.303431  0.271598\n",
       "32240          want -1.296935  0.273368\n",
       "24041           rat -1.275266  0.279357\n",
       "24187    recommends -1.273287  0.279910\n",
       "930    accidentally -1.272649  0.280089\n",
       "17190      lawmaker -1.270729  0.280627\n",
       "14198        hitler -1.244217  0.288167\n",
       "17243          lead -1.232919  0.291441"
      ]
     },
     "execution_count": 150,
     "metadata": {},
     "output_type": "execute_result"
    }
   ],
   "source": [
    "gs_textnum_coef.sort_values(by='exp_coef').head(30)"
   ]
  },
  {
   "cell_type": "code",
   "execution_count": 123,
   "metadata": {
    "ExecuteTime": {
     "end_time": "2021-01-08T06:25:08.736202Z",
     "start_time": "2021-01-08T06:25:08.591945Z"
    }
   },
   "outputs": [
    {
     "name": "stdout",
     "output_type": "stream",
     "text": [
      "2303 381 480 2204\n"
     ]
    }
   ],
   "source": [
    "# Get predictions\n",
    "pred = gs_textnum.predict(X_test)\n",
    "# Save confusion matrix values\n",
    "tn, fp, fn, tp = confusion_matrix(y_test, pred).ravel()\n",
    "print(tn, fp, fn, tp)"
   ]
  },
  {
   "cell_type": "code",
   "execution_count": 164,
   "metadata": {
    "ExecuteTime": {
     "end_time": "2021-01-08T12:17:59.055537Z",
     "start_time": "2021-01-08T12:17:58.801276Z"
    }
   },
   "outputs": [
    {
     "data": {
      "image/png": "[encoded data removed]",
      "text/plain": [
       "<Figure size 432x288 with 2 Axes>"
      ]
     },
     "metadata": {
      "image/png": {
       "height": 261,
       "width": 370
      }
     },
     "output_type": "display_data"
    }
   ],
   "source": [
    "# View confusion matrix\n",
    "sns.set_style(\"white\")\n",
    "labels = ['NottheOnion', 'UpliftingNews']\n",
    "plot_confusion_matrix(gs_textnum, X_test, y_test, display_labels=labels, cmap=\"Blues\", values_format='d')\n",
    "%config InlineBackend.figure_format = 'retina'"
   ]
  },
  {
   "cell_type": "code",
   "execution_count": 126,
   "metadata": {
    "ExecuteTime": {
     "end_time": "2021-01-08T06:25:40.323875Z",
     "start_time": "2021-01-08T06:25:40.312678Z"
    }
   },
   "outputs": [
    {
     "name": "stdout",
     "output_type": "stream",
     "text": [
      "Accuracy:  84.0 %\n",
      "Precision:  85.3 %\n",
      "\n",
      "\n",
      "Sensitivity:  82.1 %\n",
      "Specificity:  85.8 %\n"
     ]
    }
   ],
   "source": [
    "print('Accuracy: ',(round((tp+tn)*100/(tp+fp+tn+fn),1)), '%')\n",
    "print('Precision: ',(round((tp)*100/(tp+fp),1)), '%')\n",
    "\n",
    "print()\n",
    "print()\n",
    "print('Sensitivity: ',(round((tp)*100/(tp+fn),1)), '%')  \n",
    "print('Specificity: ',(round((tn)*100/(tn+fp),1)), '%')  "
   ]
  },
  {
   "cell_type": "code",
   "execution_count": 170,
   "metadata": {
    "ExecuteTime": {
     "end_time": "2021-01-09T03:08:36.537820Z",
     "start_time": "2021-01-09T03:08:36.511980Z"
    }
   },
   "outputs": [],
   "source": [
    "X = df['title']\n",
    "y = df['subreddit']\n",
    "X_train, X_test, y_train, y_test = train_test_split(X, y, test_size=0.33, random_state=42)\n",
    "import sys\n",
    "\n",
    "\n",
    "\n",
    "cvecrf_pipe = Pipeline([\n",
    "    ('cvec', CountVectorizer()),\n",
    "    ('rf', RandomForestClassifier()),\n",
    "])\n",
    "\n",
    "cvecrf_params = {\n",
    "    'cvec__max_features' : [10000, 50000, 150000],\n",
    "    'cvec__min_df': [2, 3],\n",
    "    'cvec__max_df': [.99, .98],\n",
    "    'cvec__stop_words' : [None, 'english'],\n",
    "    'cvec__ngram_range' : [(1,1), (1,2)],\n",
    "    \n",
    "    'rf__n_estimators': [100, 200],\n",
    "    'rf__max_depth': [None, 1, 3]\n",
    "}\n",
    "gs_cvecrf = GridSearchCV(cvecrf_pipe,\n",
    "                      cvecrf_params,\n",
    "                      cv = 10,\n",
    "                      verbose=1,\n",
    "                      n_jobs=8)"
   ]
  },
  {
   "cell_type": "code",
   "execution_count": 171,
   "metadata": {
    "ExecuteTime": {
     "end_time": "2021-01-09T03:49:44.435812Z",
     "start_time": "2021-01-09T03:08:40.615520Z"
    }
   },
   "outputs": [
    {
     "name": "stdout",
     "output_type": "stream",
     "text": [
      "Fitting 10 folds for each of 288 candidates, totalling 2880 fits\n"
     ]
    },
    {
     "name": "stderr",
     "output_type": "stream",
     "text": [
      "[Parallel(n_jobs=8)]: Using backend LokyBackend with 8 concurrent workers.\n",
      "/Users/alyssiaoh/opt/anaconda3/lib/python3.8/site-packages/joblib/externals/loky/process_executor.py:688: UserWarning: A worker stopped while some jobs were given to the executor. This can be caused by a too short worker timeout or by a memory leak.\n",
      "  warnings.warn(\n",
      "[Parallel(n_jobs=8)]: Done  34 tasks      | elapsed:   36.3s\n",
      "[Parallel(n_jobs=8)]: Done 184 tasks      | elapsed:  2.5min\n",
      "[Parallel(n_jobs=8)]: Done 434 tasks      | elapsed:  6.1min\n",
      "[Parallel(n_jobs=8)]: Done 784 tasks      | elapsed: 10.9min\n",
      "[Parallel(n_jobs=8)]: Done 1234 tasks      | elapsed: 17.5min\n",
      "[Parallel(n_jobs=8)]: Done 1784 tasks      | elapsed: 24.7min\n",
      "[Parallel(n_jobs=8)]: Done 2434 tasks      | elapsed: 34.2min\n",
      "[Parallel(n_jobs=8)]: Done 2880 out of 2880 | elapsed: 40.6min finished\n"
     ]
    },
    {
     "data": {
      "text/plain": [
       "{'cvec__max_df': 0.98,\n",
       " 'cvec__max_features': 150000,\n",
       " 'cvec__min_df': 2,\n",
       " 'cvec__ngram_range': (1, 2),\n",
       " 'cvec__stop_words': None,\n",
       " 'rf__max_depth': None,\n",
       " 'rf__n_estimators': 200}"
      ]
     },
     "execution_count": 171,
     "metadata": {},
     "output_type": "execute_result"
    }
   ],
   "source": [
    "gs_cvecrf.fit(X_train, y_train)\n",
    "\n",
    "gs_cvecrf.best_params_"
   ]
  },
  {
   "cell_type": "code",
   "execution_count": 172,
   "metadata": {
    "ExecuteTime": {
     "end_time": "2021-01-09T04:17:31.821160Z",
     "start_time": "2021-01-09T04:17:28.037972Z"
    }
   },
   "outputs": [
    {
     "name": "stdout",
     "output_type": "stream",
     "text": [
      "0.9987487835395523\n",
      "0.7898673440587073\n",
      "{'cvec__max_df': 0.98, 'cvec__max_features': 150000, 'cvec__min_df': 2, 'cvec__ngram_range': (1, 2), 'cvec__stop_words': None, 'rf__max_depth': None, 'rf__n_estimators': 200}\n"
     ]
    }
   ],
   "source": [
    "print(gs_cvecrf.score(X_train, y_train))\n",
    "print(gs_cvecrf.score(X_test, y_test))\n",
    "print(gs_cvecrf.best_params_)"
   ]
  },
  {
   "cell_type": "code",
   "execution_count": 173,
   "metadata": {
    "ExecuteTime": {
     "end_time": "2021-01-09T04:18:38.888678Z",
     "start_time": "2021-01-09T04:18:37.667704Z"
    }
   },
   "outputs": [
    {
     "name": "stdout",
     "output_type": "stream",
     "text": [
      "2836 732 757 2761\n"
     ]
    }
   ],
   "source": [
    "# Get predictions\n",
    "pred = gs_cvecrf.predict(X_test)\n",
    "# Save confusion matrix values\n",
    "tn, fp, fn, tp = confusion_matrix(y_test, pred).ravel()\n",
    "print(tn, fp, fn, tp)"
   ]
  },
  {
   "cell_type": "code",
   "execution_count": 174,
   "metadata": {
    "ExecuteTime": {
     "end_time": "2021-01-09T04:18:46.737131Z",
     "start_time": "2021-01-09T04:18:45.249097Z"
    }
   },
   "outputs": [
    {
     "data": {
      "image/png": "[encoded data removed]",
      "text/plain": [
       "<Figure size 432x288 with 2 Axes>"
      ]
     },
     "metadata": {
      "image/png": {
       "height": 261,
       "width": 314
      }
     },
     "output_type": "display_data"
    }
   ],
   "source": [
    "# View confusion matrix\n",
    "sns.set_style(\"white\")\n",
    "plot_confusion_matrix(gs_cvecrf, X_test, y_test, cmap=\"Blues\", values_format='d')\n",
    "%config InlineBackend.figure_format = 'retina'"
   ]
  },
  {
   "cell_type": "code",
   "execution_count": 175,
   "metadata": {
    "ExecuteTime": {
     "end_time": "2021-01-09T04:18:58.730715Z",
     "start_time": "2021-01-09T04:18:58.719391Z"
    }
   },
   "outputs": [
    {
     "name": "stdout",
     "output_type": "stream",
     "text": [
      "Accuracy:  79.0 %\n",
      "Precision:  79.0 %\n",
      "\n",
      "\n",
      "Sensitivity:  78.5 %\n",
      "Specificity:  79.5 %\n"
     ]
    }
   ],
   "source": [
    "print('Accuracy: ',(round((tp+tn)*100/(tp+fp+tn+fn),1)), '%')\n",
    "print('Precision: ',(round((tp)*100/(tp+fp),1)), '%')\n",
    "\n",
    "print()\n",
    "print()\n",
    "print('Sensitivity: ',(round((tp)*100/(tp+fn),1)), '%')  \n",
    "print('Specificity: ',(round((tn)*100/(tn+fp),1)), '%')  "
   ]
  },
  {
   "cell_type": "code",
   "execution_count": 167,
   "metadata": {
    "ExecuteTime": {
     "end_time": "2021-01-09T02:49:44.570351Z",
     "start_time": "2021-01-09T02:49:44.539509Z"
    },
    "run_control": {
     "marked": true
    }
   },
   "outputs": [],
   "source": [
    "X = df['title']\n",
    "y = df['subreddit']\n",
    "X_train, X_test, y_train, y_test = train_test_split(X, y, test_size=0.33, random_state=42)\n",
    "import sys\n",
    "\n",
    "\n",
    "\n",
    "rf_pipe = Pipeline([\n",
    "    ('tvec', TfidfVectorizer()),\n",
    "    ('rf', RandomForestClassifier()),\n",
    "])\n",
    "\n",
    "# define parameter grid for SVC model\n",
    "rf_params = {\n",
    "    'tvec__max_features' : [2000, 10000, 16000],\n",
    "    'tvec__stop_words' : [None, 'english'],\n",
    "    'tvec__use_idf': (True, False),\n",
    "    'tvec__norm': ('l1', 'l2'),\n",
    "    'tvec__ngram_range' : [(1,1), (1,2)],\n",
    "    \n",
    "    'rf__n_estimators': [100, 200],\n",
    "    'rf__max_depth': [None, 1, 3]\n",
    "}\n",
    "\n",
    "gs_rf = GridSearchCV(rf_pipe,\n",
    "                      rf_params,\n",
    "                      cv = 10,\n",
    "                      verbose=1,\n",
    "                      n_jobs=8)"
   ]
  },
  {
   "cell_type": "code",
   "execution_count": 168,
   "metadata": {
    "ExecuteTime": {
     "end_time": "2021-01-09T03:05:51.436124Z",
     "start_time": "2021-01-09T02:49:48.399250Z"
    }
   },
   "outputs": [
    {
     "name": "stdout",
     "output_type": "stream",
     "text": [
      "Fitting 5 folds for each of 288 candidates, totalling 1440 fits\n"
     ]
    },
    {
     "name": "stderr",
     "output_type": "stream",
     "text": [
      "[Parallel(n_jobs=8)]: Using backend LokyBackend with 8 concurrent workers.\n",
      "[Parallel(n_jobs=8)]: Done  34 tasks      | elapsed:   38.4s\n",
      "/Users/alyssiaoh/opt/anaconda3/lib/python3.8/site-packages/joblib/externals/loky/process_executor.py:688: UserWarning: A worker stopped while some jobs were given to the executor. This can be caused by a too short worker timeout or by a memory leak.\n",
      "  warnings.warn(\n",
      "[Parallel(n_jobs=8)]: Done 184 tasks      | elapsed:  3.4min\n",
      "[Parallel(n_jobs=8)]: Done 434 tasks      | elapsed: 11.9min\n",
      "[Parallel(n_jobs=8)]: Done 784 tasks      | elapsed: 14.4min\n",
      "[Parallel(n_jobs=8)]: Done 1234 tasks      | elapsed: 15.3min\n",
      "[Parallel(n_jobs=8)]: Done 1440 out of 1440 | elapsed: 15.7min finished\n"
     ]
    },
    {
     "data": {
      "text/plain": [
       "{'rf__max_depth': None,\n",
       " 'rf__n_estimators': 200,\n",
       " 'tvec__max_features': 16000,\n",
       " 'tvec__ngram_range': (1, 1),\n",
       " 'tvec__norm': 'l2',\n",
       " 'tvec__stop_words': None,\n",
       " 'tvec__use_idf': False}"
      ]
     },
     "execution_count": 168,
     "metadata": {},
     "output_type": "execute_result"
    }
   ],
   "source": [
    "gs_rf.fit(X_train, y_train)\n",
    "\n",
    "gs_rf.best_params_"
   ]
  },
  {
   "cell_type": "code",
   "execution_count": 169,
   "metadata": {
    "ExecuteTime": {
     "end_time": "2021-01-09T03:06:10.618380Z",
     "start_time": "2021-01-09T03:06:08.121438Z"
    }
   },
   "outputs": [
    {
     "name": "stdout",
     "output_type": "stream",
     "text": [
      "0.9987487835395523\n",
      "0.7870448772226927\n",
      "{'rf__max_depth': None, 'rf__n_estimators': 200, 'tvec__max_features': 16000, 'tvec__ngram_range': (1, 1), 'tvec__norm': 'l2', 'tvec__stop_words': None, 'tvec__use_idf': False}\n"
     ]
    }
   ],
   "source": [
    "print(gs_rf.score(X_train, y_train))\n",
    "print(gs_rf.score(X_test, y_test))\n",
    "print(gs_rf.best_params_)"
   ]
  },
  {
   "cell_type": "code",
   "execution_count": null,
   "metadata": {},
   "outputs": [],
   "source": []
  },
  {
   "cell_type": "code",
   "execution_count": 113,
   "metadata": {
    "ExecuteTime": {
     "end_time": "2021-01-08T06:25:08.736202Z",
     "start_time": "2021-01-08T06:25:08.591945Z"
    }
   },
   "outputs": [
    {
     "name": "stdout",
     "output_type": "stream",
     "text": [
      "2742 826 675 2843\n"
     ]
    }
   ],
   "source": [
    "# Get predictions\n",
    "pred = gs_rf.predict(X_test)\n",
    "# Save confusion matrix values\n",
    "tn, fp, fn, tp = confusion_matrix(y_test, pred).ravel()\n",
    "print(tn, fp, fn, tp)"
   ]
  },
  {
   "cell_type": "code",
   "execution_count": 114,
   "metadata": {
    "ExecuteTime": {
     "end_time": "2021-01-08T12:17:59.055537Z",
     "start_time": "2021-01-08T12:17:58.801276Z"
    }
   },
   "outputs": [
    {
     "data": {
      "image/png": "[encoded data removed]",
      "text/plain": [
       "<Figure size 432x288 with 2 Axes>"
      ]
     },
     "metadata": {
      "image/png": {
       "height": 261,
       "width": 314
      }
     },
     "output_type": "display_data"
    }
   ],
   "source": [
    "# View confusion matrix\n",
    "sns.set_style(\"white\")\n",
    "plot_confusion_matrix(gs_rf, X_test, y_test, cmap=\"Blues\", values_format='d')\n",
    "%config InlineBackend.figure_format = 'retina'"
   ]
  },
  {
   "cell_type": "code",
   "execution_count": 115,
   "metadata": {
    "ExecuteTime": {
     "end_time": "2021-01-08T06:25:40.323875Z",
     "start_time": "2021-01-08T06:25:40.312678Z"
    }
   },
   "outputs": [
    {
     "name": "stdout",
     "output_type": "stream",
     "text": [
      "Accuracy:  78.8 %\n",
      "Precision:  77.5 %\n",
      "\n",
      "\n",
      "Sensitivity:  80.8 %\n",
      "Specificity:  76.8 %\n"
     ]
    }
   ],
   "source": [
    "print('Accuracy: ',(round((tp+tn)*100/(tp+fp+tn+fn),1)), '%')\n",
    "print('Precision: ',(round((tp)*100/(tp+fp),1)), '%')\n",
    "\n",
    "print()\n",
    "print()\n",
    "print('Sensitivity: ',(round((tp)*100/(tp+fn),1)), '%')  \n",
    "print('Specificity: ',(round((tn)*100/(tn+fp),1)), '%')  "
   ]
  },
  {
   "cell_type": "code",
   "execution_count": 132,
   "metadata": {
    "ExecuteTime": {
     "end_time": "2021-01-08T06:39:12.532664Z",
     "start_time": "2021-01-08T06:33:11.028432Z"
    }
   },
   "outputs": [
    {
     "name": "stdout",
     "output_type": "stream",
     "text": [
      "Fitting 10 folds for each of 384 candidates, totalling 3840 fits\n"
     ]
    },
    {
     "name": "stderr",
     "output_type": "stream",
     "text": [
      "[Parallel(n_jobs=8)]: Using backend LokyBackend with 8 concurrent workers.\n",
      "[Parallel(n_jobs=8)]: Done  34 tasks      | elapsed:    1.4s\n",
      "/Users/alyssiaoh/opt/anaconda3/lib/python3.8/site-packages/joblib/externals/loky/process_executor.py:688: UserWarning: A worker stopped while some jobs were given to the executor. This can be caused by a too short worker timeout or by a memory leak.\n",
      "  warnings.warn(\n",
      "[Parallel(n_jobs=8)]: Done 184 tasks      | elapsed:   14.8s\n",
      "[Parallel(n_jobs=8)]: Done 434 tasks      | elapsed:   35.1s\n",
      "[Parallel(n_jobs=8)]: Done 784 tasks      | elapsed:  1.1min\n",
      "[Parallel(n_jobs=8)]: Done 1234 tasks      | elapsed:  1.6min\n",
      "[Parallel(n_jobs=8)]: Done 1784 tasks      | elapsed:  2.5min\n",
      "[Parallel(n_jobs=8)]: Done 2434 tasks      | elapsed:  3.4min\n",
      "[Parallel(n_jobs=8)]: Done 3184 tasks      | elapsed:  4.8min\n",
      "[Parallel(n_jobs=8)]: Done 3840 out of 3840 | elapsed:  6.0min finished\n"
     ]
    },
    {
     "data": {
      "text/plain": [
       "{'logreg__C': 10,\n",
       " 'logreg__max_iter': 1000,\n",
       " 'logreg__penalty': 'l2',\n",
       " 'tvec__max_features': 16000,\n",
       " 'tvec__ngram_range': (1, 2),\n",
       " 'tvec__norm': 'l2',\n",
       " 'tvec__stop_words': None,\n",
       " 'tvec__use_idf': False}"
      ]
     },
     "execution_count": 132,
     "metadata": {},
     "output_type": "execute_result"
    }
   ],
   "source": [
    "# Instantiate the transformer.\n",
    "tvec = TfidfVectorizer()\n",
    "\n",
    "\n",
    "\n",
    "# Let's set a pipeline up with two stages:\n",
    "# 1. tf-idf vectorizer (transformer)\n",
    "# 2. Multinomial Naive Bayes (estimator)\n",
    "\n",
    "tveclr_pipe = Pipeline([\n",
    "    ('tvec' , TfidfVectorizer()),\n",
    "    ('logreg', LogisticRegression())\n",
    "])\n",
    "\n",
    "\n",
    "pipe_params_tveclr = {\n",
    "    'tvec__max_features' : [2000, 4000, 8000, 16000],\n",
    "    'tvec__stop_words' : [None, 'english'],\n",
    "    'tvec__use_idf': (True, False),\n",
    "    'tvec__norm': ('l1', 'l2'),\n",
    "    'tvec__ngram_range' : [(1,1), (1,2)],\n",
    "    'logreg__penalty' : ['l2'],\n",
    "    'logreg__C': [0.1, 1, 10],\n",
    "    'logreg__max_iter': [1000, 5000]\n",
    "}\n",
    "\n",
    "# Instantiate GridSearchCV.\n",
    "# Instantiate GridSearchCV.\n",
    "gs_tveclr = GridSearchCV(tveclr_pipe,\n",
    "                      pipe_params_tveclr,\n",
    "                      cv = 10,\n",
    "                      verbose=1,\n",
    "                      n_jobs=8)\n",
    "\n",
    "# Fit GridSearch to training data.\n",
    "gs_tveclr.fit(X_train, y_train)\n",
    "\n",
    "gs_tveclr.best_params_"
   ]
  },
  {
   "cell_type": "code",
   "execution_count": 133,
   "metadata": {
    "ExecuteTime": {
     "end_time": "2021-01-08T06:42:07.639015Z",
     "start_time": "2021-01-08T06:42:07.226663Z"
    }
   },
   "outputs": [
    {
     "name": "stdout",
     "output_type": "stream",
     "text": [
      "0.9680939802585847\n",
      "0.8199266158622636\n"
     ]
    }
   ],
   "source": [
    "print(gs_tveclr.score(X_train, y_train))\n",
    "print(gs_tveclr.score(X_test, y_test))\n"
   ]
  },
  {
   "cell_type": "code",
   "execution_count": 134,
   "metadata": {
    "ExecuteTime": {
     "end_time": "2021-01-08T06:43:04.089304Z",
     "start_time": "2021-01-08T06:43:03.918090Z"
    }
   },
   "outputs": [
    {
     "name": "stdout",
     "output_type": "stream",
     "text": [
      "2909 659 617 2901\n"
     ]
    }
   ],
   "source": [
    "# Get predictions\n",
    "pred = gs_tveclr.predict(X_test)\n",
    "# Save confusion matrix values\n",
    "tn, fp, fn, tp = confusion_matrix(y_test, pred).ravel()\n",
    "print(tn, fp, fn, tp)"
   ]
  },
  {
   "cell_type": "code",
   "execution_count": 140,
   "metadata": {
    "ExecuteTime": {
     "end_time": "2021-01-08T06:55:24.761669Z",
     "start_time": "2021-01-08T06:55:24.489025Z"
    }
   },
   "outputs": [
    {
     "data": {
      "image/png": "[encoded data removed]",
      "text/plain": [
       "<Figure size 432x288 with 2 Axes>"
      ]
     },
     "metadata": {
      "image/png": {
       "height": 261,
       "width": 314
      }
     },
     "output_type": "display_data"
    }
   ],
   "source": [
    "# View confusion matrix\n",
    "sns.set_style(\"white\")\n",
    "plot_confusion_matrix(gs_tveclr, X_test, y_test, cmap=\"Blues\", values_format='d')\n",
    "%config InlineBackend.figure_format = 'retina'"
   ]
  },
  {
   "cell_type": "code",
   "execution_count": 136,
   "metadata": {
    "ExecuteTime": {
     "end_time": "2021-01-08T06:43:20.849966Z",
     "start_time": "2021-01-08T06:43:20.840771Z"
    }
   },
   "outputs": [
    {
     "name": "stdout",
     "output_type": "stream",
     "text": [
      "Accuracy:  82.0 %\n",
      "Precision:  81.5 %\n",
      "\n",
      "\n",
      "Sensitivity:  82.5 %\n",
      "Specificity:  81.5 %\n"
     ]
    }
   ],
   "source": [
    "print('Accuracy: ',(round((tp+tn)*100/(tp+fp+tn+fn),1)), '%')\n",
    "print('Precision: ',(round((tp)*100/(tp+fp),1)), '%')\n",
    "\n",
    "print()\n",
    "print()\n",
    "print('Sensitivity: ',(round((tp)*100/(tp+fn),1)), '%')  \n",
    "print('Specificity: ',(round((tn)*100/(tn+fp),1)), '%')  "
   ]
  },
  {
   "cell_type": "code",
   "execution_count": 144,
   "metadata": {
    "ExecuteTime": {
     "end_time": "2021-01-08T07:08:17.376357Z",
     "start_time": "2021-01-08T07:02:26.628298Z"
    }
   },
   "outputs": [
    {
     "name": "stdout",
     "output_type": "stream",
     "text": [
      "Fitting 10 folds for each of 288 candidates, totalling 2880 fits\n"
     ]
    },
    {
     "name": "stderr",
     "output_type": "stream",
     "text": [
      "[Parallel(n_jobs=8)]: Using backend LokyBackend with 8 concurrent workers.\n",
      "[Parallel(n_jobs=8)]: Done  34 tasks      | elapsed:    4.1s\n",
      "/Users/alyssiaoh/opt/anaconda3/lib/python3.8/site-packages/joblib/externals/loky/process_executor.py:688: UserWarning: A worker stopped while some jobs were given to the executor. This can be caused by a too short worker timeout or by a memory leak.\n",
      "  warnings.warn(\n",
      "[Parallel(n_jobs=8)]: Done 184 tasks      | elapsed:   23.2s\n",
      "[Parallel(n_jobs=8)]: Done 434 tasks      | elapsed:   51.5s\n",
      "[Parallel(n_jobs=8)]: Done 784 tasks      | elapsed:  1.6min\n",
      "[Parallel(n_jobs=8)]: Done 1234 tasks      | elapsed:  2.5min\n",
      "[Parallel(n_jobs=8)]: Done 1784 tasks      | elapsed:  3.5min\n",
      "[Parallel(n_jobs=8)]: Done 2434 tasks      | elapsed:  4.9min\n",
      "[Parallel(n_jobs=8)]: Done 2880 out of 2880 | elapsed:  5.8min finished\n"
     ]
    },
    {
     "data": {
      "text/plain": [
       "{'cvec__max_df': 0.99,\n",
       " 'cvec__max_features': 50000,\n",
       " 'cvec__min_df': 2,\n",
       " 'cvec__ngram_range': (1, 2),\n",
       " 'cvec__stop_words': None,\n",
       " 'logreg__C': 1,\n",
       " 'logreg__max_iter': 1000,\n",
       " 'logreg__penalty': 'l2'}"
      ]
     },
     "execution_count": 144,
     "metadata": {},
     "output_type": "execute_result"
    }
   ],
   "source": [
    "\n",
    "\n",
    "\n",
    "# Let's set a pipeline up with two stages:\n",
    "# 1. tf-idf vectorizer (transformer)\n",
    "# 2. Multinomial Naive Bayes (estimator)\n",
    "\n",
    "cveclr_pipe = Pipeline([\n",
    "    ('cvec' , CountVectorizer()),\n",
    "    ('logreg', LogisticRegression())\n",
    "])\n",
    "\n",
    "\n",
    "pipe_params_cveclr = {\n",
    "    'cvec__max_features' : [10000, 50000, 150000],\n",
    "    'cvec__min_df': [2, 3],\n",
    "    'cvec__max_df': [.99, .98],\n",
    "    'cvec__stop_words' : [None, 'english'],\n",
    "    'cvec__ngram_range' : [(1,1), (1,2)],\n",
    "    'logreg__penalty' : ['l2'],\n",
    "    'logreg__C': [0.1, 1, 10],\n",
    "    'logreg__max_iter': [1000, 5000]\n",
    "}\n",
    "\n",
    "# Instantiate GridSearchCV.\n",
    "# Instantiate GridSearchCV.\n",
    "gs_cveclr = GridSearchCV(cveclr_pipe,\n",
    "                      pipe_params_cveclr,\n",
    "                      cv = 10,\n",
    "                      verbose=1,\n",
    "                      n_jobs=8)\n",
    "\n",
    "# Fit GridSearch to training data.\n",
    "gs_cveclr.fit(X_train, y_train)\n",
    "\n",
    "gs_cveclr.best_params_"
   ]
  },
  {
   "cell_type": "code",
   "execution_count": 145,
   "metadata": {
    "ExecuteTime": {
     "end_time": "2021-01-08T07:08:53.234126Z",
     "start_time": "2021-01-08T07:08:52.811781Z"
    }
   },
   "outputs": [
    {
     "name": "stdout",
     "output_type": "stream",
     "text": [
      "0.9895036841373558\n",
      "0.8241603161162856\n"
     ]
    }
   ],
   "source": [
    "print(gs_cveclr.score(X_train, y_train))\n",
    "print(gs_cveclr.score(X_test, y_test))\n"
   ]
  },
  {
   "cell_type": "code",
   "execution_count": 146,
   "metadata": {
    "ExecuteTime": {
     "end_time": "2021-01-08T07:08:58.655313Z",
     "start_time": "2021-01-08T07:08:58.477663Z"
    }
   },
   "outputs": [
    {
     "name": "stdout",
     "output_type": "stream",
     "text": [
      "2995 573 673 2845\n"
     ]
    }
   ],
   "source": [
    "# Get predictions\n",
    "pred = gs_cveclr.predict(X_test)\n",
    "# Save confusion matrix values\n",
    "tn, fp, fn, tp = confusion_matrix(y_test, pred).ravel()\n",
    "print(tn, fp, fn, tp)"
   ]
  },
  {
   "cell_type": "code",
   "execution_count": 147,
   "metadata": {
    "ExecuteTime": {
     "end_time": "2021-01-08T07:09:05.195244Z",
     "start_time": "2021-01-08T07:09:04.920659Z"
    }
   },
   "outputs": [
    {
     "data": {
      "image/png": "[encoded data removed]",
      "text/plain": [
       "<Figure size 432x288 with 2 Axes>"
      ]
     },
     "metadata": {
      "image/png": {
       "height": 261,
       "width": 314
      }
     },
     "output_type": "display_data"
    }
   ],
   "source": [
    "# View confusion matrix\n",
    "sns.set_style(\"white\")\n",
    "plot_confusion_matrix(gs_cveclr, X_test, y_test, cmap=\"Blues\", values_format='d')\n",
    "%config InlineBackend.figure_format = 'retina'"
   ]
  },
  {
   "cell_type": "code",
   "execution_count": 148,
   "metadata": {
    "ExecuteTime": {
     "end_time": "2021-01-08T07:09:09.826362Z",
     "start_time": "2021-01-08T07:09:09.814542Z"
    }
   },
   "outputs": [
    {
     "name": "stdout",
     "output_type": "stream",
     "text": [
      "Accuracy:  82.4 %\n",
      "Precision:  83.2 %\n",
      "\n",
      "\n",
      "Sensitivity:  80.9 %\n",
      "Specificity:  83.9 %\n"
     ]
    }
   ],
   "source": [
    "print('Accuracy: ',(round((tp+tn)*100/(tp+fp+tn+fn),1)), '%')\n",
    "print('Precision: ',(round((tp)*100/(tp+fp),1)), '%')\n",
    "\n",
    "print()\n",
    "print()\n",
    "print('Sensitivity: ',(round((tp)*100/(tp+fn),1)), '%')  \n",
    "print('Specificity: ',(round((tn)*100/(tn+fp),1)), '%')  "
   ]
  },
  {
   "cell_type": "code",
   "execution_count": null,
   "metadata": {},
   "outputs": [],
   "source": []
  }
 ],
 "metadata": {
  "kernelspec": {
   "display_name": "Python 3",
   "language": "python",
   "name": "python3"
  },
  "language_info": {
   "codemirror_mode": {
    "name": "ipython",
    "version": 3
   },
   "file_extension": ".py",
   "mimetype": "text/x-python",
   "name": "python",
   "nbconvert_exporter": "python",
   "pygments_lexer": "ipython3",
   "version": "3.8.5"
  },
  "toc": {
   "base_numbering": 1,
   "nav_menu": {},
   "number_sections": true,
   "sideBar": true,
   "skip_h1_title": false,
   "title_cell": "Table of Contents",
   "title_sidebar": "Contents",
   "toc_cell": false,
   "toc_position": {
    "height": "853px",
    "left": "49px",
    "top": "110px",
    "width": "279.344px"
   },
   "toc_section_display": true,
   "toc_window_display": true
  },
  "varInspector": {
   "cols": {
    "lenName": 16,
    "lenType": 16,
    "lenVar": 40
   },
   "kernels_config": {
    "python": {
     "delete_cmd_postfix": "",
     "delete_cmd_prefix": "del ",
     "library": "var_list.py",
     "varRefreshCmd": "print(var_dic_list())"
    },
    "r": {
     "delete_cmd_postfix": ") ",
     "delete_cmd_prefix": "rm(",
     "library": "var_list.r",
     "varRefreshCmd": "cat(var_dic_list()) "
    }
   },
   "types_to_exclude": [
    "module",
    "function",
    "builtin_function_or_method",
    "instance",
    "_Feature"
   ],
   "window_display": false
  }
 },
 "nbformat": 4,
 "nbformat_minor": 4
}

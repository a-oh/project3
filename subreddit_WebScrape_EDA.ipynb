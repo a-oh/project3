{
 "cells": [
  {
   "cell_type": "markdown",
   "metadata": {},
   "source": [
    "# PushShift Reddit Web Scraping"
   ]
  },
  {
   "cell_type": "code",
   "execution_count": 1,
   "metadata": {
    "ExecuteTime": {
     "end_time": "2021-01-07T21:55:00.597965Z",
     "start_time": "2021-01-07T21:54:58.498582Z"
    }
   },
   "outputs": [],
   "source": [
    "import numpy as np\n",
    "import pandas as pd\n",
    "import time\n",
    "import matplotlib.pyplot as plt\n",
    "import seaborn as sns\n",
    "\n",
    "\n",
    "import requests\n",
    "from bs4 import BeautifulSoup    \n",
    "from nltk.tokenize import sent_tokenize, word_tokenize, RegexpTokenizer\n",
    "from nltk.stem import WordNetLemmatizer\n",
    "from nltk.stem.porter import PorterStemmer\n",
    "from nltk.corpus import stopwords\n",
    "from nltk.sentiment.vader import SentimentIntensityAnalyzer\n",
    "from nltk import FreqDist, pos_tag\n",
    "from collections import Counter\n",
    "import re\n",
    "\n",
    "\n",
    "from sklearn.model_selection import train_test_split, GridSearchCV\n",
    "from sklearn.pipeline import Pipeline, FeatureUnion\n",
    "from sklearn.naive_bayes import MultinomialNB\n",
    "from sklearn.linear_model import LogisticRegression\n",
    "from sklearn.metrics import confusion_matrix, plot_confusion_matrix\n",
    "from sklearn.preprocessing import StandardScaler, FunctionTransformer\n",
    "\n",
    "# Import CountVectorizer and TFIDFVectorizer from feature_extraction.text.\n",
    "from sklearn.feature_extraction.text import CountVectorizer, TfidfVectorizer\n",
    "sns.set_style('darkgrid')\n",
    "pd.set_option('display.max_columns', None)\n",
    "\n",
    "\n",
    "pd.options.display.max_colwidth = 400\n",
    "%config InlineBackend.figure_format = 'retina'"
   ]
  },
  {
   "cell_type": "markdown",
   "metadata": {},
   "source": [
    "## Fetch 10000 posts from Uplifting News with score >= 10 and comments >= 10\n",
    "\n",
    "> - this was done as initial QC - a lot of articles are posted everyday in these subreddits, and most of them do not receive as much attention from users. \n",
    "> - from my initial approach to scrape 50,000 posts from both, I tightened the parameters to get 10,000 posts that pass my criteria as QC measure"
   ]
  },
  {
   "cell_type": "code",
   "execution_count": 52,
   "metadata": {
    "ExecuteTime": {
     "end_time": "2020-12-29T23:56:26.796608Z",
     "start_time": "2020-12-29T23:37:54.660481Z"
    },
    "scrolled": true
   },
   "outputs": [
    {
     "name": "stdout",
     "output_type": "stream",
     "text": [
      "res 1 code:  200\n",
      "res 2 code:  200\n",
      "res 3 code:  200\n",
      "res 4 code:  200\n",
      "res 5 code:  200\n",
      "res 6 code:  200\n",
      "res 7 code:  200\n",
      "res 8 code:  200\n",
      "res 9 code:  200\n",
      "res 10 code:  502\n",
      "res 11 code:  200\n",
      "res 12 code:  200\n",
      "res 13 code:  200\n",
      "res 14 code:  200\n",
      "res 15 code:  200\n",
      "res 16 code:  200\n",
      "res 17 code:  200\n",
      "res 18 code:  200\n",
      "res 19 code:  502\n",
      "res 20 code:  502\n",
      "res 21 code:  200\n",
      "res 22 code:  200\n",
      "res 23 code:  200\n",
      "res 24 code:  200\n",
      "res 25 code:  200\n",
      "res 26 code:  200\n",
      "res 27 code:  200\n",
      "res 28 code:  200\n",
      "res 29 code:  200\n",
      "res 30 code:  200\n",
      "res 31 code:  200\n",
      "res 32 code:  200\n",
      "res 33 code:  200\n",
      "res 34 code:  200\n",
      "res 35 code:  200\n",
      "res 36 code:  200\n",
      "res 37 code:  200\n",
      "res 38 code:  200\n",
      "res 39 code:  200\n",
      "res 40 code:  200\n",
      "res 41 code:  200\n",
      "res 42 code:  200\n",
      "res 43 code:  200\n",
      "res 44 code:  200\n",
      "res 45 code:  200\n",
      "res 46 code:  200\n",
      "res 47 code:  502\n",
      "res 48 code:  200\n",
      "res 49 code:  200\n",
      "res 50 code:  200\n",
      "res 51 code:  200\n",
      "res 52 code:  200\n",
      "res 53 code:  200\n",
      "res 54 code:  200\n",
      "res 55 code:  200\n",
      "res 56 code:  200\n",
      "res 57 code:  200\n",
      "res 58 code:  200\n",
      "res 59 code:  200\n",
      "res 60 code:  200\n",
      "res 61 code:  200\n",
      "res 62 code:  200\n",
      "res 63 code:  200\n",
      "res 64 code:  200\n",
      "res 65 code:  200\n",
      "res 66 code:  200\n",
      "res 67 code:  502\n",
      "res 68 code:  200\n",
      "res 69 code:  200\n",
      "res 70 code:  200\n",
      "res 71 code:  200\n",
      "res 72 code:  200\n",
      "res 73 code:  200\n",
      "res 74 code:  200\n",
      "res 75 code:  200\n",
      "res 76 code:  200\n",
      "res 77 code:  200\n",
      "res 78 code:  200\n",
      "res 79 code:  200\n",
      "res 80 code:  200\n",
      "res 81 code:  200\n",
      "res 82 code:  200\n",
      "res 83 code:  200\n",
      "res 84 code:  200\n",
      "res 85 code:  200\n",
      "res 86 code:  200\n",
      "res 87 code:  200\n",
      "res 88 code:  200\n",
      "res 89 code:  200\n",
      "res 90 code:  200\n",
      "res 91 code:  200\n",
      "res 92 code:  200\n",
      "res 93 code:  200\n",
      "res 94 code:  200\n",
      "res 95 code:  200\n",
      "res 96 code:  200\n",
      "res 97 code:  200\n",
      "res 98 code:  200\n",
      "res 99 code:  200\n",
      "res 100 code:  200\n",
      "res 101 code:  200\n",
      "res 102 code:  200\n",
      "res 103 code:  200\n",
      "res 104 code:  200\n",
      "res 105 code:  502\n",
      "res 106 code:  200\n",
      "res 107 code:  200\n",
      "res 108 code:  200\n",
      "res 109 code:  200\n",
      "res 110 code:  200\n",
      "res 111 code:  200\n",
      "res 112 code:  200\n",
      "res 113 code:  200\n",
      "res 114 code:  200\n",
      "res 115 code:  200\n",
      "res 116 code:  200\n"
     ]
    },
    {
     "ename": "KeyError",
     "evalue": "'created_utc'",
     "output_type": "error",
     "traceback": [
      "\u001b[0;31m---------------------------------------------------------------------------\u001b[0m",
      "\u001b[0;31mKeyError\u001b[0m                                  Traceback (most recent call last)",
      "\u001b[0;32m~/opt/anaconda3/lib/python3.8/site-packages/pandas/core/indexes/base.py\u001b[0m in \u001b[0;36mget_loc\u001b[0;34m(self, key, method, tolerance)\u001b[0m\n\u001b[1;32m   2894\u001b[0m             \u001b[0;32mtry\u001b[0m\u001b[0;34m:\u001b[0m\u001b[0;34m\u001b[0m\u001b[0;34m\u001b[0m\u001b[0m\n\u001b[0;32m-> 2895\u001b[0;31m                 \u001b[0;32mreturn\u001b[0m \u001b[0mself\u001b[0m\u001b[0;34m.\u001b[0m\u001b[0m_engine\u001b[0m\u001b[0;34m.\u001b[0m\u001b[0mget_loc\u001b[0m\u001b[0;34m(\u001b[0m\u001b[0mcasted_key\u001b[0m\u001b[0;34m)\u001b[0m\u001b[0;34m\u001b[0m\u001b[0;34m\u001b[0m\u001b[0m\n\u001b[0m\u001b[1;32m   2896\u001b[0m             \u001b[0;32mexcept\u001b[0m \u001b[0mKeyError\u001b[0m \u001b[0;32mas\u001b[0m \u001b[0merr\u001b[0m\u001b[0;34m:\u001b[0m\u001b[0;34m\u001b[0m\u001b[0;34m\u001b[0m\u001b[0m\n",
      "\u001b[0;32mpandas/_libs/index.pyx\u001b[0m in \u001b[0;36mpandas._libs.index.IndexEngine.get_loc\u001b[0;34m()\u001b[0m\n",
      "\u001b[0;32mpandas/_libs/index.pyx\u001b[0m in \u001b[0;36mpandas._libs.index.IndexEngine.get_loc\u001b[0;34m()\u001b[0m\n",
      "\u001b[0;32mpandas/_libs/hashtable_class_helper.pxi\u001b[0m in \u001b[0;36mpandas._libs.hashtable.PyObjectHashTable.get_item\u001b[0;34m()\u001b[0m\n",
      "\u001b[0;32mpandas/_libs/hashtable_class_helper.pxi\u001b[0m in \u001b[0;36mpandas._libs.hashtable.PyObjectHashTable.get_item\u001b[0;34m()\u001b[0m\n",
      "\u001b[0;31mKeyError\u001b[0m: 'created_utc'",
      "\nThe above exception was the direct cause of the following exception:\n",
      "\u001b[0;31mKeyError\u001b[0m                                  Traceback (most recent call last)",
      "\u001b[0;32m<ipython-input-52-2ec30d8d2698>\u001b[0m in \u001b[0;36m<module>\u001b[0;34m\u001b[0m\n\u001b[1;32m     28\u001b[0m         \u001b[0mdfs\u001b[0m\u001b[0;34m.\u001b[0m\u001b[0mappend\u001b[0m\u001b[0;34m(\u001b[0m\u001b[0mpost_df\u001b[0m\u001b[0;34m)\u001b[0m\u001b[0;34m\u001b[0m\u001b[0;34m\u001b[0m\u001b[0m\n\u001b[1;32m     29\u001b[0m         \u001b[0;31m#get oldest post time and use as before parameter in next request\u001b[0m\u001b[0;34m\u001b[0m\u001b[0;34m\u001b[0m\u001b[0;34m\u001b[0m\u001b[0m\n\u001b[0;32m---> 30\u001b[0;31m         \u001b[0moldest\u001b[0m \u001b[0;34m=\u001b[0m \u001b[0mpost_df\u001b[0m\u001b[0;34m[\u001b[0m\u001b[0;34m'created_utc'\u001b[0m\u001b[0;34m]\u001b[0m\u001b[0;34m.\u001b[0m\u001b[0mmin\u001b[0m\u001b[0;34m(\u001b[0m\u001b[0;34m)\u001b[0m\u001b[0;34m\u001b[0m\u001b[0;34m\u001b[0m\u001b[0m\n\u001b[0m\u001b[1;32m     31\u001b[0m         \u001b[0mparams\u001b[0m\u001b[0;34m[\u001b[0m\u001b[0;34m'before'\u001b[0m\u001b[0;34m]\u001b[0m \u001b[0;34m=\u001b[0m \u001b[0moldest\u001b[0m\u001b[0;34m\u001b[0m\u001b[0;34m\u001b[0m\u001b[0m\n\u001b[1;32m     32\u001b[0m \u001b[0;34m\u001b[0m\u001b[0m\n",
      "\u001b[0;32m~/opt/anaconda3/lib/python3.8/site-packages/pandas/core/frame.py\u001b[0m in \u001b[0;36m__getitem__\u001b[0;34m(self, key)\u001b[0m\n\u001b[1;32m   2900\u001b[0m             \u001b[0;32mif\u001b[0m \u001b[0mself\u001b[0m\u001b[0;34m.\u001b[0m\u001b[0mcolumns\u001b[0m\u001b[0;34m.\u001b[0m\u001b[0mnlevels\u001b[0m \u001b[0;34m>\u001b[0m \u001b[0;36m1\u001b[0m\u001b[0;34m:\u001b[0m\u001b[0;34m\u001b[0m\u001b[0;34m\u001b[0m\u001b[0m\n\u001b[1;32m   2901\u001b[0m                 \u001b[0;32mreturn\u001b[0m \u001b[0mself\u001b[0m\u001b[0;34m.\u001b[0m\u001b[0m_getitem_multilevel\u001b[0m\u001b[0;34m(\u001b[0m\u001b[0mkey\u001b[0m\u001b[0;34m)\u001b[0m\u001b[0;34m\u001b[0m\u001b[0;34m\u001b[0m\u001b[0m\n\u001b[0;32m-> 2902\u001b[0;31m             \u001b[0mindexer\u001b[0m \u001b[0;34m=\u001b[0m \u001b[0mself\u001b[0m\u001b[0;34m.\u001b[0m\u001b[0mcolumns\u001b[0m\u001b[0;34m.\u001b[0m\u001b[0mget_loc\u001b[0m\u001b[0;34m(\u001b[0m\u001b[0mkey\u001b[0m\u001b[0;34m)\u001b[0m\u001b[0;34m\u001b[0m\u001b[0;34m\u001b[0m\u001b[0m\n\u001b[0m\u001b[1;32m   2903\u001b[0m             \u001b[0;32mif\u001b[0m \u001b[0mis_integer\u001b[0m\u001b[0;34m(\u001b[0m\u001b[0mindexer\u001b[0m\u001b[0;34m)\u001b[0m\u001b[0;34m:\u001b[0m\u001b[0;34m\u001b[0m\u001b[0;34m\u001b[0m\u001b[0m\n\u001b[1;32m   2904\u001b[0m                 \u001b[0mindexer\u001b[0m \u001b[0;34m=\u001b[0m \u001b[0;34m[\u001b[0m\u001b[0mindexer\u001b[0m\u001b[0;34m]\u001b[0m\u001b[0;34m\u001b[0m\u001b[0;34m\u001b[0m\u001b[0m\n",
      "\u001b[0;32m~/opt/anaconda3/lib/python3.8/site-packages/pandas/core/indexes/base.py\u001b[0m in \u001b[0;36mget_loc\u001b[0;34m(self, key, method, tolerance)\u001b[0m\n\u001b[1;32m   2895\u001b[0m                 \u001b[0;32mreturn\u001b[0m \u001b[0mself\u001b[0m\u001b[0;34m.\u001b[0m\u001b[0m_engine\u001b[0m\u001b[0;34m.\u001b[0m\u001b[0mget_loc\u001b[0m\u001b[0;34m(\u001b[0m\u001b[0mcasted_key\u001b[0m\u001b[0;34m)\u001b[0m\u001b[0;34m\u001b[0m\u001b[0;34m\u001b[0m\u001b[0m\n\u001b[1;32m   2896\u001b[0m             \u001b[0;32mexcept\u001b[0m \u001b[0mKeyError\u001b[0m \u001b[0;32mas\u001b[0m \u001b[0merr\u001b[0m\u001b[0;34m:\u001b[0m\u001b[0;34m\u001b[0m\u001b[0;34m\u001b[0m\u001b[0m\n\u001b[0;32m-> 2897\u001b[0;31m                 \u001b[0;32mraise\u001b[0m \u001b[0mKeyError\u001b[0m\u001b[0;34m(\u001b[0m\u001b[0mkey\u001b[0m\u001b[0;34m)\u001b[0m \u001b[0;32mfrom\u001b[0m \u001b[0merr\u001b[0m\u001b[0;34m\u001b[0m\u001b[0;34m\u001b[0m\u001b[0m\n\u001b[0m\u001b[1;32m   2898\u001b[0m \u001b[0;34m\u001b[0m\u001b[0m\n\u001b[1;32m   2899\u001b[0m         \u001b[0;32mif\u001b[0m \u001b[0mtolerance\u001b[0m \u001b[0;32mis\u001b[0m \u001b[0;32mnot\u001b[0m \u001b[0;32mNone\u001b[0m\u001b[0;34m:\u001b[0m\u001b[0;34m\u001b[0m\u001b[0;34m\u001b[0m\u001b[0m\n",
      "\u001b[0;31mKeyError\u001b[0m: 'created_utc'"
     ]
    }
   ],
   "source": [
    "# adapted from Hov's function in the practice notebook\n",
    "url = 'https://api.pushshift.io/reddit/submission/search'\n",
    "dfs = []\n",
    "\n",
    "\n",
    "# initially, I tried to collect 50,000 posts, but with my parameters, \n",
    "# at around 10,000, I hit the oldest in the database. \n",
    "\n",
    "loops = 500\n",
    "subreddit = 'UpliftingNews'\n",
    "start_time = time.time()\n",
    "\n",
    "# as a quality control measure, I limited the posts to those with 10 or more score/comment. \n",
    "params = {\n",
    "    'subreddit': subreddit,\n",
    "    'size': 100,\n",
    "    'score': '>9',\n",
    "    'num_comments' : '>9',\n",
    "    'before': round(start_time)\n",
    "    }\n",
    "\n",
    "for i in range(loops):\n",
    "    current_time = time.time()\n",
    "    \n",
    "    #requesting data\n",
    "    res = requests.get(url, params)\n",
    "    print(f'res {i+1} code: ', res.status_code)\n",
    "    \n",
    "    if res.status_code != 200:\n",
    "        pass\n",
    "    else:\n",
    "        data = res.json()\n",
    "        posts = data['data']\n",
    "        post_df = pd.DataFrame(posts)\n",
    "        dfs.append(post_df)\n",
    "        #get oldest post time and use as before parameter in next request\n",
    "        oldest = post_df['created_utc'].min()\n",
    "        params['before'] = oldest\n",
    "\n",
    "    time.sleep(1)\n",
    "    \n",
    "upliftingnews = pd.concat(dfs)"
   ]
  },
  {
   "cell_type": "code",
   "execution_count": 54,
   "metadata": {
    "ExecuteTime": {
     "end_time": "2020-12-30T00:00:03.191435Z",
     "start_time": "2020-12-30T00:00:02.804672Z"
    }
   },
   "outputs": [
    {
     "data": {
      "text/plain": [
       "1337736782"
      ]
     },
     "execution_count": 54,
     "metadata": {},
     "output_type": "execute_result"
    }
   ],
   "source": [
    "# key error occured so I decided to \n",
    "# check the oldest post - March 2012\n",
    "upliftingnews['created_utc'].min()"
   ]
  },
  {
   "cell_type": "markdown",
   "metadata": {},
   "source": [
    "**The loop stops after 116. Upon checcking the oldest post, I realized that this was the beginning of this particular database and decided to end the scrape here.**"
   ]
  },
  {
   "cell_type": "code",
   "execution_count": 57,
   "metadata": {
    "ExecuteTime": {
     "end_time": "2020-12-30T00:12:31.410440Z",
     "start_time": "2020-12-30T00:12:31.405976Z"
    }
   },
   "outputs": [
    {
     "data": {
      "text/plain": [
       "(10841, 94)"
      ]
     },
     "execution_count": 57,
     "metadata": {},
     "output_type": "execute_result"
    }
   ],
   "source": [
    "upliftingnews.shape"
   ]
  },
  {
   "cell_type": "markdown",
   "metadata": {},
   "source": [
    "## **send the raw file from Uplifting News to CSV** "
   ]
  },
  {
   "cell_type": "code",
   "execution_count": 56,
   "metadata": {
    "ExecuteTime": {
     "end_time": "2020-12-30T00:02:01.651961Z",
     "start_time": "2020-12-30T00:02:01.145174Z"
    },
    "scrolled": true
   },
   "outputs": [],
   "source": [
    "upliftingnews.to_csv('upliftingnews.csv', index=False)"
   ]
  },
  {
   "cell_type": "markdown",
   "metadata": {},
   "source": [
    "## Fetch 10000 posts from NottheOnion with score >= 10 and comments >= 10"
   ]
  },
  {
   "cell_type": "code",
   "execution_count": 37,
   "metadata": {
    "ExecuteTime": {
     "end_time": "2020-12-29T23:23:01.294027Z",
     "start_time": "2020-12-29T22:31:44.124895Z"
    },
    "scrolled": true
   },
   "outputs": [
    {
     "name": "stdout",
     "output_type": "stream",
     "text": [
      "res 1 code:  200\n",
      "res 2 code:  200\n",
      "res 3 code:  200\n",
      "res 4 code:  200\n",
      "res 5 code:  200\n",
      "res 6 code:  200\n",
      "res 7 code:  200\n",
      "res 8 code:  200\n",
      "res 9 code:  502\n",
      "res 10 code:  200\n",
      "res 11 code:  200\n",
      "res 12 code:  200\n",
      "res 13 code:  200\n",
      "res 14 code:  200\n",
      "res 15 code:  200\n",
      "res 16 code:  200\n",
      "res 17 code:  200\n",
      "res 18 code:  200\n",
      "res 19 code:  200\n",
      "res 20 code:  200\n",
      "res 21 code:  200\n",
      "res 22 code:  200\n",
      "res 23 code:  200\n",
      "res 24 code:  200\n",
      "res 25 code:  200\n",
      "res 26 code:  200\n",
      "res 27 code:  200\n",
      "res 28 code:  200\n",
      "res 29 code:  200\n",
      "res 30 code:  200\n",
      "res 31 code:  200\n",
      "res 32 code:  200\n",
      "res 33 code:  200\n",
      "res 34 code:  200\n",
      "res 35 code:  200\n",
      "res 36 code:  200\n",
      "res 37 code:  200\n",
      "res 38 code:  200\n",
      "res 39 code:  200\n",
      "res 40 code:  200\n",
      "res 41 code:  200\n",
      "res 42 code:  200\n",
      "res 43 code:  200\n",
      "res 44 code:  200\n",
      "res 45 code:  200\n",
      "res 46 code:  200\n",
      "res 47 code:  200\n",
      "res 48 code:  200\n",
      "res 49 code:  200\n",
      "res 50 code:  200\n",
      "res 51 code:  200\n",
      "res 52 code:  200\n",
      "res 53 code:  200\n",
      "res 54 code:  200\n",
      "res 55 code:  200\n",
      "res 56 code:  200\n",
      "res 57 code:  200\n",
      "res 58 code:  200\n",
      "res 59 code:  200\n",
      "res 60 code:  200\n",
      "res 61 code:  200\n",
      "res 62 code:  200\n",
      "res 63 code:  502\n",
      "res 64 code:  200\n",
      "res 65 code:  200\n",
      "res 66 code:  200\n",
      "res 67 code:  200\n",
      "res 68 code:  200\n",
      "res 69 code:  200\n",
      "res 70 code:  200\n",
      "res 71 code:  200\n",
      "res 72 code:  200\n",
      "res 73 code:  200\n",
      "res 74 code:  200\n",
      "res 75 code:  200\n",
      "res 76 code:  200\n",
      "res 77 code:  200\n",
      "res 78 code:  200\n",
      "res 79 code:  200\n",
      "res 80 code:  200\n",
      "res 81 code:  200\n",
      "res 82 code:  200\n",
      "res 83 code:  200\n",
      "res 84 code:  200\n",
      "res 85 code:  200\n",
      "res 86 code:  200\n",
      "res 87 code:  200\n",
      "res 88 code:  200\n",
      "res 89 code:  200\n",
      "res 90 code:  200\n",
      "res 91 code:  502\n",
      "res 92 code:  200\n",
      "res 93 code:  200\n",
      "res 94 code:  200\n",
      "res 95 code:  200\n",
      "res 96 code:  200\n",
      "res 97 code:  200\n",
      "res 98 code:  200\n",
      "res 99 code:  200\n",
      "res 100 code:  200\n",
      "res 101 code:  200\n",
      "res 102 code:  200\n",
      "res 103 code:  200\n",
      "res 104 code:  200\n",
      "res 105 code:  200\n",
      "res 106 code:  200\n",
      "res 107 code:  200\n",
      "res 108 code:  200\n",
      "res 109 code:  200\n",
      "res 110 code:  200\n",
      "res 111 code:  200\n",
      "res 112 code:  200\n",
      "res 113 code:  200\n",
      "res 114 code:  200\n",
      "res 115 code:  200\n",
      "res 116 code:  200\n",
      "res 117 code:  200\n",
      "res 118 code:  200\n",
      "res 119 code:  200\n",
      "res 120 code:  200\n",
      "res 121 code:  200\n",
      "res 122 code:  200\n",
      "res 123 code:  502\n",
      "res 124 code:  200\n",
      "res 125 code:  200\n",
      "res 126 code:  200\n",
      "res 127 code:  200\n",
      "res 128 code:  200\n",
      "res 129 code:  200\n",
      "res 130 code:  200\n",
      "res 131 code:  200\n",
      "res 132 code:  200\n",
      "res 133 code:  200\n",
      "res 134 code:  200\n",
      "res 135 code:  200\n",
      "res 136 code:  200\n",
      "res 137 code:  200\n",
      "res 138 code:  200\n",
      "res 139 code:  200\n",
      "res 140 code:  200\n",
      "res 141 code:  200\n",
      "res 142 code:  200\n",
      "res 143 code:  200\n",
      "res 144 code:  200\n",
      "res 145 code:  200\n",
      "res 146 code:  200\n",
      "res 147 code:  200\n",
      "res 148 code:  200\n",
      "res 149 code:  200\n",
      "res 150 code:  200\n",
      "res 151 code:  200\n",
      "res 152 code:  200\n",
      "res 153 code:  200\n",
      "res 154 code:  200\n",
      "res 155 code:  200\n",
      "res 156 code:  200\n",
      "res 157 code:  200\n",
      "res 158 code:  200\n",
      "res 159 code:  200\n",
      "res 160 code:  200\n",
      "res 161 code:  200\n",
      "res 162 code:  200\n",
      "res 163 code:  200\n",
      "res 164 code:  200\n",
      "res 165 code:  200\n",
      "res 166 code:  200\n",
      "res 167 code:  200\n",
      "res 168 code:  200\n",
      "res 169 code:  200\n",
      "res 170 code:  200\n",
      "res 171 code:  200\n",
      "res 172 code:  200\n",
      "res 173 code:  200\n",
      "res 174 code:  200\n",
      "res 175 code:  200\n",
      "res 176 code:  200\n",
      "res 177 code:  200\n",
      "res 178 code:  200\n",
      "res 179 code:  200\n",
      "res 180 code:  200\n",
      "res 181 code:  200\n",
      "res 182 code:  200\n",
      "res 183 code:  200\n",
      "res 184 code:  200\n",
      "res 185 code:  200\n",
      "res 186 code:  502\n",
      "res 187 code:  200\n",
      "res 188 code:  200\n",
      "res 189 code:  200\n",
      "res 190 code:  200\n",
      "res 191 code:  200\n",
      "res 192 code:  502\n",
      "res 193 code:  200\n",
      "res 194 code:  200\n",
      "res 195 code:  200\n",
      "res 196 code:  200\n",
      "res 197 code:  200\n",
      "res 198 code:  200\n",
      "res 199 code:  200\n",
      "res 200 code:  200\n",
      "res 201 code:  200\n",
      "res 202 code:  200\n",
      "res 203 code:  200\n",
      "res 204 code:  200\n",
      "res 205 code:  200\n",
      "res 206 code:  200\n",
      "res 207 code:  200\n",
      "res 208 code:  200\n",
      "res 209 code:  200\n",
      "res 210 code:  200\n",
      "res 211 code:  200\n",
      "res 212 code:  200\n",
      "res 213 code:  200\n",
      "res 214 code:  200\n",
      "res 215 code:  200\n",
      "res 216 code:  200\n",
      "res 217 code:  200\n",
      "res 218 code:  200\n",
      "res 219 code:  200\n",
      "res 220 code:  200\n",
      "res 221 code:  200\n",
      "res 222 code:  200\n",
      "res 223 code:  200\n",
      "res 224 code:  200\n",
      "res 225 code:  200\n",
      "res 226 code:  200\n",
      "res 227 code:  200\n",
      "res 228 code:  200\n",
      "res 229 code:  200\n",
      "res 230 code:  200\n",
      "res 231 code:  200\n",
      "res 232 code:  200\n",
      "res 233 code:  200\n",
      "res 234 code:  502\n",
      "res 235 code:  200\n",
      "res 236 code:  200\n",
      "res 237 code:  200\n",
      "res 238 code:  200\n",
      "res 239 code:  200\n",
      "res 240 code:  200\n",
      "res 241 code:  200\n",
      "res 242 code:  200\n",
      "res 243 code:  200\n",
      "res 244 code:  200\n",
      "res 245 code:  200\n",
      "res 246 code:  200\n",
      "res 247 code:  200\n",
      "res 248 code:  200\n",
      "res 249 code:  200\n",
      "res 250 code:  200\n",
      "res 251 code:  200\n",
      "res 252 code:  200\n",
      "res 253 code:  200\n",
      "res 254 code:  200\n",
      "res 255 code:  200\n",
      "res 256 code:  200\n",
      "res 257 code:  200\n",
      "res 258 code:  200\n",
      "res 259 code:  502\n",
      "res 260 code:  200\n",
      "res 261 code:  200\n",
      "res 262 code:  200\n",
      "res 263 code:  200\n",
      "res 264 code:  200\n",
      "res 265 code:  200\n",
      "res 266 code:  200\n",
      "res 267 code:  200\n",
      "res 268 code:  200\n",
      "res 269 code:  200\n",
      "res 270 code:  200\n",
      "res 271 code:  200\n",
      "res 272 code:  200\n",
      "res 273 code:  200\n",
      "res 274 code:  200\n",
      "res 275 code:  200\n",
      "res 276 code:  200\n",
      "res 277 code:  200\n",
      "res 278 code:  200\n",
      "res 279 code:  200\n",
      "res 280 code:  200\n",
      "res 281 code:  200\n",
      "res 282 code:  200\n",
      "res 283 code:  200\n",
      "res 284 code:  200\n",
      "res 285 code:  200\n",
      "res 286 code:  200\n",
      "res 287 code:  200\n",
      "res 288 code:  200\n",
      "res 289 code:  200\n",
      "res 290 code:  200\n",
      "res 291 code:  200\n",
      "res 292 code:  200\n",
      "res 293 code:  200\n",
      "res 294 code:  200\n",
      "res 295 code:  200\n",
      "res 296 code:  200\n",
      "res 297 code:  200\n",
      "res 298 code:  200\n",
      "res 299 code:  200\n",
      "res 300 code:  200\n",
      "res 301 code:  200\n",
      "res 302 code:  200\n",
      "res 303 code:  200\n",
      "res 304 code:  200\n",
      "res 305 code:  200\n",
      "res 306 code:  200\n",
      "res 307 code:  200\n",
      "res 308 code:  200\n",
      "res 309 code:  200\n",
      "res 310 code:  200\n",
      "res 311 code:  200\n",
      "res 312 code:  200\n",
      "res 313 code:  200\n",
      "res 314 code:  200\n",
      "res 315 code:  200\n",
      "res 316 code:  200\n",
      "res 317 code:  200\n",
      "res 318 code:  200\n",
      "res 319 code:  200\n",
      "res 320 code:  200\n",
      "res 321 code:  200\n",
      "res 322 code:  200\n",
      "res 323 code:  200\n",
      "res 324 code:  200\n",
      "res 325 code:  200\n",
      "res 326 code:  502\n",
      "res 327 code:  200\n",
      "res 328 code:  200\n",
      "res 329 code:  200\n",
      "res 330 code:  200\n",
      "res 331 code:  200\n",
      "res 332 code:  200\n",
      "res 333 code:  200\n",
      "res 334 code:  200\n",
      "res 335 code:  200\n",
      "res 336 code:  200\n",
      "res 337 code:  200\n",
      "res 338 code:  200\n",
      "res 339 code:  200\n",
      "res 340 code:  200\n",
      "res 341 code:  200\n",
      "res 342 code:  200\n",
      "res 343 code:  200\n",
      "res 344 code:  502\n",
      "res 345 code:  200\n"
     ]
    },
    {
     "ename": "KeyError",
     "evalue": "'created_utc'",
     "output_type": "error",
     "traceback": [
      "\u001b[0;31m---------------------------------------------------------------------------\u001b[0m",
      "\u001b[0;31mKeyError\u001b[0m                                  Traceback (most recent call last)",
      "\u001b[0;32m~/opt/anaconda3/lib/python3.8/site-packages/pandas/core/indexes/base.py\u001b[0m in \u001b[0;36mget_loc\u001b[0;34m(self, key, method, tolerance)\u001b[0m\n\u001b[1;32m   2894\u001b[0m             \u001b[0;32mtry\u001b[0m\u001b[0;34m:\u001b[0m\u001b[0;34m\u001b[0m\u001b[0;34m\u001b[0m\u001b[0m\n\u001b[0;32m-> 2895\u001b[0;31m                 \u001b[0;32mreturn\u001b[0m \u001b[0mself\u001b[0m\u001b[0;34m.\u001b[0m\u001b[0m_engine\u001b[0m\u001b[0;34m.\u001b[0m\u001b[0mget_loc\u001b[0m\u001b[0;34m(\u001b[0m\u001b[0mcasted_key\u001b[0m\u001b[0;34m)\u001b[0m\u001b[0;34m\u001b[0m\u001b[0;34m\u001b[0m\u001b[0m\n\u001b[0m\u001b[1;32m   2896\u001b[0m             \u001b[0;32mexcept\u001b[0m \u001b[0mKeyError\u001b[0m \u001b[0;32mas\u001b[0m \u001b[0merr\u001b[0m\u001b[0;34m:\u001b[0m\u001b[0;34m\u001b[0m\u001b[0;34m\u001b[0m\u001b[0m\n",
      "\u001b[0;32mpandas/_libs/index.pyx\u001b[0m in \u001b[0;36mpandas._libs.index.IndexEngine.get_loc\u001b[0;34m()\u001b[0m\n",
      "\u001b[0;32mpandas/_libs/index.pyx\u001b[0m in \u001b[0;36mpandas._libs.index.IndexEngine.get_loc\u001b[0;34m()\u001b[0m\n",
      "\u001b[0;32mpandas/_libs/hashtable_class_helper.pxi\u001b[0m in \u001b[0;36mpandas._libs.hashtable.PyObjectHashTable.get_item\u001b[0;34m()\u001b[0m\n",
      "\u001b[0;32mpandas/_libs/hashtable_class_helper.pxi\u001b[0m in \u001b[0;36mpandas._libs.hashtable.PyObjectHashTable.get_item\u001b[0;34m()\u001b[0m\n",
      "\u001b[0;31mKeyError\u001b[0m: 'created_utc'",
      "\nThe above exception was the direct cause of the following exception:\n",
      "\u001b[0;31mKeyError\u001b[0m                                  Traceback (most recent call last)",
      "\u001b[0;32m<ipython-input-37-a4d8257b694d>\u001b[0m in \u001b[0;36m<module>\u001b[0;34m\u001b[0m\n\u001b[1;32m     28\u001b[0m         \u001b[0mdfs\u001b[0m\u001b[0;34m.\u001b[0m\u001b[0mappend\u001b[0m\u001b[0;34m(\u001b[0m\u001b[0mpost_df\u001b[0m\u001b[0;34m)\u001b[0m\u001b[0;34m\u001b[0m\u001b[0;34m\u001b[0m\u001b[0m\n\u001b[1;32m     29\u001b[0m         \u001b[0;31m#get oldest post time and use as before parameter in next request\u001b[0m\u001b[0;34m\u001b[0m\u001b[0;34m\u001b[0m\u001b[0;34m\u001b[0m\u001b[0m\n\u001b[0;32m---> 30\u001b[0;31m         \u001b[0moldest\u001b[0m \u001b[0;34m=\u001b[0m \u001b[0mpost_df\u001b[0m\u001b[0;34m[\u001b[0m\u001b[0;34m'created_utc'\u001b[0m\u001b[0;34m]\u001b[0m\u001b[0;34m.\u001b[0m\u001b[0mmin\u001b[0m\u001b[0;34m(\u001b[0m\u001b[0;34m)\u001b[0m\u001b[0;34m\u001b[0m\u001b[0;34m\u001b[0m\u001b[0m\n\u001b[0m\u001b[1;32m     31\u001b[0m         \u001b[0mparams\u001b[0m\u001b[0;34m[\u001b[0m\u001b[0;34m'before'\u001b[0m\u001b[0;34m]\u001b[0m \u001b[0;34m=\u001b[0m \u001b[0moldest\u001b[0m\u001b[0;34m\u001b[0m\u001b[0;34m\u001b[0m\u001b[0m\n\u001b[1;32m     32\u001b[0m \u001b[0;34m\u001b[0m\u001b[0m\n",
      "\u001b[0;32m~/opt/anaconda3/lib/python3.8/site-packages/pandas/core/frame.py\u001b[0m in \u001b[0;36m__getitem__\u001b[0;34m(self, key)\u001b[0m\n\u001b[1;32m   2900\u001b[0m             \u001b[0;32mif\u001b[0m \u001b[0mself\u001b[0m\u001b[0;34m.\u001b[0m\u001b[0mcolumns\u001b[0m\u001b[0;34m.\u001b[0m\u001b[0mnlevels\u001b[0m \u001b[0;34m>\u001b[0m \u001b[0;36m1\u001b[0m\u001b[0;34m:\u001b[0m\u001b[0;34m\u001b[0m\u001b[0;34m\u001b[0m\u001b[0m\n\u001b[1;32m   2901\u001b[0m                 \u001b[0;32mreturn\u001b[0m \u001b[0mself\u001b[0m\u001b[0;34m.\u001b[0m\u001b[0m_getitem_multilevel\u001b[0m\u001b[0;34m(\u001b[0m\u001b[0mkey\u001b[0m\u001b[0;34m)\u001b[0m\u001b[0;34m\u001b[0m\u001b[0;34m\u001b[0m\u001b[0m\n\u001b[0;32m-> 2902\u001b[0;31m             \u001b[0mindexer\u001b[0m \u001b[0;34m=\u001b[0m \u001b[0mself\u001b[0m\u001b[0;34m.\u001b[0m\u001b[0mcolumns\u001b[0m\u001b[0;34m.\u001b[0m\u001b[0mget_loc\u001b[0m\u001b[0;34m(\u001b[0m\u001b[0mkey\u001b[0m\u001b[0;34m)\u001b[0m\u001b[0;34m\u001b[0m\u001b[0;34m\u001b[0m\u001b[0m\n\u001b[0m\u001b[1;32m   2903\u001b[0m             \u001b[0;32mif\u001b[0m \u001b[0mis_integer\u001b[0m\u001b[0;34m(\u001b[0m\u001b[0mindexer\u001b[0m\u001b[0;34m)\u001b[0m\u001b[0;34m:\u001b[0m\u001b[0;34m\u001b[0m\u001b[0;34m\u001b[0m\u001b[0m\n\u001b[1;32m   2904\u001b[0m                 \u001b[0mindexer\u001b[0m \u001b[0;34m=\u001b[0m \u001b[0;34m[\u001b[0m\u001b[0mindexer\u001b[0m\u001b[0;34m]\u001b[0m\u001b[0;34m\u001b[0m\u001b[0;34m\u001b[0m\u001b[0m\n",
      "\u001b[0;32m~/opt/anaconda3/lib/python3.8/site-packages/pandas/core/indexes/base.py\u001b[0m in \u001b[0;36mget_loc\u001b[0;34m(self, key, method, tolerance)\u001b[0m\n\u001b[1;32m   2895\u001b[0m                 \u001b[0;32mreturn\u001b[0m \u001b[0mself\u001b[0m\u001b[0;34m.\u001b[0m\u001b[0m_engine\u001b[0m\u001b[0;34m.\u001b[0m\u001b[0mget_loc\u001b[0m\u001b[0;34m(\u001b[0m\u001b[0mcasted_key\u001b[0m\u001b[0;34m)\u001b[0m\u001b[0;34m\u001b[0m\u001b[0;34m\u001b[0m\u001b[0m\n\u001b[1;32m   2896\u001b[0m             \u001b[0;32mexcept\u001b[0m \u001b[0mKeyError\u001b[0m \u001b[0;32mas\u001b[0m \u001b[0merr\u001b[0m\u001b[0;34m:\u001b[0m\u001b[0;34m\u001b[0m\u001b[0;34m\u001b[0m\u001b[0m\n\u001b[0;32m-> 2897\u001b[0;31m                 \u001b[0;32mraise\u001b[0m \u001b[0mKeyError\u001b[0m\u001b[0;34m(\u001b[0m\u001b[0mkey\u001b[0m\u001b[0;34m)\u001b[0m \u001b[0;32mfrom\u001b[0m \u001b[0merr\u001b[0m\u001b[0;34m\u001b[0m\u001b[0;34m\u001b[0m\u001b[0m\n\u001b[0m\u001b[1;32m   2898\u001b[0m \u001b[0;34m\u001b[0m\u001b[0m\n\u001b[1;32m   2899\u001b[0m         \u001b[0;32mif\u001b[0m \u001b[0mtolerance\u001b[0m \u001b[0;32mis\u001b[0m \u001b[0;32mnot\u001b[0m \u001b[0;32mNone\u001b[0m\u001b[0;34m:\u001b[0m\u001b[0;34m\u001b[0m\u001b[0;34m\u001b[0m\u001b[0m\n",
      "\u001b[0;31mKeyError\u001b[0m: 'created_utc'"
     ]
    }
   ],
   "source": [
    "url = 'https://api.pushshift.io/reddit/submission/search'\n",
    "dfs = []\n",
    "loops = 500\n",
    "subreddit = 'nottheonion'\n",
    "start_time = time.time()\n",
    "\n",
    "params = {\n",
    "    'subreddit': subreddit,\n",
    "    'size': 100,\n",
    "    'score': '>9',\n",
    "    'num_comments': '>9',\n",
    "    'before': round(start_time)\n",
    "}\n",
    "\n",
    "for i in range(loops):\n",
    "    current_time = time.time()\n",
    "\n",
    "    #requesting data\n",
    "    res = requests.get(url, params)\n",
    "    print(f'res {i+1} code: ', res.status_code)\n",
    "\n",
    "    if res.status_code != 200:\n",
    "        pass\n",
    "    else:\n",
    "        data = res.json()\n",
    "        posts = data['data']\n",
    "        post_df = pd.DataFrame(posts)\n",
    "        dfs.append(post_df)\n",
    "        #get oldest post time and use as before parameter in next request\n",
    "        oldest = post_df['created_utc'].min()\n",
    "        params['before'] = oldest\n",
    "\n",
    "    time.sleep(1)\n",
    "\n",
    "nottheonion1 = pd.concat(dfs)"
   ]
  },
  {
   "cell_type": "code",
   "execution_count": 46,
   "metadata": {
    "ExecuteTime": {
     "end_time": "2020-12-29T23:28:45.622666Z",
     "start_time": "2020-12-29T23:28:44.641669Z"
    },
    "scrolled": true
   },
   "outputs": [
    {
     "data": {
      "text/plain": [
       "1331490414"
      ]
     },
     "execution_count": 46,
     "metadata": {},
     "output_type": "execute_result"
    }
   ],
   "source": [
    "# check the oldest post - March 2012\n",
    "\n",
    "nottheonion1['created_utc'].min()"
   ]
  },
  {
   "cell_type": "markdown",
   "metadata": {},
   "source": [
    "I repeat the prodecure with NottheOnion subreddit. However, the loop stops after 345, and the oldest posting date matches UpliftingNews. More number of NottheOnion posts qualify for my initial QC, which I would now have to take care of."
   ]
  },
  {
   "cell_type": "markdown",
   "metadata": {},
   "source": [
    "## **send the raw file from NottheOnion to CSV** "
   ]
  },
  {
   "cell_type": "markdown",
   "metadata": {},
   "source": [
    "**send the raw file to CSV** "
   ]
  },
  {
   "cell_type": "code",
   "execution_count": 55,
   "metadata": {
    "ExecuteTime": {
     "end_time": "2020-12-30T00:01:29.540233Z",
     "start_time": "2020-12-30T00:01:27.987075Z"
    },
    "scrolled": true
   },
   "outputs": [],
   "source": [
    "nottheonion1.to_csv('nottheonion.csv', index=False)"
   ]
  },
  {
   "cell_type": "markdown",
   "metadata": {},
   "source": [
    "# EDA"
   ]
  },
  {
   "cell_type": "markdown",
   "metadata": {},
   "source": [
    "## Import data and clean columns"
   ]
  },
  {
   "cell_type": "code",
   "execution_count": 211,
   "metadata": {
    "ExecuteTime": {
     "end_time": "2021-01-04T11:51:32.498702Z",
     "start_time": "2021-01-04T11:51:32.190268Z"
    }
   },
   "outputs": [
    {
     "name": "stderr",
     "output_type": "stream",
     "text": [
      "/Users/alyssiaoh/opt/anaconda3/lib/python3.8/site-packages/IPython/core/interactiveshell.py:3146: DtypeWarning: Columns (0,1,4,6,8,9,10,11,12,16,18,19,20,21,22,24,26,27,28,29,30,31,35,37,44,45,46,50,56,59,60,62,63,64,66,68,69,72,73,75,76,79,80,81,82,85,92,93) have mixed types.Specify dtype option on import or set low_memory=False.\n",
      "  has_raised = await self.run_ast_nodes(code_ast.body, cell_name,\n"
     ]
    }
   ],
   "source": [
    "uplifting = pd.read_csv('upliftingnews.csv')"
   ]
  },
  {
   "cell_type": "code",
   "execution_count": 212,
   "metadata": {
    "ExecuteTime": {
     "end_time": "2021-01-04T11:51:39.918780Z",
     "start_time": "2021-01-04T11:51:39.880357Z"
    }
   },
   "outputs": [],
   "source": [
    "# drop duplicate posts based on title\n",
    "uplifting.drop_duplicates(subset=['title'], keep='first', inplace=True, ignore_index=True)"
   ]
  },
  {
   "cell_type": "code",
   "execution_count": 213,
   "metadata": {
    "ExecuteTime": {
     "end_time": "2021-01-04T11:51:44.519855Z",
     "start_time": "2021-01-04T11:51:44.511567Z"
    }
   },
   "outputs": [],
   "source": [
    "# adding a new column 'datetime' from 'created_utc'\n",
    "uplifting['datetime'] = pd.to_datetime(uplifting['created_utc'], unit='s')"
   ]
  },
  {
   "cell_type": "code",
   "execution_count": 259,
   "metadata": {
    "ExecuteTime": {
     "end_time": "2021-01-01T23:09:48.528094Z",
     "start_time": "2021-01-01T23:09:48.523837Z"
    }
   },
   "outputs": [
    {
     "data": {
      "text/plain": [
       "(10736, 95)"
      ]
     },
     "execution_count": 259,
     "metadata": {},
     "output_type": "execute_result"
    }
   ],
   "source": [
    "# check the shape again after dropping duplicates \n",
    "uplifting.shape"
   ]
  },
  {
   "cell_type": "code",
   "execution_count": 214,
   "metadata": {
    "ExecuteTime": {
     "end_time": "2021-01-04T11:51:52.814512Z",
     "start_time": "2021-01-04T11:51:52.810915Z"
    }
   },
   "outputs": [],
   "source": [
    "# using iloc, you can made modifications to match the size of NottheOnion file\n",
    "uplifting_df = uplifting_df.iloc[0:10736]"
   ]
  },
  {
   "cell_type": "code",
   "execution_count": 215,
   "metadata": {
    "ExecuteTime": {
     "end_time": "2021-01-04T11:51:57.703623Z",
     "start_time": "2021-01-04T11:51:57.692650Z"
    }
   },
   "outputs": [],
   "source": [
    "# limiting the dataframe to only relavent columns\n",
    "uplifting_df = uplifting[['datetime', 'title', 'score', 'num_comments']]"
   ]
  },
  {
   "cell_type": "code",
   "execution_count": 251,
   "metadata": {
    "ExecuteTime": {
     "end_time": "2021-01-01T23:04:54.814616Z",
     "start_time": "2021-01-01T23:04:54.810511Z"
    }
   },
   "outputs": [
    {
     "data": {
      "text/html": [
       "<div>\n",
       "<style scoped>\n",
       "    .dataframe tbody tr th:only-of-type {\n",
       "        vertical-align: middle;\n",
       "    }\n",
       "\n",
       "    .dataframe tbody tr th {\n",
       "        vertical-align: top;\n",
       "    }\n",
       "\n",
       "    .dataframe thead th {\n",
       "        text-align: right;\n",
       "    }\n",
       "</style>\n",
       "<table border=\"1\" class=\"dataframe\">\n",
       "  <thead>\n",
       "    <tr style=\"text-align: right;\">\n",
       "      <th></th>\n",
       "      <th>datetime</th>\n",
       "      <th>title</th>\n",
       "      <th>score</th>\n",
       "      <th>num_comments</th>\n",
       "    </tr>\n",
       "  </thead>\n",
       "  <tbody>\n",
       "    <tr>\n",
       "      <th>0</th>\n",
       "      <td>2020-12-19 18:01:37</td>\n",
       "      <td>Anthony Fauci reassures small children with claim to have vaccinated Santa</td>\n",
       "      <td>10</td>\n",
       "      <td>11</td>\n",
       "    </tr>\n",
       "    <tr>\n",
       "      <th>1</th>\n",
       "      <td>2020-12-19 17:16:47</td>\n",
       "      <td>Anthony Fauci reassures small children with claim to have vaccinated Santa | US news</td>\n",
       "      <td>13</td>\n",
       "      <td>28</td>\n",
       "    </tr>\n",
       "    <tr>\n",
       "      <th>2</th>\n",
       "      <td>2020-12-19 09:33:05</td>\n",
       "      <td>Mongolia will pay for electricity, water, heat and garbage collection for all Of Its citizens For Seven Months To Help With COVID-19 Recovery</td>\n",
       "      <td>109</td>\n",
       "      <td>1194</td>\n",
       "    </tr>\n",
       "    <tr>\n",
       "      <th>3</th>\n",
       "      <td>2020-12-19 07:29:26</td>\n",
       "      <td>Small-business advocate releases free browser plugin that provides local alternatives to products on Amazon &amp;amp; other corporate sites</td>\n",
       "      <td>63</td>\n",
       "      <td>13</td>\n",
       "    </tr>\n",
       "    <tr>\n",
       "      <th>4</th>\n",
       "      <td>2020-12-19 03:07:28</td>\n",
       "      <td>The Moderna Covid-19 vaccine has been given authorisation for use in the US by the country’s Food and Drug Administration (FDA).</td>\n",
       "      <td>55</td>\n",
       "      <td>13</td>\n",
       "    </tr>\n",
       "  </tbody>\n",
       "</table>\n",
       "</div>"
      ],
      "text/plain": [
       "             datetime  \\\n",
       "0 2020-12-19 18:01:37   \n",
       "1 2020-12-19 17:16:47   \n",
       "2 2020-12-19 09:33:05   \n",
       "3 2020-12-19 07:29:26   \n",
       "4 2020-12-19 03:07:28   \n",
       "\n",
       "                                                                                                                                           title  \\\n",
       "0                                                                     Anthony Fauci reassures small children with claim to have vaccinated Santa   \n",
       "1                                                           Anthony Fauci reassures small children with claim to have vaccinated Santa | US news   \n",
       "2  Mongolia will pay for electricity, water, heat and garbage collection for all Of Its citizens For Seven Months To Help With COVID-19 Recovery   \n",
       "3        Small-business advocate releases free browser plugin that provides local alternatives to products on Amazon &amp; other corporate sites   \n",
       "4               The Moderna Covid-19 vaccine has been given authorisation for use in the US by the country’s Food and Drug Administration (FDA).   \n",
       "\n",
       "   score  num_comments  \n",
       "0     10            11  \n",
       "1     13            28  \n",
       "2    109          1194  \n",
       "3     63            13  \n",
       "4     55            13  "
      ]
     },
     "execution_count": 251,
     "metadata": {},
     "output_type": "execute_result"
    }
   ],
   "source": [
    "uplifting_df.head()"
   ]
  },
  {
   "cell_type": "code",
   "execution_count": 196,
   "metadata": {
    "ExecuteTime": {
     "end_time": "2021-01-01T22:26:18.426267Z",
     "start_time": "2021-01-01T22:26:18.416330Z"
    }
   },
   "outputs": [
    {
     "data": {
      "text/html": [
       "<div>\n",
       "<style scoped>\n",
       "    .dataframe tbody tr th:only-of-type {\n",
       "        vertical-align: middle;\n",
       "    }\n",
       "\n",
       "    .dataframe tbody tr th {\n",
       "        vertical-align: top;\n",
       "    }\n",
       "\n",
       "    .dataframe thead th {\n",
       "        text-align: right;\n",
       "    }\n",
       "</style>\n",
       "<table border=\"1\" class=\"dataframe\">\n",
       "  <thead>\n",
       "    <tr style=\"text-align: right;\">\n",
       "      <th></th>\n",
       "      <th>score</th>\n",
       "      <th>num_comments</th>\n",
       "    </tr>\n",
       "  </thead>\n",
       "  <tbody>\n",
       "    <tr>\n",
       "      <th>count</th>\n",
       "      <td>10736.000000</td>\n",
       "      <td>10736.000000</td>\n",
       "    </tr>\n",
       "    <tr>\n",
       "      <th>mean</th>\n",
       "      <td>4196.946256</td>\n",
       "      <td>210.374907</td>\n",
       "    </tr>\n",
       "    <tr>\n",
       "      <th>std</th>\n",
       "      <td>9377.812461</td>\n",
       "      <td>417.205393</td>\n",
       "    </tr>\n",
       "    <tr>\n",
       "      <th>min</th>\n",
       "      <td>10.000000</td>\n",
       "      <td>10.000000</td>\n",
       "    </tr>\n",
       "    <tr>\n",
       "      <th>25%</th>\n",
       "      <td>129.000000</td>\n",
       "      <td>17.000000</td>\n",
       "    </tr>\n",
       "    <tr>\n",
       "      <th>50%</th>\n",
       "      <td>501.000000</td>\n",
       "      <td>40.000000</td>\n",
       "    </tr>\n",
       "    <tr>\n",
       "      <th>75%</th>\n",
       "      <td>3082.000000</td>\n",
       "      <td>207.000000</td>\n",
       "    </tr>\n",
       "    <tr>\n",
       "      <th>max</th>\n",
       "      <td>124278.000000</td>\n",
       "      <td>5642.000000</td>\n",
       "    </tr>\n",
       "  </tbody>\n",
       "</table>\n",
       "</div>"
      ],
      "text/plain": [
       "               score  num_comments\n",
       "count   10736.000000  10736.000000\n",
       "mean     4196.946256    210.374907\n",
       "std      9377.812461    417.205393\n",
       "min        10.000000     10.000000\n",
       "25%       129.000000     17.000000\n",
       "50%       501.000000     40.000000\n",
       "75%      3082.000000    207.000000\n",
       "max    124278.000000   5642.000000"
      ]
     },
     "execution_count": 196,
     "metadata": {},
     "output_type": "execute_result"
    }
   ],
   "source": [
    "uplifting_df.describe()"
   ]
  },
  {
   "cell_type": "code",
   "execution_count": 278,
   "metadata": {
    "ExecuteTime": {
     "end_time": "2021-01-01T23:21:05.175282Z",
     "start_time": "2021-01-01T23:21:05.155072Z"
    }
   },
   "outputs": [
    {
     "name": "stdout",
     "output_type": "stream",
     "text": [
      "<class 'pandas.core.frame.DataFrame'>\n",
      "RangeIndex: 10736 entries, 0 to 10735\n",
      "Data columns (total 5 columns):\n",
      " #   Column        Non-Null Count  Dtype         \n",
      "---  ------        --------------  -----         \n",
      " 0   datetime      10736 non-null  datetime64[ns]\n",
      " 1   title         10736 non-null  object        \n",
      " 2   score         10736 non-null  int64         \n",
      " 3   num_comments  10736 non-null  int64         \n",
      " 4   title_len     10736 non-null  int64         \n",
      "dtypes: datetime64[ns](1), int64(3), object(1)\n",
      "memory usage: 419.5+ KB\n"
     ]
    }
   ],
   "source": [
    "uplifting_df.info()"
   ]
  },
  {
   "cell_type": "code",
   "execution_count": 263,
   "metadata": {
    "ExecuteTime": {
     "end_time": "2021-01-01T23:12:02.778819Z",
     "start_time": "2021-01-01T23:12:02.776739Z"
    }
   },
   "outputs": [
    {
     "data": {
      "text/plain": [
       "(10736, 5)"
      ]
     },
     "execution_count": 263,
     "metadata": {},
     "output_type": "execute_result"
    }
   ],
   "source": [
    "uplifting_df.shape"
   ]
  },
  {
   "cell_type": "markdown",
   "metadata": {},
   "source": [
    "**Double check the data types of each column and shape, then save as CSV**"
   ]
  },
  {
   "cell_type": "code",
   "execution_count": 203,
   "metadata": {
    "ExecuteTime": {
     "end_time": "2021-01-04T11:46:34.238576Z",
     "start_time": "2021-01-04T11:46:33.601369Z"
    }
   },
   "outputs": [
    {
     "name": "stderr",
     "output_type": "stream",
     "text": [
      "/Users/alyssiaoh/opt/anaconda3/lib/python3.8/site-packages/IPython/core/interactiveshell.py:3146: DtypeWarning: Columns (0,1,3,4,5,6,8,9,10,11,12,14,15,18,20,21,22,23,24,26,27,28,29,30,31,32,33,37,39,40,41,46,47,48,52,58,61,62,65,66,68,70,71,74,76,78,79,80,81,82,85,88,89,90,92,93,94,95,100,101) have mixed types.Specify dtype option on import or set low_memory=False.\n",
      "  has_raised = await self.run_ast_nodes(code_ast.body, cell_name,\n"
     ]
    }
   ],
   "source": [
    "nottheonion = pd.read_csv('nottheonion.csv')"
   ]
  },
  {
   "cell_type": "code",
   "execution_count": 204,
   "metadata": {
    "ExecuteTime": {
     "end_time": "2021-01-04T11:46:40.257679Z",
     "start_time": "2021-01-04T11:46:40.177477Z"
    }
   },
   "outputs": [],
   "source": [
    "\n",
    "nottheonion.drop_duplicates(subset=['title'], keep='first', inplace=True, ignore_index=True)"
   ]
  },
  {
   "cell_type": "code",
   "execution_count": 205,
   "metadata": {
    "ExecuteTime": {
     "end_time": "2021-01-04T11:46:47.130392Z",
     "start_time": "2021-01-04T11:46:47.113853Z"
    }
   },
   "outputs": [],
   "source": [
    "nottheonion['datetime'] = pd.to_datetime(nottheonion['created_utc'], unit='s')"
   ]
  },
  {
   "cell_type": "code",
   "execution_count": 226,
   "metadata": {
    "ExecuteTime": {
     "end_time": "2021-01-01T22:49:01.503652Z",
     "start_time": "2021-01-01T22:49:01.501722Z"
    }
   },
   "outputs": [
    {
     "data": {
      "text/plain": [
       "(32204, 103)"
      ]
     },
     "execution_count": 226,
     "metadata": {},
     "output_type": "execute_result"
    }
   ],
   "source": [
    "nottheonion.shape"
   ]
  },
  {
   "cell_type": "code",
   "execution_count": 209,
   "metadata": {
    "ExecuteTime": {
     "end_time": "2021-01-04T11:50:12.410299Z",
     "start_time": "2021-01-04T11:50:12.392009Z"
    }
   },
   "outputs": [],
   "source": [
    "nottheonion_df = nottheonion[['datetime', 'title', 'score', 'num_comments']]"
   ]
  },
  {
   "cell_type": "code",
   "execution_count": 228,
   "metadata": {
    "ExecuteTime": {
     "end_time": "2021-01-01T22:49:34.412773Z",
     "start_time": "2021-01-01T22:49:34.395933Z"
    },
    "scrolled": true
   },
   "outputs": [
    {
     "data": {
      "text/html": [
       "<div>\n",
       "<style scoped>\n",
       "    .dataframe tbody tr th:only-of-type {\n",
       "        vertical-align: middle;\n",
       "    }\n",
       "\n",
       "    .dataframe tbody tr th {\n",
       "        vertical-align: top;\n",
       "    }\n",
       "\n",
       "    .dataframe thead th {\n",
       "        text-align: right;\n",
       "    }\n",
       "</style>\n",
       "<table border=\"1\" class=\"dataframe\">\n",
       "  <thead>\n",
       "    <tr style=\"text-align: right;\">\n",
       "      <th></th>\n",
       "      <th>score</th>\n",
       "      <th>num_comments</th>\n",
       "    </tr>\n",
       "  </thead>\n",
       "  <tbody>\n",
       "    <tr>\n",
       "      <th>count</th>\n",
       "      <td>32204.000000</td>\n",
       "      <td>32204.000000</td>\n",
       "    </tr>\n",
       "    <tr>\n",
       "      <th>mean</th>\n",
       "      <td>1601.157030</td>\n",
       "      <td>173.949882</td>\n",
       "    </tr>\n",
       "    <tr>\n",
       "      <th>std</th>\n",
       "      <td>5951.063625</td>\n",
       "      <td>520.325434</td>\n",
       "    </tr>\n",
       "    <tr>\n",
       "      <th>min</th>\n",
       "      <td>10.000000</td>\n",
       "      <td>10.000000</td>\n",
       "    </tr>\n",
       "    <tr>\n",
       "      <th>25%</th>\n",
       "      <td>50.000000</td>\n",
       "      <td>15.000000</td>\n",
       "    </tr>\n",
       "    <tr>\n",
       "      <th>50%</th>\n",
       "      <td>130.000000</td>\n",
       "      <td>27.000000</td>\n",
       "    </tr>\n",
       "    <tr>\n",
       "      <th>75%</th>\n",
       "      <td>498.250000</td>\n",
       "      <td>80.000000</td>\n",
       "    </tr>\n",
       "    <tr>\n",
       "      <th>max</th>\n",
       "      <td>118958.000000</td>\n",
       "      <td>11664.000000</td>\n",
       "    </tr>\n",
       "  </tbody>\n",
       "</table>\n",
       "</div>"
      ],
      "text/plain": [
       "               score  num_comments\n",
       "count   32204.000000  32204.000000\n",
       "mean     1601.157030    173.949882\n",
       "std      5951.063625    520.325434\n",
       "min        10.000000     10.000000\n",
       "25%        50.000000     15.000000\n",
       "50%       130.000000     27.000000\n",
       "75%       498.250000     80.000000\n",
       "max    118958.000000  11664.000000"
      ]
     },
     "execution_count": 228,
     "metadata": {},
     "output_type": "execute_result"
    }
   ],
   "source": [
    "nottheonion_df.describe()"
   ]
  },
  {
   "cell_type": "code",
   "execution_count": null,
   "metadata": {
    "ExecuteTime": {
     "end_time": "2021-01-04T11:50:31.811603Z",
     "start_time": "2021-01-04T11:50:22.014Z"
    }
   },
   "outputs": [],
   "source": [
    "# slice nottheonion df to match the shape of uplifting subreddit df\n",
    "nottheonion_df = nottheonion_df.iloc[0:10736]"
   ]
  },
  {
   "cell_type": "code",
   "execution_count": 234,
   "metadata": {
    "ExecuteTime": {
     "end_time": "2021-01-01T22:51:48.346453Z",
     "start_time": "2021-01-01T22:51:48.344563Z"
    }
   },
   "outputs": [
    {
     "data": {
      "text/plain": [
       "(10736, 4)"
      ]
     },
     "execution_count": 234,
     "metadata": {},
     "output_type": "execute_result"
    }
   ],
   "source": [
    "nottheonion_df.shape"
   ]
  },
  {
   "cell_type": "code",
   "execution_count": 279,
   "metadata": {
    "ExecuteTime": {
     "end_time": "2021-01-01T23:21:51.044376Z",
     "start_time": "2021-01-01T23:21:51.025478Z"
    }
   },
   "outputs": [
    {
     "name": "stdout",
     "output_type": "stream",
     "text": [
      "<class 'pandas.core.frame.DataFrame'>\n",
      "RangeIndex: 10736 entries, 0 to 10735\n",
      "Data columns (total 5 columns):\n",
      " #   Column        Non-Null Count  Dtype         \n",
      "---  ------        --------------  -----         \n",
      " 0   datetime      10736 non-null  datetime64[ns]\n",
      " 1   title         10736 non-null  object        \n",
      " 2   score         10736 non-null  int64         \n",
      " 3   num_comments  10736 non-null  int64         \n",
      " 4   title_len     10736 non-null  int64         \n",
      "dtypes: datetime64[ns](1), int64(3), object(1)\n",
      "memory usage: 419.5+ KB\n"
     ]
    }
   ],
   "source": [
    "nottheonion_df.info()"
   ]
  },
  {
   "cell_type": "markdown",
   "metadata": {},
   "source": [
    "## Look at the histograms of features\n"
   ]
  },
  {
   "cell_type": "markdown",
   "metadata": {},
   "source": [
    "### Histogram of score distribution of two subreddits"
   ]
  },
  {
   "cell_type": "code",
   "execution_count": 236,
   "metadata": {
    "ExecuteTime": {
     "end_time": "2021-01-01T22:52:36.769163Z",
     "start_time": "2021-01-01T22:52:31.060756Z"
    },
    "scrolled": true
   },
   "outputs": [
    {
     "data": {
      "text/plain": [
       "(0.0, 1000.0)"
      ]
     },
     "execution_count": 236,
     "metadata": {},
     "output_type": "execute_result"
    },
    {
     "data": {
      "image/png": "[encoded data removed]",
      "text/plain": [
       "<Figure size 432x288 with 1 Axes>"
      ]
     },
     "metadata": {
      "image/png": {
       "height": 261,
       "width": 397
      }
     },
     "output_type": "display_data"
    }
   ],
   "source": [
    "sns.histplot(uplifting_df['score'], bins=5000)\n",
    "plt.xlim(0, 1000)"
   ]
  },
  {
   "cell_type": "code",
   "execution_count": 303,
   "metadata": {
    "ExecuteTime": {
     "end_time": "2021-01-02T01:00:12.881964Z",
     "start_time": "2021-01-02T01:00:08.902360Z"
    },
    "scrolled": true
   },
   "outputs": [
    {
     "data": {
      "text/plain": [
       "(0.0, 1000.0)"
      ]
     },
     "execution_count": 303,
     "metadata": {},
     "output_type": "execute_result"
    },
    {
     "data": {
      "image/png": "[encoded data removed]",
      "text/plain": [
       "<Figure size 432x288 with 1 Axes>"
      ]
     },
     "metadata": {
      "image/png": {
       "height": 261,
       "width": 403
      }
     },
     "output_type": "display_data"
    }
   ],
   "source": [
    "sns.histplot(nottheonion_df['score'], bins=5000, color='lightcoral')\n",
    "plt.xlim(0, 1000)"
   ]
  },
  {
   "cell_type": "markdown",
   "metadata": {},
   "source": [
    "- The distribution of score is wider for UpliftingNews, also there seems to be a lot more number of posts with scores higher than 500."
   ]
  },
  {
   "cell_type": "markdown",
   "metadata": {},
   "source": [
    "\n",
    "Now, I want to see how the length of title vary between the two.\n",
    "\n",
    "### Histogram of title length distribution"
   ]
  },
  {
   "cell_type": "code",
   "execution_count": 264,
   "metadata": {
    "ExecuteTime": {
     "end_time": "2021-01-01T23:12:19.799493Z",
     "start_time": "2021-01-01T23:12:19.780224Z"
    }
   },
   "outputs": [],
   "source": [
    "uplifting_df['title_len'] = uplifting_df['title'].map(lambda x: len(x))"
   ]
  },
  {
   "cell_type": "code",
   "execution_count": 254,
   "metadata": {
    "ExecuteTime": {
     "end_time": "2021-01-01T23:06:51.191237Z",
     "start_time": "2021-01-01T23:06:51.176948Z"
    },
    "run_control": {
     "marked": false
    }
   },
   "outputs": [],
   "source": [
    "# 5 longest posts\n",
    "nottheonion_df['title_len'] = nottheonion_df['title'].map(lambda x: len(x))"
   ]
  },
  {
   "cell_type": "code",
   "execution_count": 269,
   "metadata": {
    "ExecuteTime": {
     "end_time": "2021-01-01T23:14:52.274280Z",
     "start_time": "2021-01-01T23:14:52.094885Z"
    }
   },
   "outputs": [
    {
     "data": {
      "text/plain": [
       "<AxesSubplot:xlabel='title_len', ylabel='Count'>"
      ]
     },
     "execution_count": 269,
     "metadata": {},
     "output_type": "execute_result"
    },
    {
     "data": {
      "image/png": "[encoded data removed]",
      "text/plain": [
       "<Figure size 432x288 with 1 Axes>"
      ]
     },
     "metadata": {
      "image/png": {
       "height": 261,
       "width": 391
      }
     },
     "output_type": "display_data"
    }
   ],
   "source": [
    "sns.histplot(uplifting_df['title_len'], bins=50)"
   ]
  },
  {
   "cell_type": "code",
   "execution_count": 304,
   "metadata": {
    "ExecuteTime": {
     "end_time": "2021-01-02T01:00:44.046774Z",
     "start_time": "2021-01-02T01:00:43.902374Z"
    }
   },
   "outputs": [
    {
     "data": {
      "text/plain": [
       "<AxesSubplot:xlabel='title_len', ylabel='Count'>"
      ]
     },
     "execution_count": 304,
     "metadata": {},
     "output_type": "execute_result"
    },
    {
     "data": {
      "image/png": "[encoded data removed]",
      "text/plain": [
       "<Figure size 432x288 with 1 Axes>"
      ]
     },
     "metadata": {
      "image/png": {
       "height": 261,
       "width": 391
      }
     },
     "output_type": "display_data"
    }
   ],
   "source": [
    "sns.histplot(nottheonion_df['title_len'], bins=50, color='lightcoral')"
   ]
  },
  {
   "cell_type": "markdown",
   "metadata": {},
   "source": [
    "I wanted to see if counting the number of words would make any difference."
   ]
  },
  {
   "cell_type": "code",
   "execution_count": null,
   "metadata": {
    "ExecuteTime": {
     "end_time": "2021-01-01T23:42:44.305125Z",
     "start_time": "2021-01-01T23:42:44.275325Z"
    }
   },
   "outputs": [],
   "source": [
    "uplifting_df['title_word_count'] = uplifting_df['title'].apply(lambda x: len(x.split(\" \")))"
   ]
  },
  {
   "cell_type": "code",
   "execution_count": 192,
   "metadata": {
    "ExecuteTime": {
     "end_time": "2021-01-04T09:30:52.267052Z",
     "start_time": "2021-01-04T09:30:52.243450Z"
    }
   },
   "outputs": [
    {
     "data": {
      "text/plain": [
       "count    10736.000000\n",
       "mean        15.919057\n",
       "std          9.001602\n",
       "min          1.000000\n",
       "25%         10.000000\n",
       "50%         13.000000\n",
       "75%         18.000000\n",
       "max         61.000000\n",
       "Name: title_word_count, dtype: float64"
      ]
     },
     "execution_count": 192,
     "metadata": {},
     "output_type": "execute_result"
    }
   ],
   "source": [
    "uplifting_df['title_word_count'].describe()"
   ]
  },
  {
   "cell_type": "code",
   "execution_count": null,
   "metadata": {
    "ExecuteTime": {
     "end_time": "2021-01-01T23:43:30.992091Z",
     "start_time": "2021-01-01T23:43:30.975078Z"
    }
   },
   "outputs": [],
   "source": [
    "nottheonion_df['title_word_count'] = nottheonion_df['title'].apply(lambda x: len(x.split(\" \")))"
   ]
  },
  {
   "cell_type": "code",
   "execution_count": 193,
   "metadata": {
    "ExecuteTime": {
     "end_time": "2021-01-04T09:31:39.722785Z",
     "start_time": "2021-01-04T09:31:39.710242Z"
    }
   },
   "outputs": [
    {
     "data": {
      "text/plain": [
       "count    10736.000000\n",
       "mean        12.002515\n",
       "std          3.391198\n",
       "min          2.000000\n",
       "25%         10.000000\n",
       "50%         12.000000\n",
       "75%         14.000000\n",
       "max         48.000000\n",
       "Name: title_word_count, dtype: float64"
      ]
     },
     "execution_count": 193,
     "metadata": {},
     "output_type": "execute_result"
    }
   ],
   "source": [
    "nottheonion_df['title_word_count'].describe()"
   ]
  },
  {
   "cell_type": "code",
   "execution_count": 311,
   "metadata": {
    "ExecuteTime": {
     "end_time": "2021-01-02T21:50:19.685994Z",
     "start_time": "2021-01-02T21:50:19.543263Z"
    }
   },
   "outputs": [
    {
     "data": {
      "text/plain": [
       "<AxesSubplot:xlabel='title_word_count', ylabel='Count'>"
      ]
     },
     "execution_count": 311,
     "metadata": {},
     "output_type": "execute_result"
    },
    {
     "data": {
      "image/png": "[encoded data removed]",
      "text/plain": [
       "<Figure size 432x288 with 1 Axes>"
      ]
     },
     "metadata": {
      "image/png": {
       "height": 261,
       "width": 391
      }
     },
     "output_type": "display_data"
    }
   ],
   "source": [
    "sns.histplot(uplifting_df['title_word_count'], bins=40)"
   ]
  },
  {
   "cell_type": "code",
   "execution_count": 310,
   "metadata": {
    "ExecuteTime": {
     "end_time": "2021-01-02T21:49:42.705238Z",
     "start_time": "2021-01-02T21:49:42.538686Z"
    },
    "scrolled": false
   },
   "outputs": [
    {
     "data": {
      "text/plain": [
       "<AxesSubplot:xlabel='title_word_count', ylabel='Count'>"
      ]
     },
     "execution_count": 310,
     "metadata": {},
     "output_type": "execute_result"
    },
    {
     "data": {
      "image/png": "[encoded data removed]",
      "text/plain": [
       "<Figure size 432x288 with 1 Axes>"
      ]
     },
     "metadata": {
      "image/png": {
       "height": 261,
       "width": 395
      }
     },
     "output_type": "display_data"
    }
   ],
   "source": [
    "sns.histplot(nottheonion_df['title_word_count'], bins=40, color='lightcoral')"
   ]
  },
  {
   "cell_type": "markdown",
   "metadata": {},
   "source": [
    "### Histogram of number of comments distribution"
   ]
  },
  {
   "cell_type": "markdown",
   "metadata": {},
   "source": []
  },
  {
   "cell_type": "code",
   "execution_count": 276,
   "metadata": {
    "ExecuteTime": {
     "end_time": "2021-01-01T23:18:49.125495Z",
     "start_time": "2021-01-01T23:18:48.670481Z"
    }
   },
   "outputs": [
    {
     "data": {
      "text/plain": [
       "(0.0, 300.0)"
      ]
     },
     "execution_count": 276,
     "metadata": {},
     "output_type": "execute_result"
    },
    {
     "data": {
      "image/png": "[encoded data removed]",
      "text/plain": [
       "<Figure size 432x288 with 1 Axes>"
      ]
     },
     "metadata": {
      "image/png": {
       "height": 261,
       "width": 400
      }
     },
     "output_type": "display_data"
    }
   ],
   "source": [
    "sns.histplot(uplifting_df['num_comments'], bins=500)\n",
    "plt.xlim(0, 300)"
   ]
  },
  {
   "cell_type": "code",
   "execution_count": 305,
   "metadata": {
    "ExecuteTime": {
     "end_time": "2021-01-02T01:01:15.697611Z",
     "start_time": "2021-01-02T01:01:14.918138Z"
    }
   },
   "outputs": [
    {
     "data": {
      "text/plain": [
       "(0.0, 300.0)"
      ]
     },
     "execution_count": 305,
     "metadata": {},
     "output_type": "execute_result"
    },
    {
     "data": {
      "image/png": "[encoded data removed]",
      "text/plain": [
       "<Figure size 432x288 with 1 Axes>"
      ]
     },
     "metadata": {
      "image/png": {
       "height": 261,
       "width": 400
      }
     },
     "output_type": "display_data"
    }
   ],
   "source": [
    "sns.histplot(nottheonion_df['num_comments'], bins=1000, color='lightcoral')\n",
    "plt.xlim(0, 300)"
   ]
  },
  {
   "cell_type": "markdown",
   "metadata": {},
   "source": [
    "# Conclusion\n",
    "\n",
    "- Histograms reveal wider distribution for UpliftingNews \n",
    "- NottheOnion follows narrower formula for the title and distribution is tighter"
   ]
  },
  {
   "cell_type": "code",
   "execution_count": 71,
   "metadata": {
    "ExecuteTime": {
     "end_time": "2021-01-03T06:32:16.705265Z",
     "start_time": "2021-01-03T06:32:16.627748Z"
    },
    "run_control": {
     "marked": true
    }
   },
   "outputs": [],
   "source": [
    "nottheonion_df.to_csv('nottheonion_df.csv', index=False)"
   ]
  },
  {
   "cell_type": "code",
   "execution_count": 72,
   "metadata": {
    "ExecuteTime": {
     "end_time": "2021-01-03T06:32:17.495923Z",
     "start_time": "2021-01-03T06:32:17.411775Z"
    },
    "run_control": {
     "marked": true
    }
   },
   "outputs": [],
   "source": [
    "uplifting_df.to_csv('uplifting_df.csv', index=False)"
   ]
  },
  {
   "cell_type": "code",
   "execution_count": 4,
   "metadata": {
    "ExecuteTime": {
     "end_time": "2021-01-07T21:57:09.996820Z",
     "start_time": "2021-01-07T21:57:09.951039Z"
    }
   },
   "outputs": [],
   "source": [
    "nottheonion_df = pd.read_csv('nottheonion_df.csv')"
   ]
  },
  {
   "cell_type": "code",
   "execution_count": 5,
   "metadata": {
    "ExecuteTime": {
     "end_time": "2021-01-07T21:57:11.789336Z",
     "start_time": "2021-01-07T21:57:11.740613Z"
    }
   },
   "outputs": [],
   "source": [
    "uplifting_df = pd.read_csv('uplifting_df.csv')"
   ]
  }
 ],
 "metadata": {
  "kernelspec": {
   "display_name": "Python 3",
   "language": "python",
   "name": "python3"
  },
  "language_info": {
   "codemirror_mode": {
    "name": "ipython",
    "version": 3
   },
   "file_extension": ".py",
   "mimetype": "text/x-python",
   "name": "python",
   "nbconvert_exporter": "python",
   "pygments_lexer": "ipython3",
   "version": "3.8.5"
  },
  "toc": {
   "base_numbering": 1,
   "nav_menu": {},
   "number_sections": true,
   "sideBar": true,
   "skip_h1_title": false,
   "title_cell": "Table of Contents",
   "title_sidebar": "Contents",
   "toc_cell": false,
   "toc_position": {
    "height": "853px",
    "left": "49px",
    "top": "110px",
    "width": "279.344px"
   },
   "toc_section_display": true,
   "toc_window_display": true
  },
  "varInspector": {
   "cols": {
    "lenName": 16,
    "lenType": 16,
    "lenVar": 40
   },
   "kernels_config": {
    "python": {
     "delete_cmd_postfix": "",
     "delete_cmd_prefix": "del ",
     "library": "var_list.py",
     "varRefreshCmd": "print(var_dic_list())"
    },
    "r": {
     "delete_cmd_postfix": ") ",
     "delete_cmd_prefix": "rm(",
     "library": "var_list.r",
     "varRefreshCmd": "cat(var_dic_list()) "
    }
   },
   "types_to_exclude": [
    "module",
    "function",
    "builtin_function_or_method",
    "instance",
    "_Feature"
   ],
   "window_display": false
  }
 },
 "nbformat": 4,
 "nbformat_minor": 4
}
